{
 "cells": [
  {
   "cell_type": "code",
   "execution_count": 5,
   "metadata": {},
   "outputs": [],
   "source": [
    "import os\n",
    "import pandas as pd\n",
    "\n",
    "def read_csv_files(folder_path, start_row, end_row, columns):\n",
    "    csv_files = [f for f in os.listdir(folder_path) if f.endswith('.csv')] # alle csv-Dateien im Ordner auswählen\n",
    "    dfs = {} # leeres Dictionary zum Speichern der DataFrames\n",
    "    for file in csv_files:\n",
    "        df = pd.read_csv(os.path.join(folder_path, file)) # CSV-Datei einlesen\n",
    "        filtered_df = df.iloc[start_row:end_row, columns].describe() # DataFrame filtern und beschreiben\n",
    "        dfs[file] = filtered_df # DataFrame zum Dictionary hinzufügen\n",
    "    return dfs # Dictionary zurückgeben\n",
    "\n"
   ]
  },
  {
   "cell_type": "code",
   "execution_count": 6,
   "metadata": {},
   "outputs": [],
   "source": [
    "folder_path = '/Users/jw/Documents/Neue_Fische_Bootcamp/capstone_project_hh_23_1/data/Converted to CSV' # Pfad zum Ordner mit CSV-Dateien\n",
    "start_row = 7 # Startzeile des Bereichs\n",
    "end_row = 10 # Endzeile des Bereichs\n",
    "columns = [0, 1, 2] # Spalten des Bereichs\n",
    "dfs = read_csv_files(folder_path, start_row, end_row, columns) # Aufruf der Funktion und Speichern des Ergebnisses in einem Dictionary\n",
    "for file, df in dfs.items():\n",
    "    print(file) # Dateiname ausgeben\n",
    "    print(df) # DataFrame ausgeben\n"
   ]
  },
  {
   "cell_type": "code",
   "execution_count": 7,
   "metadata": {},
   "outputs": [
    {
     "ename": "NameError",
     "evalue": "name 'file' is not defined",
     "output_type": "error",
     "traceback": [
      "\u001b[0;31m---------------------------------------------------------------------------\u001b[0m",
      "\u001b[0;31mNameError\u001b[0m                                 Traceback (most recent call last)",
      "Cell \u001b[0;32mIn[7], line 1\u001b[0m\n\u001b[0;32m----> 1\u001b[0m \u001b[39mprint\u001b[39m(file) \u001b[39m# Dateiname ausgeben\u001b[39;00m\n\u001b[1;32m      2\u001b[0m \u001b[39mprint\u001b[39m(df)\n",
      "\u001b[0;31mNameError\u001b[0m: name 'file' is not defined"
     ]
    }
   ],
   "source": [
    "print(file) # Dateiname ausgeben\n",
    "print(df) # DataFrame ausgeben\n"
   ]
  }
 ],
 "metadata": {
  "kernelspec": {
   "display_name": "nf_base_clone",
   "language": "python",
   "name": "python3"
  },
  "language_info": {
   "codemirror_mode": {
    "name": "ipython",
    "version": 3
   },
   "file_extension": ".py",
   "mimetype": "text/x-python",
   "name": "python",
   "nbconvert_exporter": "python",
   "pygments_lexer": "ipython3",
   "version": "3.9.16"
  },
  "orig_nbformat": 4,
  "vscode": {
   "interpreter": {
    "hash": "db23f1ae23d52bea7ca3da9ee8336e722f3b7376b4b04183631c49fff294d0d7"
   }
  }
 },
 "nbformat": 4,
 "nbformat_minor": 2
}
