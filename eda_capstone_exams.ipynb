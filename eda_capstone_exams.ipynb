{
 "cells": [
  {
   "cell_type": "code",
   "execution_count": 2,
   "metadata": {},
   "outputs": [],
   "source": [
    "import pandas as pd\n",
    "import matplotlib.pyplot as plt\n",
    "import seaborn as sns\n",
    "plt.style.use('fivethirtyeight')\n",
    "\n",
    "#input custom functions\n",
    "import eda_express\n",
    "import add_year\n",
    "import exams_total"
   ]
  },
  {
   "cell_type": "code",
   "execution_count": 3,
   "metadata": {},
   "outputs": [
    {
     "name": "stderr",
     "output_type": "stream",
     "text": [
      "/Users/kamilkarim/neuefische/capstone_project_hh_23_1/exams_total.py:14: FutureWarning: The default value of regex will change from True to False in a future version. In addition, single character regular expressions will *not* be treated as literal strings when regex=True.\n",
      "  df_copy.iloc[:, 1:] = df_copy.iloc[:, 1:].apply(lambda x: x.str.replace('.', ''))\n",
      "/Users/kamilkarim/neuefische/capstone_project_hh_23_1/exams_total.py:25: FutureWarning: In a future version, `df.iloc[:, i] = newvals` will attempt to set the values inplace instead of always setting a new array. To retain the old behavior, use either `df[df.columns[i]] = newvals` or, if columns are non-unique, `df.isetitem(i, newvals)`\n",
      "  df_copy.iloc[:, 1:] = df_copy.iloc[:, 1:].astype(int)\n"
     ]
    },
    {
     "data": {
      "text/html": [
       "<div>\n",
       "<style scoped>\n",
       "    .dataframe tbody tr th:only-of-type {\n",
       "        vertical-align: middle;\n",
       "    }\n",
       "\n",
       "    .dataframe tbody tr th {\n",
       "        vertical-align: top;\n",
       "    }\n",
       "\n",
       "    .dataframe thead th {\n",
       "        text-align: right;\n",
       "    }\n",
       "</style>\n",
       "<table border=\"1\" class=\"dataframe\">\n",
       "  <thead>\n",
       "    <tr style=\"text-align: right;\">\n",
       "      <th></th>\n",
       "      <th>Totals</th>\n",
       "      <th>BW</th>\n",
       "      <th>BY</th>\n",
       "      <th>BE</th>\n",
       "      <th>BB</th>\n",
       "      <th>HB</th>\n",
       "      <th>HH</th>\n",
       "      <th>HE</th>\n",
       "      <th>MV</th>\n",
       "      <th>NI</th>\n",
       "      <th>NW</th>\n",
       "      <th>RP</th>\n",
       "      <th>SL</th>\n",
       "      <th>SN</th>\n",
       "      <th>ST</th>\n",
       "      <th>SH</th>\n",
       "      <th>TH</th>\n",
       "    </tr>\n",
       "  </thead>\n",
       "  <tbody>\n",
       "    <tr>\n",
       "      <th>0</th>\n",
       "      <td>Examinations Total</td>\n",
       "      <td>43507</td>\n",
       "      <td>40698</td>\n",
       "      <td>14412</td>\n",
       "      <td>9801</td>\n",
       "      <td>2762</td>\n",
       "      <td>9351</td>\n",
       "      <td>19475</td>\n",
       "      <td>5240</td>\n",
       "      <td>30963</td>\n",
       "      <td>82046</td>\n",
       "      <td>16867</td>\n",
       "      <td>3537</td>\n",
       "      <td>12968</td>\n",
       "      <td>5580</td>\n",
       "      <td>12282</td>\n",
       "      <td>6389</td>\n",
       "    </tr>\n",
       "    <tr>\n",
       "      <th>1</th>\n",
       "      <td>Passed Examinations</td>\n",
       "      <td>42464</td>\n",
       "      <td>39463</td>\n",
       "      <td>13939</td>\n",
       "      <td>9361</td>\n",
       "      <td>2635</td>\n",
       "      <td>9144</td>\n",
       "      <td>18835</td>\n",
       "      <td>4948</td>\n",
       "      <td>30065</td>\n",
       "      <td>79618</td>\n",
       "      <td>16359</td>\n",
       "      <td>3416</td>\n",
       "      <td>12610</td>\n",
       "      <td>5361</td>\n",
       "      <td>11795</td>\n",
       "      <td>6279</td>\n",
       "    </tr>\n",
       "    <tr>\n",
       "      <th>2</th>\n",
       "      <td>Failed Examinations</td>\n",
       "      <td>1043</td>\n",
       "      <td>1235</td>\n",
       "      <td>473</td>\n",
       "      <td>440</td>\n",
       "      <td>127</td>\n",
       "      <td>207</td>\n",
       "      <td>640</td>\n",
       "      <td>292</td>\n",
       "      <td>898</td>\n",
       "      <td>2428</td>\n",
       "      <td>508</td>\n",
       "      <td>121</td>\n",
       "      <td>358</td>\n",
       "      <td>219</td>\n",
       "      <td>487</td>\n",
       "      <td>110</td>\n",
       "    </tr>\n",
       "  </tbody>\n",
       "</table>\n",
       "</div>"
      ],
      "text/plain": [
       "                Totals     BW     BY     BE    BB    HB    HH     HE    MV  \\\n",
       "0   Examinations Total  43507  40698  14412  9801  2762  9351  19475  5240   \n",
       "1  Passed Examinations  42464  39463  13939  9361  2635  9144  18835  4948   \n",
       "2  Failed Examinations   1043   1235    473   440   127   207    640   292   \n",
       "\n",
       "      NI     NW     RP    SL     SN    ST     SH    TH  \n",
       "0  30963  82046  16867  3537  12968  5580  12282  6389  \n",
       "1  30065  79618  16359  3416  12610  5361  11795  6279  \n",
       "2    898   2428    508   121    358   219    487   110  "
      ]
     },
     "execution_count": 3,
     "metadata": {},
     "output_type": "execute_result"
    }
   ],
   "source": [
    "exams_2022 = exams_total.read_csv_file('./data/Converted to CSV/Aus_Abiturnoten_2021/Noten-Table 1.csv')\n",
    "exams_2022"
   ]
  },
  {
   "cell_type": "code",
   "execution_count": null,
   "metadata": {},
   "outputs": [],
   "source": [
    "exams_2022.info()"
   ]
  },
  {
   "attachments": {},
   "cell_type": "markdown",
   "metadata": {},
   "source": [
    "Short explanation of the describe measures:\n",
    "- count: Indication of how many values are present in the columns (NaNs/missing values are not counted).\n",
    "- mean: average value of the data\n",
    "- std: standard deviation of the data\n",
    "- min: the smallest value in the data set\n",
    "- 25%: 25 % of the data are below this value\n",
    "- 50%: 50% of the data are below this value. This value is called the median.\n",
    "- 75%: 75% of the data are below this value\n",
    "- max: the largest expression in the data set"
   ]
  },
  {
   "cell_type": "code",
   "execution_count": null,
   "metadata": {},
   "outputs": [],
   "source": [
    "fig, ax = plt.subplots(2,3, figsize=(20,10)) # create subplots on 2 rows and 3 columns\n",
    "plt.suptitle('Distribution of grades', fontsize=20)\n",
    "fig.tight_layout() # tight_layout automatically adjusts subplot params so that the subplot(s) fits in to the figure area\n",
    "plt.subplots_adjust(hspace = .5, wspace = .2, top = .9) # adjusts the space between the single subplots\n",
    "\n",
    "ax[0][0].hist(x=exams_2022['BW'], bins=832)  # creates histogram for number of frequency\n",
    "ax[0][0].set_ylabel(\"No of people by grade\", fontsize = 10) # sets the label y-axis\n",
    "ax[0][0].set_xlim(0,4.000000) # limits the x-axis values from 0 to 1000000 \n",
    "ax[0][0].set_title(\"Totals of Examinations, Passed and Failed\", fontsize = 15);  # sets title for subplot"
   ]
  },
  {
   "cell_type": "code",
   "execution_count": null,
   "metadata": {},
   "outputs": [],
   "source": [
    "fig, ax = plt.subplots(2,3, figsize=(20,10)) # create subplots on 2 rows and 3 columns\n",
    "plt.suptitle('Distribution of grades', fontsize=20)\n",
    "fig.tight_layout() # tight_layout automatically adjusts subplot params so that the subplot(s) fits in to the figure area\n",
    "plt.subplots_adjust(hspace = .5, wspace = .2, top = .9) # adjusts the space between the single subplots\n",
    "\n",
    "ax[0][0].hist(x=exams_2022['BW'], bins=832)  # creates histogram for number of frequency\n",
    "ax[0][0].set_ylabel(\"No of people by grade\", fontsize = 10) # sets the label y-axis\n",
    "ax[0][0].set_xlim(0,4.000000) # limits the x-axis values from 0 to 1000000 \n",
    "ax[0][0].set_title(\"Distribution of views count\", fontsize = 15);  # sets title for subplot\n",
    "\n",
    "\n"
   ]
  },
  {
   "cell_type": "code",
   "execution_count": null,
   "metadata": {},
   "outputs": [],
   "source": [
    "plt.figure(figsize=(15,8)) # specify figure size\n",
    "f1 = sns.barplot(x=exams_2022['Totals'], y=exams_2022['NW']) # create plot\n",
    "f1.tick_params(axis=('both'), rotation=90) # get x-ticks and rotate them\n",
    "f1.set(xlabel=None) # set no label for x-axis\n",
    "f1.set_ylabel(\"Grades\", fontsize = 10); # set label for y-axis\n",
    "f1.set_title('Totals', fontsize=20); # set title"
   ]
  }
 ],
 "metadata": {
  "kernelspec": {
   "display_name": "nf_base",
   "language": "python",
   "name": "python3"
  },
  "language_info": {
   "codemirror_mode": {
    "name": "ipython",
    "version": 3
   },
   "file_extension": ".py",
   "mimetype": "text/x-python",
   "name": "python",
   "nbconvert_exporter": "python",
   "pygments_lexer": "ipython3",
   "version": "3.9.16"
  },
  "orig_nbformat": 4,
  "vscode": {
   "interpreter": {
    "hash": "ab3d85a18739f6fff6a9c8c504adc2ff9340867b576dede986e2ee74c099e4e5"
   }
  }
 },
 "nbformat": 4,
 "nbformat_minor": 2
}
