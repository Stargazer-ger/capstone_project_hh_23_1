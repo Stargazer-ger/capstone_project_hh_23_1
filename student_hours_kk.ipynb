{
 "cells": [
  {
   "cell_type": "markdown",
   "metadata": {},
   "source": [
    "| Data name| In master function |  All years dataframe\n",
    "| -------- | -------- |  -------- | \n",
    "|Schüler/-innen je Lehrkraft | teachers_yyyy| teachers_concat\n",
    "|Anzahl an Lehrkräften | students_per_teacher_yyyy| students_per_teacher_concat\n",
    "|Anzahl an Schülern | students_yyyy| students_concat\n",
    "|Unterichtsstd. Je Schüler\t| hours_per_student_yyyy|hours_per_student_concat\n",
    "|Ausgaben \t| ausgaben_yyyy|ausgaben_concat"
   ]
  },
  {
   "cell_type": "code",
   "execution_count": 110,
   "metadata": {},
   "outputs": [],
   "source": [
    "import pandas as pd\n",
    "import matplotlib.pyplot as plt\n",
    "import seaborn as sns\n",
    "import plotly.express as px \n",
    "#pd.set_option('display.max_rows', None)\n",
    "\n",
    "from master import hours_per_student_concat, exams_concat, students_per_teacher_concat"
   ]
  },
  {
   "attachments": {},
   "cell_type": "markdown",
   "metadata": {},
   "source": [
    "#### Filter students with special needs hours for further analysis"
   ]
  },
  {
   "cell_type": "code",
   "execution_count": 111,
   "metadata": {},
   "outputs": [
    {
     "data": {
      "text/html": [
       "<div>\n",
       "<style scoped>\n",
       "    .dataframe tbody tr th:only-of-type {\n",
       "        vertical-align: middle;\n",
       "    }\n",
       "\n",
       "    .dataframe tbody tr th {\n",
       "        vertical-align: top;\n",
       "    }\n",
       "\n",
       "    .dataframe thead th {\n",
       "        text-align: right;\n",
       "    }\n",
       "</style>\n",
       "<table border=\"1\" class=\"dataframe\">\n",
       "  <thead>\n",
       "    <tr style=\"text-align: right;\">\n",
       "      <th></th>\n",
       "      <th>SchoolType</th>\n",
       "      <th>Baden-Wüttemberg</th>\n",
       "      <th>Bayern</th>\n",
       "      <th>Berlin</th>\n",
       "      <th>Brandenburg</th>\n",
       "      <th>Bremen</th>\n",
       "      <th>Hamburg</th>\n",
       "      <th>Hessen</th>\n",
       "      <th>Mecklenburg-Vorpommern</th>\n",
       "      <th>Niedersachsen</th>\n",
       "      <th>Nordrhein-Westfalen</th>\n",
       "      <th>Rheinland-Pfalz</th>\n",
       "      <th>Saarland</th>\n",
       "      <th>Sachsen</th>\n",
       "      <th>Sachsen-Anhalt</th>\n",
       "      <th>Schleswig-Holstein</th>\n",
       "      <th>Thüringen</th>\n",
       "      <th>Deutschland</th>\n",
       "      <th>Year</th>\n",
       "    </tr>\n",
       "  </thead>\n",
       "  <tbody>\n",
       "    <tr>\n",
       "      <th>0</th>\n",
       "      <td>Allgemeinbildende Schulen</td>\n",
       "      <td>1.713945</td>\n",
       "      <td>1.585794</td>\n",
       "      <td>1.754554</td>\n",
       "      <td>1.770079</td>\n",
       "      <td>1.714481</td>\n",
       "      <td>1.690766</td>\n",
       "      <td>1.648265</td>\n",
       "      <td>1.788607</td>\n",
       "      <td>1.566029</td>\n",
       "      <td>1.523436</td>\n",
       "      <td>1.617019</td>\n",
       "      <td>1.699214</td>\n",
       "      <td>1.782667</td>\n",
       "      <td>1.856108</td>\n",
       "      <td>1.524647</td>\n",
       "      <td>1.830527</td>\n",
       "      <td>1.626870</td>\n",
       "      <td>2011</td>\n",
       "    </tr>\n",
       "    <tr>\n",
       "      <th>1</th>\n",
       "      <td>Förderschulen</td>\n",
       "      <td>5.322422</td>\n",
       "      <td>3.174173</td>\n",
       "      <td>3.976845</td>\n",
       "      <td>4.241515</td>\n",
       "      <td>4.702265</td>\n",
       "      <td>3.895806</td>\n",
       "      <td>4.469091</td>\n",
       "      <td>3.223718</td>\n",
       "      <td>3.733670</td>\n",
       "      <td>4.037930</td>\n",
       "      <td>4.060919</td>\n",
       "      <td>4.326110</td>\n",
       "      <td>3.722410</td>\n",
       "      <td>3.548922</td>\n",
       "      <td>4.031242</td>\n",
       "      <td>3.720916</td>\n",
       "      <td>4.039715</td>\n",
       "      <td>2011</td>\n",
       "    </tr>\n",
       "    <tr>\n",
       "      <th>2</th>\n",
       "      <td>Sekundarstufe I</td>\n",
       "      <td>1.573263</td>\n",
       "      <td>1.560799</td>\n",
       "      <td>1.795453</td>\n",
       "      <td>1.787801</td>\n",
       "      <td>1.664775</td>\n",
       "      <td>1.611509</td>\n",
       "      <td>1.533235</td>\n",
       "      <td>1.830719</td>\n",
       "      <td>1.482593</td>\n",
       "      <td>1.438379</td>\n",
       "      <td>1.466960</td>\n",
       "      <td>1.545581</td>\n",
       "      <td>1.751113</td>\n",
       "      <td>1.772398</td>\n",
       "      <td>1.472075</td>\n",
       "      <td>1.822960</td>\n",
       "      <td>1.549745</td>\n",
       "      <td>2011</td>\n",
       "    </tr>\n",
       "  </tbody>\n",
       "</table>\n",
       "</div>"
      ],
      "text/plain": [
       "                  SchoolType  Baden-Wüttemberg    Bayern    Berlin  \\\n",
       "0  Allgemeinbildende Schulen          1.713945  1.585794  1.754554   \n",
       "1              Förderschulen          5.322422  3.174173  3.976845   \n",
       "2            Sekundarstufe I          1.573263  1.560799  1.795453   \n",
       "\n",
       "   Brandenburg    Bremen   Hamburg    Hessen  Mecklenburg-Vorpommern  \\\n",
       "0     1.770079  1.714481  1.690766  1.648265                1.788607   \n",
       "1     4.241515  4.702265  3.895806  4.469091                3.223718   \n",
       "2     1.787801  1.664775  1.611509  1.533235                1.830719   \n",
       "\n",
       "   Niedersachsen  Nordrhein-Westfalen  Rheinland-Pfalz  Saarland   Sachsen  \\\n",
       "0       1.566029             1.523436         1.617019  1.699214  1.782667   \n",
       "1       3.733670             4.037930         4.060919  4.326110  3.722410   \n",
       "2       1.482593             1.438379         1.466960  1.545581  1.751113   \n",
       "\n",
       "   Sachsen-Anhalt  Schleswig-Holstein  Thüringen  Deutschland  Year  \n",
       "0        1.856108            1.524647   1.830527     1.626870  2011  \n",
       "1        3.548922            4.031242   3.720916     4.039715  2011  \n",
       "2        1.772398            1.472075   1.822960     1.549745  2011  "
      ]
     },
     "execution_count": 111,
     "metadata": {},
     "output_type": "execute_result"
    }
   ],
   "source": [
    "hours_per_student_concat.head(3)"
   ]
  },
  {
   "cell_type": "code",
   "execution_count": 112,
   "metadata": {},
   "outputs": [
    {
     "data": {
      "text/html": [
       "<div>\n",
       "<style scoped>\n",
       "    .dataframe tbody tr th:only-of-type {\n",
       "        vertical-align: middle;\n",
       "    }\n",
       "\n",
       "    .dataframe tbody tr th {\n",
       "        vertical-align: top;\n",
       "    }\n",
       "\n",
       "    .dataframe thead th {\n",
       "        text-align: right;\n",
       "    }\n",
       "</style>\n",
       "<table border=\"1\" class=\"dataframe\">\n",
       "  <thead>\n",
       "    <tr style=\"text-align: right;\">\n",
       "      <th></th>\n",
       "      <th>SchoolType</th>\n",
       "      <th>Baden-Wüttemberg</th>\n",
       "      <th>Bayern</th>\n",
       "      <th>Berlin</th>\n",
       "      <th>Brandenburg</th>\n",
       "      <th>Bremen</th>\n",
       "      <th>Hamburg</th>\n",
       "      <th>Hessen</th>\n",
       "      <th>Mecklenburg-Vorpommern</th>\n",
       "      <th>Niedersachsen</th>\n",
       "      <th>Nordrhein-Westfalen</th>\n",
       "      <th>Rheinland-Pfalz</th>\n",
       "      <th>Saarland</th>\n",
       "      <th>Sachsen</th>\n",
       "      <th>Sachsen-Anhalt</th>\n",
       "      <th>Schleswig-Holstein</th>\n",
       "      <th>Thüringen</th>\n",
       "      <th>Deutschland</th>\n",
       "      <th>Year</th>\n",
       "    </tr>\n",
       "  </thead>\n",
       "  <tbody>\n",
       "    <tr>\n",
       "      <th>1</th>\n",
       "      <td>Förderschulen</td>\n",
       "      <td>5.322422</td>\n",
       "      <td>3.174173</td>\n",
       "      <td>3.976845</td>\n",
       "      <td>4.241515</td>\n",
       "      <td>4.702265</td>\n",
       "      <td>3.895806</td>\n",
       "      <td>4.469091</td>\n",
       "      <td>3.223718</td>\n",
       "      <td>3.733670</td>\n",
       "      <td>4.037930</td>\n",
       "      <td>4.060919</td>\n",
       "      <td>4.326110</td>\n",
       "      <td>3.722410</td>\n",
       "      <td>3.548922</td>\n",
       "      <td>4.031242</td>\n",
       "      <td>3.720916</td>\n",
       "      <td>4.039715</td>\n",
       "      <td>2011</td>\n",
       "    </tr>\n",
       "    <tr>\n",
       "      <th>5</th>\n",
       "      <td>Förderschulen</td>\n",
       "      <td>5.403411</td>\n",
       "      <td>3.247547</td>\n",
       "      <td>3.910765</td>\n",
       "      <td>4.310855</td>\n",
       "      <td>5.251629</td>\n",
       "      <td>4.061269</td>\n",
       "      <td>4.130790</td>\n",
       "      <td>3.229463</td>\n",
       "      <td>3.792095</td>\n",
       "      <td>4.149017</td>\n",
       "      <td>4.060364</td>\n",
       "      <td>4.292946</td>\n",
       "      <td>3.693002</td>\n",
       "      <td>3.573094</td>\n",
       "      <td>4.222747</td>\n",
       "      <td>3.696530</td>\n",
       "      <td>4.082579</td>\n",
       "      <td>2012</td>\n",
       "    </tr>\n",
       "    <tr>\n",
       "      <th>9</th>\n",
       "      <td>Förderschulen</td>\n",
       "      <td>5.509200</td>\n",
       "      <td>3.330991</td>\n",
       "      <td>4.089878</td>\n",
       "      <td>4.295465</td>\n",
       "      <td>5.886000</td>\n",
       "      <td>3.977055</td>\n",
       "      <td>4.526066</td>\n",
       "      <td>3.393113</td>\n",
       "      <td>3.849093</td>\n",
       "      <td>4.152384</td>\n",
       "      <td>4.080063</td>\n",
       "      <td>4.250489</td>\n",
       "      <td>3.816398</td>\n",
       "      <td>3.637269</td>\n",
       "      <td>4.245348</td>\n",
       "      <td>3.750099</td>\n",
       "      <td>4.169521</td>\n",
       "      <td>2013</td>\n",
       "    </tr>\n",
       "    <tr>\n",
       "      <th>13</th>\n",
       "      <td>Förderschulen</td>\n",
       "      <td>5.496278</td>\n",
       "      <td>3.356062</td>\n",
       "      <td>3.927277</td>\n",
       "      <td>4.359644</td>\n",
       "      <td>6.342965</td>\n",
       "      <td>4.096228</td>\n",
       "      <td>4.807204</td>\n",
       "      <td>3.363989</td>\n",
       "      <td>3.844003</td>\n",
       "      <td>4.185383</td>\n",
       "      <td>4.105652</td>\n",
       "      <td>4.357730</td>\n",
       "      <td>3.767681</td>\n",
       "      <td>3.637913</td>\n",
       "      <td>4.416723</td>\n",
       "      <td>3.763306</td>\n",
       "      <td>4.204423</td>\n",
       "      <td>2014</td>\n",
       "    </tr>\n",
       "    <tr>\n",
       "      <th>17</th>\n",
       "      <td>Förderschulen</td>\n",
       "      <td>5.629201</td>\n",
       "      <td>3.389615</td>\n",
       "      <td>4.121900</td>\n",
       "      <td>4.297695</td>\n",
       "      <td>6.583203</td>\n",
       "      <td>4.170557</td>\n",
       "      <td>4.523093</td>\n",
       "      <td>3.487731</td>\n",
       "      <td>3.912489</td>\n",
       "      <td>4.137084</td>\n",
       "      <td>4.140623</td>\n",
       "      <td>4.625786</td>\n",
       "      <td>3.767511</td>\n",
       "      <td>3.568022</td>\n",
       "      <td>4.601667</td>\n",
       "      <td>3.727839</td>\n",
       "      <td>4.205533</td>\n",
       "      <td>2015</td>\n",
       "    </tr>\n",
       "    <tr>\n",
       "      <th>21</th>\n",
       "      <td>Förderschulen</td>\n",
       "      <td>5.651185</td>\n",
       "      <td>3.422438</td>\n",
       "      <td>4.267716</td>\n",
       "      <td>4.369909</td>\n",
       "      <td>5.199752</td>\n",
       "      <td>4.110346</td>\n",
       "      <td>4.767283</td>\n",
       "      <td>3.466344</td>\n",
       "      <td>4.054035</td>\n",
       "      <td>3.892462</td>\n",
       "      <td>4.040352</td>\n",
       "      <td>4.805001</td>\n",
       "      <td>3.715976</td>\n",
       "      <td>3.581100</td>\n",
       "      <td>4.541393</td>\n",
       "      <td>3.735268</td>\n",
       "      <td>4.180780</td>\n",
       "      <td>2016</td>\n",
       "    </tr>\n",
       "    <tr>\n",
       "      <th>25</th>\n",
       "      <td>Förderschulen</td>\n",
       "      <td>5.547186</td>\n",
       "      <td>3.421052</td>\n",
       "      <td>4.119126</td>\n",
       "      <td>4.447173</td>\n",
       "      <td>5.229203</td>\n",
       "      <td>4.059840</td>\n",
       "      <td>5.006281</td>\n",
       "      <td>3.489530</td>\n",
       "      <td>4.026877</td>\n",
       "      <td>4.103997</td>\n",
       "      <td>4.199318</td>\n",
       "      <td>4.624623</td>\n",
       "      <td>3.709076</td>\n",
       "      <td>3.521768</td>\n",
       "      <td>4.742420</td>\n",
       "      <td>3.648323</td>\n",
       "      <td>4.230849</td>\n",
       "      <td>2017</td>\n",
       "    </tr>\n",
       "    <tr>\n",
       "      <th>29</th>\n",
       "      <td>Förderschulen</td>\n",
       "      <td>5.448255</td>\n",
       "      <td>3.399417</td>\n",
       "      <td>4.045916</td>\n",
       "      <td>4.510069</td>\n",
       "      <td>5.413639</td>\n",
       "      <td>3.610898</td>\n",
       "      <td>5.225442</td>\n",
       "      <td>3.476326</td>\n",
       "      <td>4.042271</td>\n",
       "      <td>4.080739</td>\n",
       "      <td>4.205459</td>\n",
       "      <td>4.643807</td>\n",
       "      <td>3.684263</td>\n",
       "      <td>3.502869</td>\n",
       "      <td>4.838085</td>\n",
       "      <td>3.562452</td>\n",
       "      <td>4.213147</td>\n",
       "      <td>2018</td>\n",
       "    </tr>\n",
       "    <tr>\n",
       "      <th>33</th>\n",
       "      <td>Förderschulen</td>\n",
       "      <td>5.318552</td>\n",
       "      <td>3.439908</td>\n",
       "      <td>4.090233</td>\n",
       "      <td>4.567786</td>\n",
       "      <td>5.547321</td>\n",
       "      <td>4.338998</td>\n",
       "      <td>4.977495</td>\n",
       "      <td>3.472815</td>\n",
       "      <td>4.070773</td>\n",
       "      <td>4.155313</td>\n",
       "      <td>4.176079</td>\n",
       "      <td>4.544993</td>\n",
       "      <td>3.623095</td>\n",
       "      <td>3.435096</td>\n",
       "      <td>4.965702</td>\n",
       "      <td>3.502491</td>\n",
       "      <td>4.211274</td>\n",
       "      <td>2019</td>\n",
       "    </tr>\n",
       "    <tr>\n",
       "      <th>37</th>\n",
       "      <td>Förderschulen</td>\n",
       "      <td>5.316331</td>\n",
       "      <td>3.441905</td>\n",
       "      <td>4.007190</td>\n",
       "      <td>4.562530</td>\n",
       "      <td>6.617706</td>\n",
       "      <td>4.293876</td>\n",
       "      <td>5.352202</td>\n",
       "      <td>3.698889</td>\n",
       "      <td>4.058323</td>\n",
       "      <td>4.036489</td>\n",
       "      <td>4.203956</td>\n",
       "      <td>4.883348</td>\n",
       "      <td>3.457903</td>\n",
       "      <td>3.380769</td>\n",
       "      <td>5.075562</td>\n",
       "      <td>3.406339</td>\n",
       "      <td>4.204639</td>\n",
       "      <td>2020</td>\n",
       "    </tr>\n",
       "    <tr>\n",
       "      <th>41</th>\n",
       "      <td>Förderschulen</td>\n",
       "      <td>5.316193</td>\n",
       "      <td>3.442179</td>\n",
       "      <td>3.914502</td>\n",
       "      <td>4.575598</td>\n",
       "      <td>6.836032</td>\n",
       "      <td>4.395412</td>\n",
       "      <td>5.579455</td>\n",
       "      <td>3.418067</td>\n",
       "      <td>3.989433</td>\n",
       "      <td>4.101540</td>\n",
       "      <td>4.203956</td>\n",
       "      <td>4.684052</td>\n",
       "      <td>3.581867</td>\n",
       "      <td>3.342409</td>\n",
       "      <td>4.765540</td>\n",
       "      <td>3.229640</td>\n",
       "      <td>4.217566</td>\n",
       "      <td>2021</td>\n",
       "    </tr>\n",
       "  </tbody>\n",
       "</table>\n",
       "</div>"
      ],
      "text/plain": [
       "       SchoolType  Baden-Wüttemberg    Bayern    Berlin  Brandenburg  \\\n",
       "1   Förderschulen          5.322422  3.174173  3.976845     4.241515   \n",
       "5   Förderschulen          5.403411  3.247547  3.910765     4.310855   \n",
       "9   Förderschulen          5.509200  3.330991  4.089878     4.295465   \n",
       "13  Förderschulen          5.496278  3.356062  3.927277     4.359644   \n",
       "17  Förderschulen          5.629201  3.389615  4.121900     4.297695   \n",
       "21  Förderschulen          5.651185  3.422438  4.267716     4.369909   \n",
       "25  Förderschulen          5.547186  3.421052  4.119126     4.447173   \n",
       "29  Förderschulen          5.448255  3.399417  4.045916     4.510069   \n",
       "33  Förderschulen          5.318552  3.439908  4.090233     4.567786   \n",
       "37  Förderschulen          5.316331  3.441905  4.007190     4.562530   \n",
       "41  Förderschulen          5.316193  3.442179  3.914502     4.575598   \n",
       "\n",
       "      Bremen   Hamburg    Hessen  Mecklenburg-Vorpommern  Niedersachsen  \\\n",
       "1   4.702265  3.895806  4.469091                3.223718       3.733670   \n",
       "5   5.251629  4.061269  4.130790                3.229463       3.792095   \n",
       "9   5.886000  3.977055  4.526066                3.393113       3.849093   \n",
       "13  6.342965  4.096228  4.807204                3.363989       3.844003   \n",
       "17  6.583203  4.170557  4.523093                3.487731       3.912489   \n",
       "21  5.199752  4.110346  4.767283                3.466344       4.054035   \n",
       "25  5.229203  4.059840  5.006281                3.489530       4.026877   \n",
       "29  5.413639  3.610898  5.225442                3.476326       4.042271   \n",
       "33  5.547321  4.338998  4.977495                3.472815       4.070773   \n",
       "37  6.617706  4.293876  5.352202                3.698889       4.058323   \n",
       "41  6.836032  4.395412  5.579455                3.418067       3.989433   \n",
       "\n",
       "    Nordrhein-Westfalen  Rheinland-Pfalz  Saarland   Sachsen  Sachsen-Anhalt  \\\n",
       "1              4.037930         4.060919  4.326110  3.722410        3.548922   \n",
       "5              4.149017         4.060364  4.292946  3.693002        3.573094   \n",
       "9              4.152384         4.080063  4.250489  3.816398        3.637269   \n",
       "13             4.185383         4.105652  4.357730  3.767681        3.637913   \n",
       "17             4.137084         4.140623  4.625786  3.767511        3.568022   \n",
       "21             3.892462         4.040352  4.805001  3.715976        3.581100   \n",
       "25             4.103997         4.199318  4.624623  3.709076        3.521768   \n",
       "29             4.080739         4.205459  4.643807  3.684263        3.502869   \n",
       "33             4.155313         4.176079  4.544993  3.623095        3.435096   \n",
       "37             4.036489         4.203956  4.883348  3.457903        3.380769   \n",
       "41             4.101540         4.203956  4.684052  3.581867        3.342409   \n",
       "\n",
       "    Schleswig-Holstein  Thüringen  Deutschland  Year  \n",
       "1             4.031242   3.720916     4.039715  2011  \n",
       "5             4.222747   3.696530     4.082579  2012  \n",
       "9             4.245348   3.750099     4.169521  2013  \n",
       "13            4.416723   3.763306     4.204423  2014  \n",
       "17            4.601667   3.727839     4.205533  2015  \n",
       "21            4.541393   3.735268     4.180780  2016  \n",
       "25            4.742420   3.648323     4.230849  2017  \n",
       "29            4.838085   3.562452     4.213147  2018  \n",
       "33            4.965702   3.502491     4.211274  2019  \n",
       "37            5.075562   3.406339     4.204639  2020  \n",
       "41            4.765540   3.229640     4.217566  2021  "
      ]
     },
     "execution_count": 112,
     "metadata": {},
     "output_type": "execute_result"
    }
   ],
   "source": [
    "# Filter by school types\n",
    "school_type = ['Förderschulen']\n",
    "special_hours_per_student = hours_per_student_concat[hours_per_student_concat['SchoolType'].isin(school_type)]\n",
    "special_hours_per_student"
   ]
  },
  {
   "cell_type": "code",
   "execution_count": 113,
   "metadata": {},
   "outputs": [
    {
     "name": "stderr",
     "output_type": "stream",
     "text": [
      "/var/folders/lh/4nwxm20s6c50ws3gs23vtn6r0000gn/T/ipykernel_68856/787732475.py:1: FutureWarning:\n",
      "\n",
      "The default value of numeric_only in DataFrameGroupBy.sum is deprecated. In a future version, numeric_only will default to False. Either specify numeric_only or select only columns which should be valid for the function.\n",
      "\n"
     ]
    }
   ],
   "source": [
    "avg_special_hours_student = special_hours_per_student.groupby('Year').sum().mean().reset_index()\n",
    "avg_special_hours_student.rename(columns={'index':'Federal States',\n",
    "                                        0: 'avg_special_hours_student'}, inplace=True)"
   ]
  },
  {
   "cell_type": "code",
   "execution_count": 114,
   "metadata": {},
   "outputs": [
    {
     "data": {
      "text/html": [
       "<div>\n",
       "<style scoped>\n",
       "    .dataframe tbody tr th:only-of-type {\n",
       "        vertical-align: middle;\n",
       "    }\n",
       "\n",
       "    .dataframe tbody tr th {\n",
       "        vertical-align: top;\n",
       "    }\n",
       "\n",
       "    .dataframe thead th {\n",
       "        text-align: right;\n",
       "    }\n",
       "</style>\n",
       "<table border=\"1\" class=\"dataframe\">\n",
       "  <thead>\n",
       "    <tr style=\"text-align: right;\">\n",
       "      <th></th>\n",
       "      <th>Federal States</th>\n",
       "      <th>avg_special_hours_student</th>\n",
       "    </tr>\n",
       "  </thead>\n",
       "  <tbody>\n",
       "    <tr>\n",
       "      <th>0</th>\n",
       "      <td>Baden-Wüttemberg</td>\n",
       "      <td>5.450747</td>\n",
       "    </tr>\n",
       "    <tr>\n",
       "      <th>1</th>\n",
       "      <td>Bayern</td>\n",
       "      <td>3.369571</td>\n",
       "    </tr>\n",
       "    <tr>\n",
       "      <th>2</th>\n",
       "      <td>Berlin</td>\n",
       "      <td>4.042850</td>\n",
       "    </tr>\n",
       "    <tr>\n",
       "      <th>3</th>\n",
       "      <td>Brandenburg</td>\n",
       "      <td>4.412567</td>\n",
       "    </tr>\n",
       "    <tr>\n",
       "      <th>4</th>\n",
       "      <td>Bremen</td>\n",
       "      <td>5.782701</td>\n",
       "    </tr>\n",
       "    <tr>\n",
       "      <th>5</th>\n",
       "      <td>Hamburg</td>\n",
       "      <td>4.091844</td>\n",
       "    </tr>\n",
       "    <tr>\n",
       "      <th>6</th>\n",
       "      <td>Hessen</td>\n",
       "      <td>4.851309</td>\n",
       "    </tr>\n",
       "    <tr>\n",
       "      <th>7</th>\n",
       "      <td>Mecklenburg-Vorpommern</td>\n",
       "      <td>3.429090</td>\n",
       "    </tr>\n",
       "    <tr>\n",
       "      <th>8</th>\n",
       "      <td>Niedersachsen</td>\n",
       "      <td>3.943006</td>\n",
       "    </tr>\n",
       "    <tr>\n",
       "      <th>9</th>\n",
       "      <td>Nordrhein-Westfalen</td>\n",
       "      <td>4.093849</td>\n",
       "    </tr>\n",
       "    <tr>\n",
       "      <th>10</th>\n",
       "      <td>Rheinland-Pfalz</td>\n",
       "      <td>4.134249</td>\n",
       "    </tr>\n",
       "    <tr>\n",
       "      <th>11</th>\n",
       "      <td>Saarland</td>\n",
       "      <td>4.548990</td>\n",
       "    </tr>\n",
       "    <tr>\n",
       "      <th>12</th>\n",
       "      <td>Sachsen</td>\n",
       "      <td>3.685380</td>\n",
       "    </tr>\n",
       "    <tr>\n",
       "      <th>13</th>\n",
       "      <td>Sachsen-Anhalt</td>\n",
       "      <td>3.520839</td>\n",
       "    </tr>\n",
       "    <tr>\n",
       "      <th>14</th>\n",
       "      <td>Schleswig-Holstein</td>\n",
       "      <td>4.586039</td>\n",
       "    </tr>\n",
       "    <tr>\n",
       "      <th>15</th>\n",
       "      <td>Thüringen</td>\n",
       "      <td>3.613019</td>\n",
       "    </tr>\n",
       "    <tr>\n",
       "      <th>16</th>\n",
       "      <td>Deutschland</td>\n",
       "      <td>4.178184</td>\n",
       "    </tr>\n",
       "  </tbody>\n",
       "</table>\n",
       "</div>"
      ],
      "text/plain": [
       "            Federal States  avg_special_hours_student\n",
       "0         Baden-Wüttemberg                   5.450747\n",
       "1                   Bayern                   3.369571\n",
       "2                   Berlin                   4.042850\n",
       "3              Brandenburg                   4.412567\n",
       "4                   Bremen                   5.782701\n",
       "5                  Hamburg                   4.091844\n",
       "6                   Hessen                   4.851309\n",
       "7   Mecklenburg-Vorpommern                   3.429090\n",
       "8            Niedersachsen                   3.943006\n",
       "9      Nordrhein-Westfalen                   4.093849\n",
       "10         Rheinland-Pfalz                   4.134249\n",
       "11                Saarland                   4.548990\n",
       "12                 Sachsen                   3.685380\n",
       "13          Sachsen-Anhalt                   3.520839\n",
       "14      Schleswig-Holstein                   4.586039\n",
       "15               Thüringen                   3.613019\n",
       "16             Deutschland                   4.178184"
      ]
     },
     "execution_count": 114,
     "metadata": {},
     "output_type": "execute_result"
    }
   ],
   "source": [
    "avg_special_hours_student"
   ]
  },
  {
   "cell_type": "code",
   "execution_count": 115,
   "metadata": {},
   "outputs": [
    {
     "data": {
      "image/png": "[encoded data removed]",
      "text/plain": [
       "<Figure size 1300x700 with 1 Axes>"
      ]
     },
     "metadata": {},
     "output_type": "display_data"
    },
    {
     "data": {
      "image/png": "[encoded data removed]",
      "text/plain": [
       "<Figure size 1300x700 with 1 Axes>"
      ]
     },
     "metadata": {},
     "output_type": "display_data"
    }
   ],
   "source": [
    "# Sort the states based on average Pass Rate\n",
    "top_states_highest = avg_special_hours_student.sort_values('avg_special_hours_student', ascending=False).head(5)\n",
    "top_states_lowest = avg_special_hours_student.sort_values('avg_special_hours_student', ascending=True).head(5)\n",
    "\n",
    "plt.figure(figsize=(13, 7))\n",
    "#plt.rcParams.update({'font.size': 14})\n",
    "# Create a bar chart for top 3 states with highest Pass Rate\n",
    "plt.bar(top_states_highest['Federal States'], top_states_highest['avg_special_hours_student'], color='#002845')\n",
    "plt.grid(False)  # Add grid lines\n",
    "plt.tick_params(axis='x')#, rotation=75)\n",
    "#plt.xlabel('State')\n",
    "plt.ylabel('Highest Students-Teacher Ratio')\n",
    "#plt.title('Top 5 States with Highest Passing Rate in the Last Decade')\n",
    "plt.ylim(bottom=3)  # Set the y-axis lower limit to 0\n",
    "\n",
    "# Add value labels on top of each bar\n",
    "for i, v in enumerate(top_states_highest['avg_special_hours_student']):\n",
    "    plt.text(i, v + 0.1, str(round(v, 2)), ha='center', color='black')\n",
    "plt.show()\n",
    "\n",
    "\n",
    "\n",
    "plt.figure(figsize=(13, 7))\n",
    "# Create a bar chart for top 3 states with lowest Pass Rate\n",
    "plt.bar(top_states_lowest['Federal States'], top_states_lowest['avg_special_hours_student'], color='#002845')\n",
    "plt.grid(False)  # Add grid lines\n",
    "plt.tick_params(axis='x')#, rotation=75)\n",
    "#plt.xlabel('State')\n",
    "plt.ylabel('Least Students-Teacher Ratio')\n",
    "#plt.title('Top 5 States with Highest Failing Rate in the Last Decade')\n",
    "plt.ylim(bottom=3)  # Set the y-axis lower limit to 0\n",
    "\n",
    "# Add value labels on top of each bar\n",
    "for i, v in enumerate(top_states_lowest['avg_special_hours_student']):\n",
    "    plt.text(i, v + 0.05, str(round(v, 2)), ha='center', color='black')\n",
    "\n",
    "plt.show()"
   ]
  },
  {
   "cell_type": "code",
   "execution_count": 116,
   "metadata": {},
   "outputs": [
    {
     "name": "stderr",
     "output_type": "stream",
     "text": [
      "/var/folders/lh/4nwxm20s6c50ws3gs23vtn6r0000gn/T/ipykernel_68856/2814714317.py:4: SettingWithCopyWarning:\n",
      "\n",
      "\n",
      "A value is trying to be set on a copy of a slice from a DataFrame\n",
      "\n",
      "See the caveats in the documentation: https://pandas.pydata.org/pandas-docs/stable/user_guide/indexing.html#returning-a-view-versus-a-copy\n",
      "\n"
     ]
    }
   ],
   "source": [
    "# Filter by school types\n",
    "school_type = ['Allgemeinbildende Schulen']\n",
    "hours_per_student = hours_per_student_concat[hours_per_student_concat['SchoolType'].isin(school_type)]\n",
    "hours_per_student.drop(columns={'Deutschland'}, inplace=True)"
   ]
  },
  {
   "cell_type": "code",
   "execution_count": 117,
   "metadata": {},
   "outputs": [
    {
     "name": "stderr",
     "output_type": "stream",
     "text": [
      "/var/folders/lh/4nwxm20s6c50ws3gs23vtn6r0000gn/T/ipykernel_68856/2988016197.py:1: FutureWarning:\n",
      "\n",
      "The default value of numeric_only in DataFrameGroupBy.sum is deprecated. In a future version, numeric_only will default to False. Either specify numeric_only or select only columns which should be valid for the function.\n",
      "\n"
     ]
    },
    {
     "data": {
      "text/html": [
       "<div>\n",
       "<style scoped>\n",
       "    .dataframe tbody tr th:only-of-type {\n",
       "        vertical-align: middle;\n",
       "    }\n",
       "\n",
       "    .dataframe tbody tr th {\n",
       "        vertical-align: top;\n",
       "    }\n",
       "\n",
       "    .dataframe thead th {\n",
       "        text-align: right;\n",
       "    }\n",
       "</style>\n",
       "<table border=\"1\" class=\"dataframe\">\n",
       "  <thead>\n",
       "    <tr style=\"text-align: right;\">\n",
       "      <th></th>\n",
       "      <th>Federal States</th>\n",
       "      <th>avg_student_hours</th>\n",
       "    </tr>\n",
       "  </thead>\n",
       "  <tbody>\n",
       "    <tr>\n",
       "      <th>0</th>\n",
       "      <td>Baden-Wüttemberg</td>\n",
       "      <td>1.775810</td>\n",
       "    </tr>\n",
       "    <tr>\n",
       "      <th>1</th>\n",
       "      <td>Bayern</td>\n",
       "      <td>1.640220</td>\n",
       "    </tr>\n",
       "    <tr>\n",
       "      <th>2</th>\n",
       "      <td>Berlin</td>\n",
       "      <td>1.785265</td>\n",
       "    </tr>\n",
       "    <tr>\n",
       "      <th>3</th>\n",
       "      <td>Brandenburg</td>\n",
       "      <td>1.737483</td>\n",
       "    </tr>\n",
       "    <tr>\n",
       "      <th>4</th>\n",
       "      <td>Bremen</td>\n",
       "      <td>1.772158</td>\n",
       "    </tr>\n",
       "    <tr>\n",
       "      <th>5</th>\n",
       "      <td>Hamburg</td>\n",
       "      <td>1.770412</td>\n",
       "    </tr>\n",
       "    <tr>\n",
       "      <th>6</th>\n",
       "      <td>Hessen</td>\n",
       "      <td>1.714893</td>\n",
       "    </tr>\n",
       "    <tr>\n",
       "      <th>7</th>\n",
       "      <td>Mecklenburg-Vorpommern</td>\n",
       "      <td>1.765830</td>\n",
       "    </tr>\n",
       "    <tr>\n",
       "      <th>8</th>\n",
       "      <td>Niedersachsen</td>\n",
       "      <td>1.685601</td>\n",
       "    </tr>\n",
       "    <tr>\n",
       "      <th>9</th>\n",
       "      <td>Nordrhein-Westfalen</td>\n",
       "      <td>1.603504</td>\n",
       "    </tr>\n",
       "    <tr>\n",
       "      <th>10</th>\n",
       "      <td>Rheinland-Pfalz</td>\n",
       "      <td>1.718584</td>\n",
       "    </tr>\n",
       "    <tr>\n",
       "      <th>11</th>\n",
       "      <td>Saarland</td>\n",
       "      <td>1.782509</td>\n",
       "    </tr>\n",
       "    <tr>\n",
       "      <th>12</th>\n",
       "      <td>Sachsen</td>\n",
       "      <td>1.735234</td>\n",
       "    </tr>\n",
       "    <tr>\n",
       "      <th>13</th>\n",
       "      <td>Sachsen-Anhalt</td>\n",
       "      <td>1.730051</td>\n",
       "    </tr>\n",
       "    <tr>\n",
       "      <th>14</th>\n",
       "      <td>Schleswig-Holstein</td>\n",
       "      <td>1.609598</td>\n",
       "    </tr>\n",
       "    <tr>\n",
       "      <th>15</th>\n",
       "      <td>Thüringen</td>\n",
       "      <td>1.728603</td>\n",
       "    </tr>\n",
       "  </tbody>\n",
       "</table>\n",
       "</div>"
      ],
      "text/plain": [
       "            Federal States  avg_student_hours\n",
       "0         Baden-Wüttemberg           1.775810\n",
       "1                   Bayern           1.640220\n",
       "2                   Berlin           1.785265\n",
       "3              Brandenburg           1.737483\n",
       "4                   Bremen           1.772158\n",
       "5                  Hamburg           1.770412\n",
       "6                   Hessen           1.714893\n",
       "7   Mecklenburg-Vorpommern           1.765830\n",
       "8            Niedersachsen           1.685601\n",
       "9      Nordrhein-Westfalen           1.603504\n",
       "10         Rheinland-Pfalz           1.718584\n",
       "11                Saarland           1.782509\n",
       "12                 Sachsen           1.735234\n",
       "13          Sachsen-Anhalt           1.730051\n",
       "14      Schleswig-Holstein           1.609598\n",
       "15               Thüringen           1.728603"
      ]
     },
     "execution_count": 117,
     "metadata": {},
     "output_type": "execute_result"
    }
   ],
   "source": [
    "avg_student_hours = hours_per_student.groupby('Year').sum().mean().reset_index()\n",
    "avg_student_hours.rename(columns={'index':'Federal States',\n",
    "                                        0: 'avg_student_hours'}, inplace=True)\n",
    "avg_student_hours"
   ]
  },
  {
   "cell_type": "code",
   "execution_count": 118,
   "metadata": {},
   "outputs": [
    {
     "data": {
      "image/png": "[encoded data removed]",
      "text/plain": [
       "<Figure size 1300x700 with 1 Axes>"
      ]
     },
     "metadata": {},
     "output_type": "display_data"
    },
    {
     "data": {
      "image/png": "[encoded data removed]",
      "text/plain": [
       "<Figure size 1300x700 with 1 Axes>"
      ]
     },
     "metadata": {},
     "output_type": "display_data"
    }
   ],
   "source": [
    "top_states_highest = avg_student_hours.sort_values('avg_student_hours', ascending=False).head(5)\n",
    "top_states_lowest = avg_student_hours.sort_values('avg_student_hours', ascending=True).head(5)\n",
    "\n",
    "plt.figure(figsize=(13, 7))\n",
    "#plt.rcParams.update({'font.size': 14})\n",
    "plt.bar(top_states_highest['Federal States'], top_states_highest['avg_student_hours'], color='#002845')\n",
    "plt.grid(False)  # Add grid lines\n",
    "plt.tick_params(axis='x')#, rotation=75)\n",
    "#plt.xlabel('State')\n",
    "plt.ylabel('Lesson Hour per Student')\n",
    "plt.title(' ')\n",
    "plt.ylim(bottom=1.5)  # Set the y-axis lower limit to 0\n",
    "\n",
    "# Add value labels on top of each bar\n",
    "for i, v in enumerate(top_states_highest['avg_student_hours']):\n",
    "    plt.text(i, v + 0.01, str(round(v, 2)), ha='center', color='black')\n",
    "plt.show()\n",
    "\n",
    "\n",
    "\n",
    "plt.figure(figsize=(13, 7))\n",
    "plt.bar(top_states_lowest['Federal States'], top_states_lowest['avg_student_hours'], color='#002845')\n",
    "plt.grid(False)  # Add grid lines\n",
    "plt.tick_params(axis='x')#, rotation=75)\n",
    "#plt.xlabel('State')\n",
    "plt.ylabel('Least Student-Teacher Ratio')\n",
    "plt.title(' ')\n",
    "plt.ylim(bottom=1.6)  # Set the y-axis lower limit to 0\n",
    "\n",
    "# Add value labels on top of each bar\n",
    "for i, v in enumerate(top_states_lowest['avg_student_hours']):\n",
    "    plt.text(i, v + 0.05, str(round(v, 2)), ha='center', color='black')\n",
    "\n",
    "plt.show()"
   ]
  },
  {
   "attachments": {},
   "cell_type": "markdown",
   "metadata": {},
   "source": [
    "### Hypothese 2\n",
    "- #### Students in states with longer hours of lesson may experience higher exam passing rate and lower dropouts"
   ]
  },
  {
   "cell_type": "code",
   "execution_count": null,
   "metadata": {},
   "outputs": [],
   "source": [
    "avg_key_indicator = pd"
   ]
  },
  {
   "cell_type": "code",
   "execution_count": 124,
   "metadata": {},
   "outputs": [
    {
     "data": {
      "text/plain": [
       "Text(0.5, 1.0, 'Correlation between pass rate and lesson hours')"
      ]
     },
     "execution_count": 124,
     "metadata": {},
     "output_type": "execute_result"
    },
    {
     "data": {
      "image/png": "[encoded data removed]",
      "text/plain": [
       "<Figure size 1300x700 with 1 Axes>"
      ]
     },
     "metadata": {},
     "output_type": "display_data"
    }
   ],
   "source": [
    "plt.figure(figsize=(13, 7))\n",
    "plt.scatter(data = hypothese2, x = \"avg_student_hours\", y = \"Pass Rate\")\n",
    "plt.xlabel('Lesson hours')\n",
    "plt.ylabel('Exam pass rate')\n",
    "plt.title('Correlation between pass rate and lesson hours', fontsize=17)"
   ]
  },
  {
   "cell_type": "code",
   "execution_count": 125,
   "metadata": {},
   "outputs": [
    {
     "data": {
      "text/plain": [
       "<Figure size 1300x700 with 0 Axes>"
      ]
     },
     "metadata": {},
     "output_type": "display_data"
    },
    {
     "data": {
      "image/png": "[encoded data removed]",
      "text/plain": [
       "<Figure size 500x500 with 1 Axes>"
      ]
     },
     "metadata": {},
     "output_type": "display_data"
    }
   ],
   "source": [
    "plt.figure(figsize=(13, 7))\n",
    "sns.lmplot(data=hypothese2, x=\"avg_student_hours\", y=\"Pass Rate\")\n",
    "plt.grid(True)  # Add grid lines\n",
    "plt.tick_params(axis='x')#, rotation=75)"
   ]
  },
  {
   "cell_type": "code",
   "execution_count": 126,
   "metadata": {},
   "outputs": [
    {
     "data": {
      "text/html": [
       "<div>\n",
       "<style scoped>\n",
       "    .dataframe tbody tr th:only-of-type {\n",
       "        vertical-align: middle;\n",
       "    }\n",
       "\n",
       "    .dataframe tbody tr th {\n",
       "        vertical-align: top;\n",
       "    }\n",
       "\n",
       "    .dataframe thead th {\n",
       "        text-align: right;\n",
       "    }\n",
       "</style>\n",
       "<table border=\"1\" class=\"dataframe\">\n",
       "  <thead>\n",
       "    <tr style=\"text-align: right;\">\n",
       "      <th></th>\n",
       "      <th>federal_states</th>\n",
       "      <th>Pass Rate</th>\n",
       "      <th>avg_student_hours</th>\n",
       "    </tr>\n",
       "  </thead>\n",
       "  <tbody>\n",
       "    <tr>\n",
       "      <th>15</th>\n",
       "      <td>Thüringen</td>\n",
       "      <td>98.012456</td>\n",
       "      <td>1.728603</td>\n",
       "    </tr>\n",
       "    <tr>\n",
       "      <th>10</th>\n",
       "      <td>Rheinland-Pfalz</td>\n",
       "      <td>97.562533</td>\n",
       "      <td>1.718584</td>\n",
       "    </tr>\n",
       "    <tr>\n",
       "      <th>0</th>\n",
       "      <td>Baden-Wüttemberg</td>\n",
       "      <td>97.293379</td>\n",
       "      <td>1.775810</td>\n",
       "    </tr>\n",
       "    <tr>\n",
       "      <th>9</th>\n",
       "      <td>Nordrhein-Westfalen</td>\n",
       "      <td>97.111472</td>\n",
       "      <td>1.603504</td>\n",
       "    </tr>\n",
       "    <tr>\n",
       "      <th>11</th>\n",
       "      <td>Saarland</td>\n",
       "      <td>97.068640</td>\n",
       "      <td>1.782509</td>\n",
       "    </tr>\n",
       "  </tbody>\n",
       "</table>\n",
       "</div>"
      ],
      "text/plain": [
       "         federal_states  Pass Rate  avg_student_hours\n",
       "15            Thüringen  98.012456           1.728603\n",
       "10      Rheinland-Pfalz  97.562533           1.718584\n",
       "0      Baden-Wüttemberg  97.293379           1.775810\n",
       "9   Nordrhein-Westfalen  97.111472           1.603504\n",
       "11             Saarland  97.068640           1.782509"
      ]
     },
     "execution_count": 126,
     "metadata": {},
     "output_type": "execute_result"
    }
   ],
   "source": [
    "hypothese2_ploty = hypothese2\n",
    "hypothese2_ploty.rename(columns={'Federal States':'federal_states'}, inplace=True)\n",
    "hypothese2_ploty"
   ]
  },
  {
   "cell_type": "code",
   "execution_count": 127,
   "metadata": {},
   "outputs": [
    {
     "data": {
      "application/vnd.plotly.v1+json": {
       "config": {
        "plotlyServerURL": "https://plot.ly"
       },
       "data": [
        {
         "hovertemplate": "federal_states=Thüringen<br>Pass Rate=%{x}<br>avg_student_hours=%{y}<extra></extra>",
         "legendgroup": "Thüringen",
         "marker": {
          "color": "#636efa",
          "symbol": "circle"
         },
         "mode": "markers",
         "name": "Thüringen",
         "orientation": "v",
         "showlegend": true,
         "type": "scatter",
         "x": [
          98.01245571490328
         ],
         "xaxis": "x",
         "y": [
          1.7286034072172058
         ],
         "yaxis": "y"
        },
        {
         "hovertemplate": "federal_states=Thüringen<extra></extra>",
         "legendgroup": "Thüringen",
         "marker": {
          "color": "#636efa",
          "symbol": "circle"
         },
         "mode": "lines",
         "name": "Thüringen",
         "showlegend": false,
         "type": "scatter",
         "xaxis": "x",
         "yaxis": "y"
        },
        {
         "hovertemplate": "federal_states=Rheinland-Pfalz<br>Pass Rate=%{x}<br>avg_student_hours=%{y}<extra></extra>",
         "legendgroup": "Rheinland-Pfalz",
         "marker": {
          "color": "#EF553B",
          "symbol": "circle"
         },
         "mode": "markers",
         "name": "Rheinland-Pfalz",
         "orientation": "v",
         "showlegend": true,
         "type": "scatter",
         "x": [
          97.56253338088572
         ],
         "xaxis": "x",
         "y": [
          1.7185838825430495
         ],
         "yaxis": "y"
        },
        {
         "hovertemplate": "federal_states=Rheinland-Pfalz<extra></extra>",
         "legendgroup": "Rheinland-Pfalz",
         "marker": {
          "color": "#EF553B",
          "symbol": "circle"
         },
         "mode": "lines",
         "name": "Rheinland-Pfalz",
         "showlegend": false,
         "type": "scatter",
         "xaxis": "x",
         "yaxis": "y"
        },
        {
         "hovertemplate": "federal_states=Baden-Wüttemberg<br>Pass Rate=%{x}<br>avg_student_hours=%{y}<extra></extra>",
         "legendgroup": "Baden-Wüttemberg",
         "marker": {
          "color": "#00cc96",
          "symbol": "circle"
         },
         "mode": "markers",
         "name": "Baden-Wüttemberg",
         "orientation": "v",
         "showlegend": true,
         "type": "scatter",
         "x": [
          97.29337902603291
         ],
         "xaxis": "x",
         "y": [
          1.7758100008512023
         ],
         "yaxis": "y"
        },
        {
         "hovertemplate": "federal_states=Baden-Wüttemberg<extra></extra>",
         "legendgroup": "Baden-Wüttemberg",
         "marker": {
          "color": "#00cc96",
          "symbol": "circle"
         },
         "mode": "lines",
         "name": "Baden-Wüttemberg",
         "showlegend": false,
         "type": "scatter",
         "xaxis": "x",
         "yaxis": "y"
        },
        {
         "hovertemplate": "federal_states=Nordrhein-Westfalen<br>Pass Rate=%{x}<br>avg_student_hours=%{y}<extra></extra>",
         "legendgroup": "Nordrhein-Westfalen",
         "marker": {
          "color": "#ab63fa",
          "symbol": "circle"
         },
         "mode": "markers",
         "name": "Nordrhein-Westfalen",
         "orientation": "v",
         "showlegend": true,
         "type": "scatter",
         "x": [
          97.11147172645582
         ],
         "xaxis": "x",
         "y": [
          1.6035044866499684
         ],
         "yaxis": "y"
        },
        {
         "hovertemplate": "federal_states=Nordrhein-Westfalen<extra></extra>",
         "legendgroup": "Nordrhein-Westfalen",
         "marker": {
          "color": "#ab63fa",
          "symbol": "circle"
         },
         "mode": "lines",
         "name": "Nordrhein-Westfalen",
         "showlegend": false,
         "type": "scatter",
         "xaxis": "x",
         "yaxis": "y"
        },
        {
         "hovertemplate": "federal_states=Saarland<br>Pass Rate=%{x}<br>avg_student_hours=%{y}<extra></extra>",
         "legendgroup": "Saarland",
         "marker": {
          "color": "#FFA15A",
          "symbol": "circle"
         },
         "mode": "markers",
         "name": "Saarland",
         "orientation": "v",
         "showlegend": true,
         "type": "scatter",
         "x": [
          97.06864001241318
         ],
         "xaxis": "x",
         "y": [
          1.7825088095132395
         ],
         "yaxis": "y"
        },
        {
         "hovertemplate": "federal_states=Saarland<extra></extra>",
         "legendgroup": "Saarland",
         "marker": {
          "color": "#FFA15A",
          "symbol": "circle"
         },
         "mode": "lines",
         "name": "Saarland",
         "showlegend": false,
         "type": "scatter",
         "xaxis": "x",
         "yaxis": "y"
        }
       ],
       "layout": {
        "legend": {
         "title": {
          "text": "federal_states"
         },
         "tracegroupgap": 0
        },
        "margin": {
         "t": 60
        },
        "template": {
         "data": {
          "bar": [
           {
            "error_x": {
             "color": "#2a3f5f"
            },
            "error_y": {
             "color": "#2a3f5f"
            },
            "marker": {
             "line": {
              "color": "#E5ECF6",
              "width": 0.5
             },
             "pattern": {
              "fillmode": "overlay",
              "size": 10,
              "solidity": 0.2
             }
            },
            "type": "bar"
           }
          ],
          "barpolar": [
           {
            "marker": {
             "line": {
              "color": "#E5ECF6",
              "width": 0.5
             },
             "pattern": {
              "fillmode": "overlay",
              "size": 10,
              "solidity": 0.2
             }
            },
            "type": "barpolar"
           }
          ],
          "carpet": [
           {
            "aaxis": {
             "endlinecolor": "#2a3f5f",
             "gridcolor": "white",
             "linecolor": "white",
             "minorgridcolor": "white",
             "startlinecolor": "#2a3f5f"
            },
            "baxis": {
             "endlinecolor": "#2a3f5f",
             "gridcolor": "white",
             "linecolor": "white",
             "minorgridcolor": "white",
             "startlinecolor": "#2a3f5f"
            },
            "type": "carpet"
           }
          ],
          "choropleth": [
           {
            "colorbar": {
             "outlinewidth": 0,
             "ticks": ""
            },
            "type": "choropleth"
           }
          ],
          "contour": [
           {
            "colorbar": {
             "outlinewidth": 0,
             "ticks": ""
            },
            "colorscale": [
             [
              0,
              "#0d0887"
             ],
             [
              0.1111111111111111,
              "#46039f"
             ],
             [
              0.2222222222222222,
              "#7201a8"
             ],
             [
              0.3333333333333333,
              "#9c179e"
             ],
             [
              0.4444444444444444,
              "#bd3786"
             ],
             [
              0.5555555555555556,
              "#d8576b"
             ],
             [
              0.6666666666666666,
              "#ed7953"
             ],
             [
              0.7777777777777778,
              "#fb9f3a"
             ],
             [
              0.8888888888888888,
              "#fdca26"
             ],
             [
              1,
              "#f0f921"
             ]
            ],
            "type": "contour"
           }
          ],
          "contourcarpet": [
           {
            "colorbar": {
             "outlinewidth": 0,
             "ticks": ""
            },
            "type": "contourcarpet"
           }
          ],
          "heatmap": [
           {
            "colorbar": {
             "outlinewidth": 0,
             "ticks": ""
            },
            "colorscale": [
             [
              0,
              "#0d0887"
             ],
             [
              0.1111111111111111,
              "#46039f"
             ],
             [
              0.2222222222222222,
              "#7201a8"
             ],
             [
              0.3333333333333333,
              "#9c179e"
             ],
             [
              0.4444444444444444,
              "#bd3786"
             ],
             [
              0.5555555555555556,
              "#d8576b"
             ],
             [
              0.6666666666666666,
              "#ed7953"
             ],
             [
              0.7777777777777778,
              "#fb9f3a"
             ],
             [
              0.8888888888888888,
              "#fdca26"
             ],
             [
              1,
              "#f0f921"
             ]
            ],
            "type": "heatmap"
           }
          ],
          "heatmapgl": [
           {
            "colorbar": {
             "outlinewidth": 0,
             "ticks": ""
            },
            "colorscale": [
             [
              0,
              "#0d0887"
             ],
             [
              0.1111111111111111,
              "#46039f"
             ],
             [
              0.2222222222222222,
              "#7201a8"
             ],
             [
              0.3333333333333333,
              "#9c179e"
             ],
             [
              0.4444444444444444,
              "#bd3786"
             ],
             [
              0.5555555555555556,
              "#d8576b"
             ],
             [
              0.6666666666666666,
              "#ed7953"
             ],
             [
              0.7777777777777778,
              "#fb9f3a"
             ],
             [
              0.8888888888888888,
              "#fdca26"
             ],
             [
              1,
              "#f0f921"
             ]
            ],
            "type": "heatmapgl"
           }
          ],
          "histogram": [
           {
            "marker": {
             "pattern": {
              "fillmode": "overlay",
              "size": 10,
              "solidity": 0.2
             }
            },
            "type": "histogram"
           }
          ],
          "histogram2d": [
           {
            "colorbar": {
             "outlinewidth": 0,
             "ticks": ""
            },
            "colorscale": [
             [
              0,
              "#0d0887"
             ],
             [
              0.1111111111111111,
              "#46039f"
             ],
             [
              0.2222222222222222,
              "#7201a8"
             ],
             [
              0.3333333333333333,
              "#9c179e"
             ],
             [
              0.4444444444444444,
              "#bd3786"
             ],
             [
              0.5555555555555556,
              "#d8576b"
             ],
             [
              0.6666666666666666,
              "#ed7953"
             ],
             [
              0.7777777777777778,
              "#fb9f3a"
             ],
             [
              0.8888888888888888,
              "#fdca26"
             ],
             [
              1,
              "#f0f921"
             ]
            ],
            "type": "histogram2d"
           }
          ],
          "histogram2dcontour": [
           {
            "colorbar": {
             "outlinewidth": 0,
             "ticks": ""
            },
            "colorscale": [
             [
              0,
              "#0d0887"
             ],
             [
              0.1111111111111111,
              "#46039f"
             ],
             [
              0.2222222222222222,
              "#7201a8"
             ],
             [
              0.3333333333333333,
              "#9c179e"
             ],
             [
              0.4444444444444444,
              "#bd3786"
             ],
             [
              0.5555555555555556,
              "#d8576b"
             ],
             [
              0.6666666666666666,
              "#ed7953"
             ],
             [
              0.7777777777777778,
              "#fb9f3a"
             ],
             [
              0.8888888888888888,
              "#fdca26"
             ],
             [
              1,
              "#f0f921"
             ]
            ],
            "type": "histogram2dcontour"
           }
          ],
          "mesh3d": [
           {
            "colorbar": {
             "outlinewidth": 0,
             "ticks": ""
            },
            "type": "mesh3d"
           }
          ],
          "parcoords": [
           {
            "line": {
             "colorbar": {
              "outlinewidth": 0,
              "ticks": ""
             }
            },
            "type": "parcoords"
           }
          ],
          "pie": [
           {
            "automargin": true,
            "type": "pie"
           }
          ],
          "scatter": [
           {
            "fillpattern": {
             "fillmode": "overlay",
             "size": 10,
             "solidity": 0.2
            },
            "type": "scatter"
           }
          ],
          "scatter3d": [
           {
            "line": {
             "colorbar": {
              "outlinewidth": 0,
              "ticks": ""
             }
            },
            "marker": {
             "colorbar": {
              "outlinewidth": 0,
              "ticks": ""
             }
            },
            "type": "scatter3d"
           }
          ],
          "scattercarpet": [
           {
            "marker": {
             "colorbar": {
              "outlinewidth": 0,
              "ticks": ""
             }
            },
            "type": "scattercarpet"
           }
          ],
          "scattergeo": [
           {
            "marker": {
             "colorbar": {
              "outlinewidth": 0,
              "ticks": ""
             }
            },
            "type": "scattergeo"
           }
          ],
          "scattergl": [
           {
            "marker": {
             "colorbar": {
              "outlinewidth": 0,
              "ticks": ""
             }
            },
            "type": "scattergl"
           }
          ],
          "scattermapbox": [
           {
            "marker": {
             "colorbar": {
              "outlinewidth": 0,
              "ticks": ""
             }
            },
            "type": "scattermapbox"
           }
          ],
          "scatterpolar": [
           {
            "marker": {
             "colorbar": {
              "outlinewidth": 0,
              "ticks": ""
             }
            },
            "type": "scatterpolar"
           }
          ],
          "scatterpolargl": [
           {
            "marker": {
             "colorbar": {
              "outlinewidth": 0,
              "ticks": ""
             }
            },
            "type": "scatterpolargl"
           }
          ],
          "scatterternary": [
           {
            "marker": {
             "colorbar": {
              "outlinewidth": 0,
              "ticks": ""
             }
            },
            "type": "scatterternary"
           }
          ],
          "surface": [
           {
            "colorbar": {
             "outlinewidth": 0,
             "ticks": ""
            },
            "colorscale": [
             [
              0,
              "#0d0887"
             ],
             [
              0.1111111111111111,
              "#46039f"
             ],
             [
              0.2222222222222222,
              "#7201a8"
             ],
             [
              0.3333333333333333,
              "#9c179e"
             ],
             [
              0.4444444444444444,
              "#bd3786"
             ],
             [
              0.5555555555555556,
              "#d8576b"
             ],
             [
              0.6666666666666666,
              "#ed7953"
             ],
             [
              0.7777777777777778,
              "#fb9f3a"
             ],
             [
              0.8888888888888888,
              "#fdca26"
             ],
             [
              1,
              "#f0f921"
             ]
            ],
            "type": "surface"
           }
          ],
          "table": [
           {
            "cells": {
             "fill": {
              "color": "#EBF0F8"
             },
             "line": {
              "color": "white"
             }
            },
            "header": {
             "fill": {
              "color": "#C8D4E3"
             },
             "line": {
              "color": "white"
             }
            },
            "type": "table"
           }
          ]
         },
         "layout": {
          "annotationdefaults": {
           "arrowcolor": "#2a3f5f",
           "arrowhead": 0,
           "arrowwidth": 1
          },
          "autotypenumbers": "strict",
          "coloraxis": {
           "colorbar": {
            "outlinewidth": 0,
            "ticks": ""
           }
          },
          "colorscale": {
           "diverging": [
            [
             0,
             "#8e0152"
            ],
            [
             0.1,
             "#c51b7d"
            ],
            [
             0.2,
             "#de77ae"
            ],
            [
             0.3,
             "#f1b6da"
            ],
            [
             0.4,
             "#fde0ef"
            ],
            [
             0.5,
             "#f7f7f7"
            ],
            [
             0.6,
             "#e6f5d0"
            ],
            [
             0.7,
             "#b8e186"
            ],
            [
             0.8,
             "#7fbc41"
            ],
            [
             0.9,
             "#4d9221"
            ],
            [
             1,
             "#276419"
            ]
           ],
           "sequential": [
            [
             0,
             "#0d0887"
            ],
            [
             0.1111111111111111,
             "#46039f"
            ],
            [
             0.2222222222222222,
             "#7201a8"
            ],
            [
             0.3333333333333333,
             "#9c179e"
            ],
            [
             0.4444444444444444,
             "#bd3786"
            ],
            [
             0.5555555555555556,
             "#d8576b"
            ],
            [
             0.6666666666666666,
             "#ed7953"
            ],
            [
             0.7777777777777778,
             "#fb9f3a"
            ],
            [
             0.8888888888888888,
             "#fdca26"
            ],
            [
             1,
             "#f0f921"
            ]
           ],
           "sequentialminus": [
            [
             0,
             "#0d0887"
            ],
            [
             0.1111111111111111,
             "#46039f"
            ],
            [
             0.2222222222222222,
             "#7201a8"
            ],
            [
             0.3333333333333333,
             "#9c179e"
            ],
            [
             0.4444444444444444,
             "#bd3786"
            ],
            [
             0.5555555555555556,
             "#d8576b"
            ],
            [
             0.6666666666666666,
             "#ed7953"
            ],
            [
             0.7777777777777778,
             "#fb9f3a"
            ],
            [
             0.8888888888888888,
             "#fdca26"
            ],
            [
             1,
             "#f0f921"
            ]
           ]
          },
          "colorway": [
           "#636efa",
           "#EF553B",
           "#00cc96",
           "#ab63fa",
           "#FFA15A",
           "#19d3f3",
           "#FF6692",
           "#B6E880",
           "#FF97FF",
           "#FECB52"
          ],
          "font": {
           "color": "#2a3f5f"
          },
          "geo": {
           "bgcolor": "white",
           "lakecolor": "white",
           "landcolor": "#E5ECF6",
           "showlakes": true,
           "showland": true,
           "subunitcolor": "white"
          },
          "hoverlabel": {
           "align": "left"
          },
          "hovermode": "closest",
          "mapbox": {
           "style": "light"
          },
          "paper_bgcolor": "white",
          "plot_bgcolor": "#E5ECF6",
          "polar": {
           "angularaxis": {
            "gridcolor": "white",
            "linecolor": "white",
            "ticks": ""
           },
           "bgcolor": "#E5ECF6",
           "radialaxis": {
            "gridcolor": "white",
            "linecolor": "white",
            "ticks": ""
           }
          },
          "scene": {
           "xaxis": {
            "backgroundcolor": "#E5ECF6",
            "gridcolor": "white",
            "gridwidth": 2,
            "linecolor": "white",
            "showbackground": true,
            "ticks": "",
            "zerolinecolor": "white"
           },
           "yaxis": {
            "backgroundcolor": "#E5ECF6",
            "gridcolor": "white",
            "gridwidth": 2,
            "linecolor": "white",
            "showbackground": true,
            "ticks": "",
            "zerolinecolor": "white"
           },
           "zaxis": {
            "backgroundcolor": "#E5ECF6",
            "gridcolor": "white",
            "gridwidth": 2,
            "linecolor": "white",
            "showbackground": true,
            "ticks": "",
            "zerolinecolor": "white"
           }
          },
          "shapedefaults": {
           "line": {
            "color": "#2a3f5f"
           }
          },
          "ternary": {
           "aaxis": {
            "gridcolor": "white",
            "linecolor": "white",
            "ticks": ""
           },
           "baxis": {
            "gridcolor": "white",
            "linecolor": "white",
            "ticks": ""
           },
           "bgcolor": "#E5ECF6",
           "caxis": {
            "gridcolor": "white",
            "linecolor": "white",
            "ticks": ""
           }
          },
          "title": {
           "x": 0.05
          },
          "xaxis": {
           "automargin": true,
           "gridcolor": "white",
           "linecolor": "white",
           "ticks": "",
           "title": {
            "standoff": 15
           },
           "zerolinecolor": "white",
           "zerolinewidth": 2
          },
          "yaxis": {
           "automargin": true,
           "gridcolor": "white",
           "linecolor": "white",
           "ticks": "",
           "title": {
            "standoff": 15
           },
           "zerolinecolor": "white",
           "zerolinewidth": 2
          }
         }
        },
        "xaxis": {
         "anchor": "y",
         "domain": [
          0,
          1
         ],
         "title": {
          "text": "Pass Rate"
         }
        },
        "yaxis": {
         "anchor": "x",
         "domain": [
          0,
          1
         ],
         "title": {
          "text": "avg_student_hours"
         }
        }
       }
      }
     },
     "metadata": {},
     "output_type": "display_data"
    }
   ],
   "source": [
    "fig = px.scatter(hypothese2_ploty, x='Pass Rate', y='avg_student_hours', color=\"federal_states\", trendline='ols')\n",
    "fig.show()"
   ]
  },
  {
   "cell_type": "code",
   "execution_count": 128,
   "metadata": {},
   "outputs": [
    {
     "name": "stdout",
     "output_type": "stream",
     "text": [
      "                          avg_dropouts_rate  exam pass Rate  \\\n",
      "avg_dropouts_rate                  1.000000       -0.519381   \n",
      "exam pass Rate                    -0.519381        1.000000   \n",
      "avg_student_lesson_hours           0.251228       -0.238441   \n",
      "\n",
      "                          avg_student_lesson_hours  \n",
      "avg_dropouts_rate                         0.251228  \n",
      "exam pass Rate                           -0.238441  \n",
      "avg_student_lesson_hours                  1.000000  \n"
     ]
    },
    {
     "name": "stderr",
     "output_type": "stream",
     "text": [
      "/var/folders/lh/4nwxm20s6c50ws3gs23vtn6r0000gn/T/ipykernel_68856/1883645876.py:25: FutureWarning:\n",
      "\n",
      "The default value of numeric_only in DataFrame.corr is deprecated. In a future version, it will default to False. Select only valid columns or specify the value of numeric_only to silence this warning.\n",
      "\n"
     ]
    },
    {
     "data": {
      "image/png": "[encoded data removed]",
      "text/plain": [
       "<Figure size 1300x700 with 1 Axes>"
      ]
     },
     "metadata": {},
     "output_type": "display_data"
    },
    {
     "data": {
      "image/png": "[encoded data removed]",
      "text/plain": [
       "<Figure size 1300x700 with 1 Axes>"
      ]
     },
     "metadata": {},
     "output_type": "display_data"
    },
    {
     "data": {
      "image/png": "[encoded data removed]",
      "text/plain": [
       "<Figure size 500x500 with 1 Axes>"
      ]
     },
     "metadata": {},
     "output_type": "display_data"
    },
    {
     "data": {
      "image/png": "[encoded data removed]",
      "text/plain": [
       "<Figure size 500x500 with 1 Axes>"
      ]
     },
     "metadata": {},
     "output_type": "display_data"
    },
    {
     "data": {
      "image/png": "[encoded data removed]",
      "text/plain": [
       "<Figure size 500x500 with 1 Axes>"
      ]
     },
     "metadata": {},
     "output_type": "display_data"
    },
    {
     "data": {
      "application/vnd.plotly.v1+json": {
       "config": {
        "plotlyServerURL": "https://plot.ly"
       },
       "data": [
        {
         "hovertemplate": "avg_student_lesson_hours=%{x}<br>exam pass Rate=%{y}<extra></extra>",
         "legendgroup": "",
         "marker": {
          "color": "#636efa",
          "symbol": "circle"
         },
         "mode": "markers",
         "name": "",
         "orientation": "v",
         "showlegend": false,
         "type": "scatter",
         "x": [
          1.77581,
          1.64022,
          1.785265,
          1.737483,
          1.772158,
          1.770412,
          1.714893,
          1.76583,
          1.685601,
          1.603504,
          1.718584,
          1.782509,
          1.735234,
          1.730051,
          1.609598,
          1.728603
         ],
         "xaxis": "x",
         "y": [
          97.293379,
          96.932067,
          95.13188,
          95.70532,
          95.219964,
          96.262581,
          96.762476,
          94.006275,
          95.494601,
          97.111472,
          97.562533,
          97.06864,
          96.851892,
          95.380249,
          96.063307,
          98.012456
         ],
         "yaxis": "y"
        },
        {
         "hovertemplate": "<b>OLS trendline</b><br>exam pass Rate = -4.33348 * avg_student_lesson_hours + 103.767<br>R<sup>2</sup>=0.056854<br><br>avg_student_lesson_hours=%{x}<br>exam pass Rate=%{y} <b>(trend)</b><extra></extra>",
         "legendgroup": "",
         "marker": {
          "color": "#636efa",
          "symbol": "circle"
         },
         "mode": "lines",
         "name": "",
         "showlegend": false,
         "type": "scatter",
         "x": [
          1.603504,
          1.609598,
          1.64022,
          1.685601,
          1.714893,
          1.718584,
          1.728603,
          1.730051,
          1.735234,
          1.737483,
          1.76583,
          1.770412,
          1.772158,
          1.77581,
          1.782509,
          1.785265
         ],
         "xaxis": "x",
         "y": [
          96.81820973372331,
          96.79180153616436,
          96.65910186014693,
          96.46244442440313,
          96.33550827033407,
          96.31951341355855,
          96.27609632603917,
          96.26982145402319,
          96.24736105232512,
          96.23761506671467,
          96.11477404666157,
          96.09491806352814,
          96.08735181591771,
          96.071525964673,
          96.0424960146488,
          96.03055295713774
         ],
         "yaxis": "y"
        }
       ],
       "layout": {
        "legend": {
         "tracegroupgap": 0
        },
        "margin": {
         "t": 60
        },
        "template": {
         "data": {
          "bar": [
           {
            "error_x": {
             "color": "#2a3f5f"
            },
            "error_y": {
             "color": "#2a3f5f"
            },
            "marker": {
             "line": {
              "color": "#E5ECF6",
              "width": 0.5
             },
             "pattern": {
              "fillmode": "overlay",
              "size": 10,
              "solidity": 0.2
             }
            },
            "type": "bar"
           }
          ],
          "barpolar": [
           {
            "marker": {
             "line": {
              "color": "#E5ECF6",
              "width": 0.5
             },
             "pattern": {
              "fillmode": "overlay",
              "size": 10,
              "solidity": 0.2
             }
            },
            "type": "barpolar"
           }
          ],
          "carpet": [
           {
            "aaxis": {
             "endlinecolor": "#2a3f5f",
             "gridcolor": "white",
             "linecolor": "white",
             "minorgridcolor": "white",
             "startlinecolor": "#2a3f5f"
            },
            "baxis": {
             "endlinecolor": "#2a3f5f",
             "gridcolor": "white",
             "linecolor": "white",
             "minorgridcolor": "white",
             "startlinecolor": "#2a3f5f"
            },
            "type": "carpet"
           }
          ],
          "choropleth": [
           {
            "colorbar": {
             "outlinewidth": 0,
             "ticks": ""
            },
            "type": "choropleth"
           }
          ],
          "contour": [
           {
            "colorbar": {
             "outlinewidth": 0,
             "ticks": ""
            },
            "colorscale": [
             [
              0,
              "#0d0887"
             ],
             [
              0.1111111111111111,
              "#46039f"
             ],
             [
              0.2222222222222222,
              "#7201a8"
             ],
             [
              0.3333333333333333,
              "#9c179e"
             ],
             [
              0.4444444444444444,
              "#bd3786"
             ],
             [
              0.5555555555555556,
              "#d8576b"
             ],
             [
              0.6666666666666666,
              "#ed7953"
             ],
             [
              0.7777777777777778,
              "#fb9f3a"
             ],
             [
              0.8888888888888888,
              "#fdca26"
             ],
             [
              1,
              "#f0f921"
             ]
            ],
            "type": "contour"
           }
          ],
          "contourcarpet": [
           {
            "colorbar": {
             "outlinewidth": 0,
             "ticks": ""
            },
            "type": "contourcarpet"
           }
          ],
          "heatmap": [
           {
            "colorbar": {
             "outlinewidth": 0,
             "ticks": ""
            },
            "colorscale": [
             [
              0,
              "#0d0887"
             ],
             [
              0.1111111111111111,
              "#46039f"
             ],
             [
              0.2222222222222222,
              "#7201a8"
             ],
             [
              0.3333333333333333,
              "#9c179e"
             ],
             [
              0.4444444444444444,
              "#bd3786"
             ],
             [
              0.5555555555555556,
              "#d8576b"
             ],
             [
              0.6666666666666666,
              "#ed7953"
             ],
             [
              0.7777777777777778,
              "#fb9f3a"
             ],
             [
              0.8888888888888888,
              "#fdca26"
             ],
             [
              1,
              "#f0f921"
             ]
            ],
            "type": "heatmap"
           }
          ],
          "heatmapgl": [
           {
            "colorbar": {
             "outlinewidth": 0,
             "ticks": ""
            },
            "colorscale": [
             [
              0,
              "#0d0887"
             ],
             [
              0.1111111111111111,
              "#46039f"
             ],
             [
              0.2222222222222222,
              "#7201a8"
             ],
             [
              0.3333333333333333,
              "#9c179e"
             ],
             [
              0.4444444444444444,
              "#bd3786"
             ],
             [
              0.5555555555555556,
              "#d8576b"
             ],
             [
              0.6666666666666666,
              "#ed7953"
             ],
             [
              0.7777777777777778,
              "#fb9f3a"
             ],
             [
              0.8888888888888888,
              "#fdca26"
             ],
             [
              1,
              "#f0f921"
             ]
            ],
            "type": "heatmapgl"
           }
          ],
          "histogram": [
           {
            "marker": {
             "pattern": {
              "fillmode": "overlay",
              "size": 10,
              "solidity": 0.2
             }
            },
            "type": "histogram"
           }
          ],
          "histogram2d": [
           {
            "colorbar": {
             "outlinewidth": 0,
             "ticks": ""
            },
            "colorscale": [
             [
              0,
              "#0d0887"
             ],
             [
              0.1111111111111111,
              "#46039f"
             ],
             [
              0.2222222222222222,
              "#7201a8"
             ],
             [
              0.3333333333333333,
              "#9c179e"
             ],
             [
              0.4444444444444444,
              "#bd3786"
             ],
             [
              0.5555555555555556,
              "#d8576b"
             ],
             [
              0.6666666666666666,
              "#ed7953"
             ],
             [
              0.7777777777777778,
              "#fb9f3a"
             ],
             [
              0.8888888888888888,
              "#fdca26"
             ],
             [
              1,
              "#f0f921"
             ]
            ],
            "type": "histogram2d"
           }
          ],
          "histogram2dcontour": [
           {
            "colorbar": {
             "outlinewidth": 0,
             "ticks": ""
            },
            "colorscale": [
             [
              0,
              "#0d0887"
             ],
             [
              0.1111111111111111,
              "#46039f"
             ],
             [
              0.2222222222222222,
              "#7201a8"
             ],
             [
              0.3333333333333333,
              "#9c179e"
             ],
             [
              0.4444444444444444,
              "#bd3786"
             ],
             [
              0.5555555555555556,
              "#d8576b"
             ],
             [
              0.6666666666666666,
              "#ed7953"
             ],
             [
              0.7777777777777778,
              "#fb9f3a"
             ],
             [
              0.8888888888888888,
              "#fdca26"
             ],
             [
              1,
              "#f0f921"
             ]
            ],
            "type": "histogram2dcontour"
           }
          ],
          "mesh3d": [
           {
            "colorbar": {
             "outlinewidth": 0,
             "ticks": ""
            },
            "type": "mesh3d"
           }
          ],
          "parcoords": [
           {
            "line": {
             "colorbar": {
              "outlinewidth": 0,
              "ticks": ""
             }
            },
            "type": "parcoords"
           }
          ],
          "pie": [
           {
            "automargin": true,
            "type": "pie"
           }
          ],
          "scatter": [
           {
            "fillpattern": {
             "fillmode": "overlay",
             "size": 10,
             "solidity": 0.2
            },
            "type": "scatter"
           }
          ],
          "scatter3d": [
           {
            "line": {
             "colorbar": {
              "outlinewidth": 0,
              "ticks": ""
             }
            },
            "marker": {
             "colorbar": {
              "outlinewidth": 0,
              "ticks": ""
             }
            },
            "type": "scatter3d"
           }
          ],
          "scattercarpet": [
           {
            "marker": {
             "colorbar": {
              "outlinewidth": 0,
              "ticks": ""
             }
            },
            "type": "scattercarpet"
           }
          ],
          "scattergeo": [
           {
            "marker": {
             "colorbar": {
              "outlinewidth": 0,
              "ticks": ""
             }
            },
            "type": "scattergeo"
           }
          ],
          "scattergl": [
           {
            "marker": {
             "colorbar": {
              "outlinewidth": 0,
              "ticks": ""
             }
            },
            "type": "scattergl"
           }
          ],
          "scattermapbox": [
           {
            "marker": {
             "colorbar": {
              "outlinewidth": 0,
              "ticks": ""
             }
            },
            "type": "scattermapbox"
           }
          ],
          "scatterpolar": [
           {
            "marker": {
             "colorbar": {
              "outlinewidth": 0,
              "ticks": ""
             }
            },
            "type": "scatterpolar"
           }
          ],
          "scatterpolargl": [
           {
            "marker": {
             "colorbar": {
              "outlinewidth": 0,
              "ticks": ""
             }
            },
            "type": "scatterpolargl"
           }
          ],
          "scatterternary": [
           {
            "marker": {
             "colorbar": {
              "outlinewidth": 0,
              "ticks": ""
             }
            },
            "type": "scatterternary"
           }
          ],
          "surface": [
           {
            "colorbar": {
             "outlinewidth": 0,
             "ticks": ""
            },
            "colorscale": [
             [
              0,
              "#0d0887"
             ],
             [
              0.1111111111111111,
              "#46039f"
             ],
             [
              0.2222222222222222,
              "#7201a8"
             ],
             [
              0.3333333333333333,
              "#9c179e"
             ],
             [
              0.4444444444444444,
              "#bd3786"
             ],
             [
              0.5555555555555556,
              "#d8576b"
             ],
             [
              0.6666666666666666,
              "#ed7953"
             ],
             [
              0.7777777777777778,
              "#fb9f3a"
             ],
             [
              0.8888888888888888,
              "#fdca26"
             ],
             [
              1,
              "#f0f921"
             ]
            ],
            "type": "surface"
           }
          ],
          "table": [
           {
            "cells": {
             "fill": {
              "color": "#EBF0F8"
             },
             "line": {
              "color": "white"
             }
            },
            "header": {
             "fill": {
              "color": "#C8D4E3"
             },
             "line": {
              "color": "white"
             }
            },
            "type": "table"
           }
          ]
         },
         "layout": {
          "annotationdefaults": {
           "arrowcolor": "#2a3f5f",
           "arrowhead": 0,
           "arrowwidth": 1
          },
          "autotypenumbers": "strict",
          "coloraxis": {
           "colorbar": {
            "outlinewidth": 0,
            "ticks": ""
           }
          },
          "colorscale": {
           "diverging": [
            [
             0,
             "#8e0152"
            ],
            [
             0.1,
             "#c51b7d"
            ],
            [
             0.2,
             "#de77ae"
            ],
            [
             0.3,
             "#f1b6da"
            ],
            [
             0.4,
             "#fde0ef"
            ],
            [
             0.5,
             "#f7f7f7"
            ],
            [
             0.6,
             "#e6f5d0"
            ],
            [
             0.7,
             "#b8e186"
            ],
            [
             0.8,
             "#7fbc41"
            ],
            [
             0.9,
             "#4d9221"
            ],
            [
             1,
             "#276419"
            ]
           ],
           "sequential": [
            [
             0,
             "#0d0887"
            ],
            [
             0.1111111111111111,
             "#46039f"
            ],
            [
             0.2222222222222222,
             "#7201a8"
            ],
            [
             0.3333333333333333,
             "#9c179e"
            ],
            [
             0.4444444444444444,
             "#bd3786"
            ],
            [
             0.5555555555555556,
             "#d8576b"
            ],
            [
             0.6666666666666666,
             "#ed7953"
            ],
            [
             0.7777777777777778,
             "#fb9f3a"
            ],
            [
             0.8888888888888888,
             "#fdca26"
            ],
            [
             1,
             "#f0f921"
            ]
           ],
           "sequentialminus": [
            [
             0,
             "#0d0887"
            ],
            [
             0.1111111111111111,
             "#46039f"
            ],
            [
             0.2222222222222222,
             "#7201a8"
            ],
            [
             0.3333333333333333,
             "#9c179e"
            ],
            [
             0.4444444444444444,
             "#bd3786"
            ],
            [
             0.5555555555555556,
             "#d8576b"
            ],
            [
             0.6666666666666666,
             "#ed7953"
            ],
            [
             0.7777777777777778,
             "#fb9f3a"
            ],
            [
             0.8888888888888888,
             "#fdca26"
            ],
            [
             1,
             "#f0f921"
            ]
           ]
          },
          "colorway": [
           "#636efa",
           "#EF553B",
           "#00cc96",
           "#ab63fa",
           "#FFA15A",
           "#19d3f3",
           "#FF6692",
           "#B6E880",
           "#FF97FF",
           "#FECB52"
          ],
          "font": {
           "color": "#2a3f5f"
          },
          "geo": {
           "bgcolor": "white",
           "lakecolor": "white",
           "landcolor": "#E5ECF6",
           "showlakes": true,
           "showland": true,
           "subunitcolor": "white"
          },
          "hoverlabel": {
           "align": "left"
          },
          "hovermode": "closest",
          "mapbox": {
           "style": "light"
          },
          "paper_bgcolor": "white",
          "plot_bgcolor": "#E5ECF6",
          "polar": {
           "angularaxis": {
            "gridcolor": "white",
            "linecolor": "white",
            "ticks": ""
           },
           "bgcolor": "#E5ECF6",
           "radialaxis": {
            "gridcolor": "white",
            "linecolor": "white",
            "ticks": ""
           }
          },
          "scene": {
           "xaxis": {
            "backgroundcolor": "#E5ECF6",
            "gridcolor": "white",
            "gridwidth": 2,
            "linecolor": "white",
            "showbackground": true,
            "ticks": "",
            "zerolinecolor": "white"
           },
           "yaxis": {
            "backgroundcolor": "#E5ECF6",
            "gridcolor": "white",
            "gridwidth": 2,
            "linecolor": "white",
            "showbackground": true,
            "ticks": "",
            "zerolinecolor": "white"
           },
           "zaxis": {
            "backgroundcolor": "#E5ECF6",
            "gridcolor": "white",
            "gridwidth": 2,
            "linecolor": "white",
            "showbackground": true,
            "ticks": "",
            "zerolinecolor": "white"
           }
          },
          "shapedefaults": {
           "line": {
            "color": "#2a3f5f"
           }
          },
          "ternary": {
           "aaxis": {
            "gridcolor": "white",
            "linecolor": "white",
            "ticks": ""
           },
           "baxis": {
            "gridcolor": "white",
            "linecolor": "white",
            "ticks": ""
           },
           "bgcolor": "#E5ECF6",
           "caxis": {
            "gridcolor": "white",
            "linecolor": "white",
            "ticks": ""
           }
          },
          "title": {
           "x": 0.05
          },
          "xaxis": {
           "automargin": true,
           "gridcolor": "white",
           "linecolor": "white",
           "ticks": "",
           "title": {
            "standoff": 15
           },
           "zerolinecolor": "white",
           "zerolinewidth": 2
          },
          "yaxis": {
           "automargin": true,
           "gridcolor": "white",
           "linecolor": "white",
           "ticks": "",
           "title": {
            "standoff": 15
           },
           "zerolinecolor": "white",
           "zerolinewidth": 2
          }
         }
        },
        "title": {
         "text": "Correlation between Lesson Hours and Exam Pass Rate"
        },
        "xaxis": {
         "anchor": "y",
         "domain": [
          0,
          1
         ],
         "title": {
          "text": "Average Student Lesson Hours"
         }
        },
        "yaxis": {
         "anchor": "x",
         "domain": [
          0,
          1
         ],
         "title": {
          "text": "Exam Pass Rate"
         }
        }
       }
      }
     },
     "metadata": {},
     "output_type": "display_data"
    },
    {
     "data": {
      "application/vnd.plotly.v1+json": {
       "config": {
        "plotlyServerURL": "https://plot.ly"
       },
       "data": [
        {
         "hovertemplate": "avg_student_lesson_hours=%{x}<br>avg_dropouts_rate=%{y}<extra></extra>",
         "legendgroup": "",
         "marker": {
          "color": "#636efa",
          "symbol": "circle"
         },
         "mode": "markers",
         "name": "",
         "orientation": "v",
         "showlegend": false,
         "type": "scatter",
         "x": [
          1.77581,
          1.64022,
          1.785265,
          1.737483,
          1.772158,
          1.770412,
          1.714893,
          1.76583,
          1.685601,
          1.603504,
          1.718584,
          1.782509,
          1.735234,
          1.730051,
          1.609598,
          1.728603
         ],
         "xaxis": "x",
         "y": [
          5.343987,
          4.916763,
          8.069948,
          7.380596,
          6.813686,
          5.868394,
          4.81745,
          9.905997,
          5.7848,
          5.436519,
          6.122299,
          5.897445,
          8.810749,
          10.465883,
          7.617255,
          8.067703
         ],
         "yaxis": "y"
        },
        {
         "hovertemplate": "<b>OLS trendline</b><br>avg_dropouts_rate = 7.39498 * avg_student_lesson_hours + -5.77843<br>R<sup>2</sup>=0.063116<br><br>avg_student_lesson_hours=%{x}<br>avg_dropouts_rate=%{y} <b>(trend)</b><extra></extra>",
         "legendgroup": "",
         "marker": {
          "color": "#636efa",
          "symbol": "circle"
         },
         "mode": "lines",
         "name": "",
         "showlegend": false,
         "type": "scatter",
         "x": [
          1.603504,
          1.609598,
          1.64022,
          1.685601,
          1.714893,
          1.718584,
          1.728603,
          1.730051,
          1.735234,
          1.737483,
          1.76583,
          1.770412,
          1.772158,
          1.77581,
          1.782509,
          1.785265
         ],
         "xaxis": "x",
         "y": [
          6.079455885536798,
          6.124520902896263,
          6.350970026884045,
          6.686561683068799,
          6.903175481640092,
          6.93047035841623,
          7.004560678226614,
          7.015268611462011,
          7.053596800660256,
          7.070228114090096,
          7.279853655128619,
          7.313737460435655,
          7.326649098162864,
          7.353655570659874,
          7.403194551836613,
          7.423575120895145
         ],
         "yaxis": "y"
        }
       ],
       "layout": {
        "legend": {
         "tracegroupgap": 0
        },
        "margin": {
         "t": 60
        },
        "template": {
         "data": {
          "bar": [
           {
            "error_x": {
             "color": "#2a3f5f"
            },
            "error_y": {
             "color": "#2a3f5f"
            },
            "marker": {
             "line": {
              "color": "#E5ECF6",
              "width": 0.5
             },
             "pattern": {
              "fillmode": "overlay",
              "size": 10,
              "solidity": 0.2
             }
            },
            "type": "bar"
           }
          ],
          "barpolar": [
           {
            "marker": {
             "line": {
              "color": "#E5ECF6",
              "width": 0.5
             },
             "pattern": {
              "fillmode": "overlay",
              "size": 10,
              "solidity": 0.2
             }
            },
            "type": "barpolar"
           }
          ],
          "carpet": [
           {
            "aaxis": {
             "endlinecolor": "#2a3f5f",
             "gridcolor": "white",
             "linecolor": "white",
             "minorgridcolor": "white",
             "startlinecolor": "#2a3f5f"
            },
            "baxis": {
             "endlinecolor": "#2a3f5f",
             "gridcolor": "white",
             "linecolor": "white",
             "minorgridcolor": "white",
             "startlinecolor": "#2a3f5f"
            },
            "type": "carpet"
           }
          ],
          "choropleth": [
           {
            "colorbar": {
             "outlinewidth": 0,
             "ticks": ""
            },
            "type": "choropleth"
           }
          ],
          "contour": [
           {
            "colorbar": {
             "outlinewidth": 0,
             "ticks": ""
            },
            "colorscale": [
             [
              0,
              "#0d0887"
             ],
             [
              0.1111111111111111,
              "#46039f"
             ],
             [
              0.2222222222222222,
              "#7201a8"
             ],
             [
              0.3333333333333333,
              "#9c179e"
             ],
             [
              0.4444444444444444,
              "#bd3786"
             ],
             [
              0.5555555555555556,
              "#d8576b"
             ],
             [
              0.6666666666666666,
              "#ed7953"
             ],
             [
              0.7777777777777778,
              "#fb9f3a"
             ],
             [
              0.8888888888888888,
              "#fdca26"
             ],
             [
              1,
              "#f0f921"
             ]
            ],
            "type": "contour"
           }
          ],
          "contourcarpet": [
           {
            "colorbar": {
             "outlinewidth": 0,
             "ticks": ""
            },
            "type": "contourcarpet"
           }
          ],
          "heatmap": [
           {
            "colorbar": {
             "outlinewidth": 0,
             "ticks": ""
            },
            "colorscale": [
             [
              0,
              "#0d0887"
             ],
             [
              0.1111111111111111,
              "#46039f"
             ],
             [
              0.2222222222222222,
              "#7201a8"
             ],
             [
              0.3333333333333333,
              "#9c179e"
             ],
             [
              0.4444444444444444,
              "#bd3786"
             ],
             [
              0.5555555555555556,
              "#d8576b"
             ],
             [
              0.6666666666666666,
              "#ed7953"
             ],
             [
              0.7777777777777778,
              "#fb9f3a"
             ],
             [
              0.8888888888888888,
              "#fdca26"
             ],
             [
              1,
              "#f0f921"
             ]
            ],
            "type": "heatmap"
           }
          ],
          "heatmapgl": [
           {
            "colorbar": {
             "outlinewidth": 0,
             "ticks": ""
            },
            "colorscale": [
             [
              0,
              "#0d0887"
             ],
             [
              0.1111111111111111,
              "#46039f"
             ],
             [
              0.2222222222222222,
              "#7201a8"
             ],
             [
              0.3333333333333333,
              "#9c179e"
             ],
             [
              0.4444444444444444,
              "#bd3786"
             ],
             [
              0.5555555555555556,
              "#d8576b"
             ],
             [
              0.6666666666666666,
              "#ed7953"
             ],
             [
              0.7777777777777778,
              "#fb9f3a"
             ],
             [
              0.8888888888888888,
              "#fdca26"
             ],
             [
              1,
              "#f0f921"
             ]
            ],
            "type": "heatmapgl"
           }
          ],
          "histogram": [
           {
            "marker": {
             "pattern": {
              "fillmode": "overlay",
              "size": 10,
              "solidity": 0.2
             }
            },
            "type": "histogram"
           }
          ],
          "histogram2d": [
           {
            "colorbar": {
             "outlinewidth": 0,
             "ticks": ""
            },
            "colorscale": [
             [
              0,
              "#0d0887"
             ],
             [
              0.1111111111111111,
              "#46039f"
             ],
             [
              0.2222222222222222,
              "#7201a8"
             ],
             [
              0.3333333333333333,
              "#9c179e"
             ],
             [
              0.4444444444444444,
              "#bd3786"
             ],
             [
              0.5555555555555556,
              "#d8576b"
             ],
             [
              0.6666666666666666,
              "#ed7953"
             ],
             [
              0.7777777777777778,
              "#fb9f3a"
             ],
             [
              0.8888888888888888,
              "#fdca26"
             ],
             [
              1,
              "#f0f921"
             ]
            ],
            "type": "histogram2d"
           }
          ],
          "histogram2dcontour": [
           {
            "colorbar": {
             "outlinewidth": 0,
             "ticks": ""
            },
            "colorscale": [
             [
              0,
              "#0d0887"
             ],
             [
              0.1111111111111111,
              "#46039f"
             ],
             [
              0.2222222222222222,
              "#7201a8"
             ],
             [
              0.3333333333333333,
              "#9c179e"
             ],
             [
              0.4444444444444444,
              "#bd3786"
             ],
             [
              0.5555555555555556,
              "#d8576b"
             ],
             [
              0.6666666666666666,
              "#ed7953"
             ],
             [
              0.7777777777777778,
              "#fb9f3a"
             ],
             [
              0.8888888888888888,
              "#fdca26"
             ],
             [
              1,
              "#f0f921"
             ]
            ],
            "type": "histogram2dcontour"
           }
          ],
          "mesh3d": [
           {
            "colorbar": {
             "outlinewidth": 0,
             "ticks": ""
            },
            "type": "mesh3d"
           }
          ],
          "parcoords": [
           {
            "line": {
             "colorbar": {
              "outlinewidth": 0,
              "ticks": ""
             }
            },
            "type": "parcoords"
           }
          ],
          "pie": [
           {
            "automargin": true,
            "type": "pie"
           }
          ],
          "scatter": [
           {
            "fillpattern": {
             "fillmode": "overlay",
             "size": 10,
             "solidity": 0.2
            },
            "type": "scatter"
           }
          ],
          "scatter3d": [
           {
            "line": {
             "colorbar": {
              "outlinewidth": 0,
              "ticks": ""
             }
            },
            "marker": {
             "colorbar": {
              "outlinewidth": 0,
              "ticks": ""
             }
            },
            "type": "scatter3d"
           }
          ],
          "scattercarpet": [
           {
            "marker": {
             "colorbar": {
              "outlinewidth": 0,
              "ticks": ""
             }
            },
            "type": "scattercarpet"
           }
          ],
          "scattergeo": [
           {
            "marker": {
             "colorbar": {
              "outlinewidth": 0,
              "ticks": ""
             }
            },
            "type": "scattergeo"
           }
          ],
          "scattergl": [
           {
            "marker": {
             "colorbar": {
              "outlinewidth": 0,
              "ticks": ""
             }
            },
            "type": "scattergl"
           }
          ],
          "scattermapbox": [
           {
            "marker": {
             "colorbar": {
              "outlinewidth": 0,
              "ticks": ""
             }
            },
            "type": "scattermapbox"
           }
          ],
          "scatterpolar": [
           {
            "marker": {
             "colorbar": {
              "outlinewidth": 0,
              "ticks": ""
             }
            },
            "type": "scatterpolar"
           }
          ],
          "scatterpolargl": [
           {
            "marker": {
             "colorbar": {
              "outlinewidth": 0,
              "ticks": ""
             }
            },
            "type": "scatterpolargl"
           }
          ],
          "scatterternary": [
           {
            "marker": {
             "colorbar": {
              "outlinewidth": 0,
              "ticks": ""
             }
            },
            "type": "scatterternary"
           }
          ],
          "surface": [
           {
            "colorbar": {
             "outlinewidth": 0,
             "ticks": ""
            },
            "colorscale": [
             [
              0,
              "#0d0887"
             ],
             [
              0.1111111111111111,
              "#46039f"
             ],
             [
              0.2222222222222222,
              "#7201a8"
             ],
             [
              0.3333333333333333,
              "#9c179e"
             ],
             [
              0.4444444444444444,
              "#bd3786"
             ],
             [
              0.5555555555555556,
              "#d8576b"
             ],
             [
              0.6666666666666666,
              "#ed7953"
             ],
             [
              0.7777777777777778,
              "#fb9f3a"
             ],
             [
              0.8888888888888888,
              "#fdca26"
             ],
             [
              1,
              "#f0f921"
             ]
            ],
            "type": "surface"
           }
          ],
          "table": [
           {
            "cells": {
             "fill": {
              "color": "#EBF0F8"
             },
             "line": {
              "color": "white"
             }
            },
            "header": {
             "fill": {
              "color": "#C8D4E3"
             },
             "line": {
              "color": "white"
             }
            },
            "type": "table"
           }
          ]
         },
         "layout": {
          "annotationdefaults": {
           "arrowcolor": "#2a3f5f",
           "arrowhead": 0,
           "arrowwidth": 1
          },
          "autotypenumbers": "strict",
          "coloraxis": {
           "colorbar": {
            "outlinewidth": 0,
            "ticks": ""
           }
          },
          "colorscale": {
           "diverging": [
            [
             0,
             "#8e0152"
            ],
            [
             0.1,
             "#c51b7d"
            ],
            [
             0.2,
             "#de77ae"
            ],
            [
             0.3,
             "#f1b6da"
            ],
            [
             0.4,
             "#fde0ef"
            ],
            [
             0.5,
             "#f7f7f7"
            ],
            [
             0.6,
             "#e6f5d0"
            ],
            [
             0.7,
             "#b8e186"
            ],
            [
             0.8,
             "#7fbc41"
            ],
            [
             0.9,
             "#4d9221"
            ],
            [
             1,
             "#276419"
            ]
           ],
           "sequential": [
            [
             0,
             "#0d0887"
            ],
            [
             0.1111111111111111,
             "#46039f"
            ],
            [
             0.2222222222222222,
             "#7201a8"
            ],
            [
             0.3333333333333333,
             "#9c179e"
            ],
            [
             0.4444444444444444,
             "#bd3786"
            ],
            [
             0.5555555555555556,
             "#d8576b"
            ],
            [
             0.6666666666666666,
             "#ed7953"
            ],
            [
             0.7777777777777778,
             "#fb9f3a"
            ],
            [
             0.8888888888888888,
             "#fdca26"
            ],
            [
             1,
             "#f0f921"
            ]
           ],
           "sequentialminus": [
            [
             0,
             "#0d0887"
            ],
            [
             0.1111111111111111,
             "#46039f"
            ],
            [
             0.2222222222222222,
             "#7201a8"
            ],
            [
             0.3333333333333333,
             "#9c179e"
            ],
            [
             0.4444444444444444,
             "#bd3786"
            ],
            [
             0.5555555555555556,
             "#d8576b"
            ],
            [
             0.6666666666666666,
             "#ed7953"
            ],
            [
             0.7777777777777778,
             "#fb9f3a"
            ],
            [
             0.8888888888888888,
             "#fdca26"
            ],
            [
             1,
             "#f0f921"
            ]
           ]
          },
          "colorway": [
           "#636efa",
           "#EF553B",
           "#00cc96",
           "#ab63fa",
           "#FFA15A",
           "#19d3f3",
           "#FF6692",
           "#B6E880",
           "#FF97FF",
           "#FECB52"
          ],
          "font": {
           "color": "#2a3f5f"
          },
          "geo": {
           "bgcolor": "white",
           "lakecolor": "white",
           "landcolor": "#E5ECF6",
           "showlakes": true,
           "showland": true,
           "subunitcolor": "white"
          },
          "hoverlabel": {
           "align": "left"
          },
          "hovermode": "closest",
          "mapbox": {
           "style": "light"
          },
          "paper_bgcolor": "white",
          "plot_bgcolor": "#E5ECF6",
          "polar": {
           "angularaxis": {
            "gridcolor": "white",
            "linecolor": "white",
            "ticks": ""
           },
           "bgcolor": "#E5ECF6",
           "radialaxis": {
            "gridcolor": "white",
            "linecolor": "white",
            "ticks": ""
           }
          },
          "scene": {
           "xaxis": {
            "backgroundcolor": "#E5ECF6",
            "gridcolor": "white",
            "gridwidth": 2,
            "linecolor": "white",
            "showbackground": true,
            "ticks": "",
            "zerolinecolor": "white"
           },
           "yaxis": {
            "backgroundcolor": "#E5ECF6",
            "gridcolor": "white",
            "gridwidth": 2,
            "linecolor": "white",
            "showbackground": true,
            "ticks": "",
            "zerolinecolor": "white"
           },
           "zaxis": {
            "backgroundcolor": "#E5ECF6",
            "gridcolor": "white",
            "gridwidth": 2,
            "linecolor": "white",
            "showbackground": true,
            "ticks": "",
            "zerolinecolor": "white"
           }
          },
          "shapedefaults": {
           "line": {
            "color": "#2a3f5f"
           }
          },
          "ternary": {
           "aaxis": {
            "gridcolor": "white",
            "linecolor": "white",
            "ticks": ""
           },
           "baxis": {
            "gridcolor": "white",
            "linecolor": "white",
            "ticks": ""
           },
           "bgcolor": "#E5ECF6",
           "caxis": {
            "gridcolor": "white",
            "linecolor": "white",
            "ticks": ""
           }
          },
          "title": {
           "x": 0.05
          },
          "xaxis": {
           "automargin": true,
           "gridcolor": "white",
           "linecolor": "white",
           "ticks": "",
           "title": {
            "standoff": 15
           },
           "zerolinecolor": "white",
           "zerolinewidth": 2
          },
          "yaxis": {
           "automargin": true,
           "gridcolor": "white",
           "linecolor": "white",
           "ticks": "",
           "title": {
            "standoff": 15
           },
           "zerolinecolor": "white",
           "zerolinewidth": 2
          }
         }
        },
        "title": {
         "text": "Correlation between Lesson Hours and Dropout Rate"
        },
        "xaxis": {
         "anchor": "y",
         "domain": [
          0,
          1
         ],
         "title": {
          "text": "Average Student Lesson Hours"
         }
        },
        "yaxis": {
         "anchor": "x",
         "domain": [
          0,
          1
         ],
         "title": {
          "text": "Average Dropout Rate"
         }
        }
       }
      }
     },
     "metadata": {},
     "output_type": "display_data"
    }
   ],
   "source": [
    "import pandas as pd\n",
    "import numpy as np\n",
    "import seaborn as sns\n",
    "import matplotlib.pyplot as plt\n",
    "\n",
    "# create the dataframe\n",
    "df = pd.DataFrame({\n",
    "    'Federal States': ['Baden-Württemberg', 'Bayern', 'Berlin', 'Brandenburg', 'Bremen',\n",
    "                       'Hamburg', 'Hessen', 'Mecklenburg-Vorpommern', 'Niedersachsen',\n",
    "                       'Nordrhein-Westfalen', 'Rheinland-Pfalz', 'Saarland', 'Sachsen',\n",
    "                       'Sachsen-Anhalt', 'Schleswig-Holstein', 'Thüringen'],\n",
    "    'avg_dropouts_rate': [5.343987, 4.916763, 8.069948, 7.380596, 6.813686, 5.868394, \n",
    "                          4.81745, 9.905997, 5.7848, 5.436519, 6.122299, 5.897445,\n",
    "                          8.810749, 10.465883, 7.617255, 8.067703],\n",
    "    'exam pass Rate': [97.293379, 96.932067, 95.13188, 95.70532, 95.219964, 96.262581, \n",
    "                       96.762476, 94.006275, 95.494601, 97.111472, 97.562533, 97.06864,\n",
    "                       96.851892, 95.380249, 96.063307, 98.012456],\n",
    "    'avg_student_lesson_hours': [1.77581, 1.64022, 1.785265, 1.737483, 1.772158, \n",
    "                                 1.770412, 1.714893, 1.76583, 1.685601, 1.603504, \n",
    "                                 1.718584, 1.782509, 1.735234, 1.730051, 1.609598, \n",
    "                                 1.728603]\n",
    "})\n",
    "\n",
    "# calculate the correlation coefficients\n",
    "corr = df.corr(method='pearson')\n",
    "print(corr)\n",
    "\n",
    "\n",
    "# plot the data\n",
    "plt.figure(figsize=(13, 7))\n",
    "sns.set_style('darkgrid')\n",
    "sns.barplot(x='avg_student_lesson_hours', y='exam pass Rate', data=df)\n",
    "#sns.lmplot(x='avg_student_lesson_hours', y='exam pass Rate', data=df)\n",
    "plt.xlabel('Average Student Lesson Hours')\n",
    "plt.ylabel('Exam Pass Rate')\n",
    "plt.title('Correlation between Lesson Hours and Exam Pass Rate')\n",
    "plt.show()\n",
    "\n",
    "plt.figure(figsize=(13, 7))\n",
    "sns.barplot(x='avg_student_lesson_hours', y='avg_dropouts_rate', data=df)\n",
    "plt.xlabel('Average Student Lesson Hours')\n",
    "plt.ylabel('Average Dropout Rate')\n",
    "plt.title('Correlation between Lesson Hours and Dropout Rate')\n",
    "plt.show()\n",
    "\n",
    "# Scatterplot with trend line\n",
    "sns.lmplot(x='avg_student_lesson_hours', y='avg_dropouts_rate', data=df)\n",
    "plt.xlabel('Average Student Lesson Hours')\n",
    "plt.ylabel('Average Dropout Rate')\n",
    "plt.title('Correlation between Lesson Hours and Dropout Rate')\n",
    "plt.show()\n",
    "\n",
    "# plot the data with trend lines\n",
    "sns.set_style('darkgrid')\n",
    "sns.lmplot(x='avg_student_lesson_hours', y='exam pass Rate', data=df)\n",
    "plt.xlabel('Average Student Lesson Hours')\n",
    "plt.ylabel('Exam Pass Rate')\n",
    "plt.title('Correlation between Lesson Hours and Exam Pass Rate')\n",
    "plt.show()\n",
    "\n",
    "sns.lmplot(x='avg_student_lesson_hours', y='avg_dropouts_rate', data=df)\n",
    "plt.xlabel('Average Student Lesson Hours')\n",
    "plt.ylabel('Average Dropout Rate')\n",
    "plt.title('Correlation between Lesson Hours and Dropout Rate')\n",
    "plt.show()\n",
    "\n",
    "import plotly.express as px\n",
    "\n",
    "fig1 = px.scatter(df, x='avg_student_lesson_hours', y='exam pass Rate', trendline='ols')\n",
    "fig1.update_layout(title='Correlation between Lesson Hours and Exam Pass Rate', xaxis_title='Average Student Lesson Hours', yaxis_title='Exam Pass Rate')\n",
    "\n",
    "fig2 = px.scatter(df, x='avg_student_lesson_hours', y='avg_dropouts_rate', trendline='ols')\n",
    "fig2.update_layout(title='Correlation between Lesson Hours and Dropout Rate', xaxis_title='Average Student Lesson Hours', yaxis_title='Average Dropout Rate')\n",
    "\n",
    "fig1.show()\n",
    "fig2.show()\n",
    "\n"
   ]
  },
  {
   "cell_type": "code",
   "execution_count": 129,
   "metadata": {},
   "outputs": [
    {
     "name": "stderr",
     "output_type": "stream",
     "text": [
      "/var/folders/lh/4nwxm20s6c50ws3gs23vtn6r0000gn/T/ipykernel_68856/1487081547.py:1: FutureWarning:\n",
      "\n",
      "The default value of numeric_only in DataFrame.corr is deprecated. In a future version, it will default to False. Select only valid columns or specify the value of numeric_only to silence this warning.\n",
      "\n"
     ]
    },
    {
     "data": {
      "text/html": [
       "<div>\n",
       "<style scoped>\n",
       "    .dataframe tbody tr th:only-of-type {\n",
       "        vertical-align: middle;\n",
       "    }\n",
       "\n",
       "    .dataframe tbody tr th {\n",
       "        vertical-align: top;\n",
       "    }\n",
       "\n",
       "    .dataframe thead th {\n",
       "        text-align: right;\n",
       "    }\n",
       "</style>\n",
       "<table border=\"1\" class=\"dataframe\">\n",
       "  <thead>\n",
       "    <tr style=\"text-align: right;\">\n",
       "      <th></th>\n",
       "      <th>avg_dropouts_rate</th>\n",
       "      <th>exam pass Rate</th>\n",
       "      <th>avg_student_lesson_hours</th>\n",
       "    </tr>\n",
       "  </thead>\n",
       "  <tbody>\n",
       "    <tr>\n",
       "      <th>avg_dropouts_rate</th>\n",
       "      <td>1.000000</td>\n",
       "      <td>-0.519381</td>\n",
       "      <td>0.251228</td>\n",
       "    </tr>\n",
       "    <tr>\n",
       "      <th>exam pass Rate</th>\n",
       "      <td>-0.519381</td>\n",
       "      <td>1.000000</td>\n",
       "      <td>-0.238441</td>\n",
       "    </tr>\n",
       "    <tr>\n",
       "      <th>avg_student_lesson_hours</th>\n",
       "      <td>0.251228</td>\n",
       "      <td>-0.238441</td>\n",
       "      <td>1.000000</td>\n",
       "    </tr>\n",
       "  </tbody>\n",
       "</table>\n",
       "</div>"
      ],
      "text/plain": [
       "                          avg_dropouts_rate  exam pass Rate  \\\n",
       "avg_dropouts_rate                  1.000000       -0.519381   \n",
       "exam pass Rate                    -0.519381        1.000000   \n",
       "avg_student_lesson_hours           0.251228       -0.238441   \n",
       "\n",
       "                          avg_student_lesson_hours  \n",
       "avg_dropouts_rate                         0.251228  \n",
       "exam pass Rate                           -0.238441  \n",
       "avg_student_lesson_hours                  1.000000  "
      ]
     },
     "execution_count": 129,
     "metadata": {},
     "output_type": "execute_result"
    }
   ],
   "source": [
    "corr = df.corr(method='pearson')\n",
    "corr"
   ]
  },
  {
   "cell_type": "code",
   "execution_count": 130,
   "metadata": {},
   "outputs": [
    {
     "name": "stderr",
     "output_type": "stream",
     "text": [
      "/var/folders/lh/4nwxm20s6c50ws3gs23vtn6r0000gn/T/ipykernel_68856/4014866372.py:1: FutureWarning:\n",
      "\n",
      "The default value of numeric_only in DataFrame.corr is deprecated. In a future version, it will default to False. Select only valid columns or specify the value of numeric_only to silence this warning.\n",
      "\n"
     ]
    },
    {
     "data": {
      "text/plain": [
       "<AxesSubplot: >"
      ]
     },
     "execution_count": 130,
     "metadata": {},
     "output_type": "execute_result"
    },
    {
     "data": {
      "image/png": "[encoded data removed]",
      "text/plain": [
       "<Figure size 640x480 with 2 Axes>"
      ]
     },
     "metadata": {},
     "output_type": "display_data"
    }
   ],
   "source": [
    "sns.heatmap(df.corr(), annot= True)"
   ]
  }
 ],
 "metadata": {
  "kernelspec": {
   "display_name": "nf_base",
   "language": "python",
   "name": "python3"
  },
  "language_info": {
   "codemirror_mode": {
    "name": "ipython",
    "version": 3
   },
   "file_extension": ".py",
   "mimetype": "text/x-python",
   "name": "python",
   "nbconvert_exporter": "python",
   "pygments_lexer": "ipython3",
   "version": "3.9.16"
  },
  "orig_nbformat": 4
 },
 "nbformat": 4,
 "nbformat_minor": 2
}
