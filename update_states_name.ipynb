{
 "cells": [
  {
   "cell_type": "code",
   "execution_count": 27,
   "metadata": {},
   "outputs": [],
   "source": [
    "import pandas as pd\n",
    "import update_states_name"
   ]
  },
  {
   "cell_type": "code",
   "execution_count": 28,
   "metadata": {},
   "outputs": [],
   "source": [
    "avg_noten_concat_kk = pd.read_csv('./Tableau/avg_noten_concat_kk.csv') # has federal states as columns"
   ]
  },
  {
   "cell_type": "code",
   "execution_count": 29,
   "metadata": {},
   "outputs": [],
   "source": [
    "exams_grades_kk = pd.read_csv('./Tableau/exams_grades_kk.csv') # rename the grades"
   ]
  },
  {
   "cell_type": "code",
   "execution_count": null,
   "metadata": {},
   "outputs": [],
   "source": [
    "dropouts_brd = pd.read_csv('./Tableau/dropouts_brd.csv') #rename columns from numbers"
   ]
  },
  {
   "cell_type": "code",
   "execution_count": 30,
   "metadata": {},
   "outputs": [],
   "source": [
    "de_map = pd.read_csv('./Tableau/de_map.csv')\n",
    "exams_passed_failed = pd.read_csv('./Tableau/exams_passed_failed.csv')\n",
    "state_with_highest_pass_rate_kk = pd.read_csv('./Tableau/state_with_highest_pass_rate_kk.csv')\n",
    "state_with_lowest_pass_rate_kk = pd.read_csv('./Tableau/state_with_lowest_pass_rate_kk.csv')"
   ]
  },
  {
   "cell_type": "code",
   "execution_count": 31,
   "metadata": {},
   "outputs": [],
   "source": [
    "de_map = update_states_name.update_names(de_map)\n",
    "de_map.to_csv('./Tableau/de_map.csv', index=False)"
   ]
  },
  {
   "cell_type": "code",
   "execution_count": 32,
   "metadata": {},
   "outputs": [],
   "source": [
    "exams_passed_failed = update_states_name.update_names(exams_passed_failed)\n",
    "exams_passed_failed.to_csv('./Tableau/exams_passed_failed.csv', index=False)"
   ]
  },
  {
   "cell_type": "code",
   "execution_count": 33,
   "metadata": {},
   "outputs": [],
   "source": [
    "state_with_highest_pass_rate_kk = update_states_name.update_names(state_with_highest_pass_rate_kk)\n",
    "state_with_highest_pass_rate_kk.to_csv('./Tableau/state_with_highest_pass_rate_kk.csv', index=False)"
   ]
  },
  {
   "cell_type": "code",
   "execution_count": 34,
   "metadata": {},
   "outputs": [],
   "source": [
    "state_with_lowest_pass_rate_kk = update_states_name.update_names(state_with_lowest_pass_rate_kk)\n",
    "state_with_lowest_pass_rate_kk.to_csv('./Tableau/state_with_lowest_pass_rate_kk.csv', index=False)"
   ]
  },
  {
   "cell_type": "code",
   "execution_count": 36,
   "metadata": {},
   "outputs": [],
   "source": [
    "exams_grades_kk.rename(columns=\n",
    "                       {'1.0':'Grade 1.0', '1.1':'Grade 1.1', '1.2':'Grade 1.2', '1.3':'Grade 1.3',\n",
    "                        '1.4':'Grade 1.4', '1.5':'Grade 1.5', '1.6':'Grade 1.6', '1.7':'Grade 1.7',\n",
    "                        '1.8':'Grade 1.8', '1.9':'Grade 1.9', '2.0':'Grade 2.0', '2.1':'Grade 2.1',\n",
    "                        '2.2':'Grade 2.2', '2.3':'Grade 2.3', '2.4':'Grade 2.4', '2.5':'Grade 2.5',\n",
    "                        '2.6':'Grade 2.6', '2.7':'Grade 2.7', '2.8':'Grade 2.8', '2.9':'Grade 2.9',\n",
    "                        '3.0':'Grade 3.0', '3.1':'Grade 3.1', '3.2':'Grade 3.2', '3.3':'Grade 3.3',\n",
    "                        '3.4':'Grade 3.4', '3.5':'Grade 3.5', '3.6':'Grade 3.6', '3.7':'Grade 3.7',\n",
    "                        '3.8':'Grade 3.8', '3.9':'Grade 3.9', '4.0':'Grade 4.0'}, inplace=True)\n",
    "exams_grades_kk.to_csv('./Tableau/exams_grades_kk.csv', index=False)"
   ]
  },
  {
   "cell_type": "code",
   "execution_count": 25,
   "metadata": {},
   "outputs": [],
   "source": [
    "# Define a dictionary to map old column names to new column names\n",
    "column_mapping = {'TH': 'Thüringen', 'BW': 'Baden-Wüttemberg', 'BY': 'Bayern', 'BE': 'Berlin',\n",
    "                      'BB': 'Brandenburg', 'HB': 'Bremen', 'HH': 'Hamburg', 'HE': 'Hessen', 'MV': 'Mecklenburg-Vorpommern',\n",
    "                      'NI': 'Niedersachsen', 'NW': 'Nordrhein-Westfalen', 'RP': 'Rheinland-Pfalz',\n",
    "                      'SL': 'Saarland', 'SN': 'Sachsen', 'ST': 'Sachsen-Anhalt', 'SH': 'Schleswig-Holstein'}\n",
    "\n",
    "# Use the rename() method to rename the columns\n",
    "avg_noten_concat_kk.rename(columns=column_mapping, inplace=True)\n",
    "avg_noten_concat_kk.to_csv('./Tableau/avg_noten_concat_kk.csv', index=False)\n"
   ]
  }
 ],
 "metadata": {
  "kernelspec": {
   "display_name": "nf_base",
   "language": "python",
   "name": "python3"
  },
  "language_info": {
   "codemirror_mode": {
    "name": "ipython",
    "version": 3
   },
   "file_extension": ".py",
   "mimetype": "text/x-python",
   "name": "python",
   "nbconvert_exporter": "python",
   "pygments_lexer": "ipython3",
   "version": "3.9.16"
  },
  "orig_nbformat": 4
 },
 "nbformat": 4,
 "nbformat_minor": 2
}
