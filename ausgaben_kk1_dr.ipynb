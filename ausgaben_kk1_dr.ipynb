{
 "cells": [
  {
   "attachments": {},
   "cell_type": "markdown",
   "metadata": {},
   "source": [
    "| Data name| In master function |  All years dataframe\n",
    "| -------- | -------- |  -------- | \n",
    "|Schüler/-innen je Lehrkraft | teachers_yyyy| teachers_concat\n",
    "|Anzahl an Lehrkräften | students_per_teacher_yyyy| students_per_teacher_concat\n",
    "|Anzahl an Schülern | students_yyyy| students_concat\n",
    "|Unterichtsstd. Je Schüler\t| hours_per_student_yyyy|hours_per_student_concat\n",
    "|Ausgaben \t| ausgaben_yyyy|ausgaben_concat"
   ]
  },
  {
   "cell_type": "code",
   "execution_count": 2,
   "metadata": {},
   "outputs": [
    {
     "name": "stderr",
     "output_type": "stream",
     "text": [
      "/Users/david/Documents/capstone_project_hh_23_1/master_dr.py:289: FutureWarning: The default value of regex will change from True to False in a future version. In addition, single character regular expressions will *not* be treated as literal strings when regex=True.\n",
      "  noten_data.iloc[:, 1:] = noten_data.iloc[:, 1:].apply(lambda x: x.str.replace('.', ''))\n",
      "/Users/david/Documents/capstone_project_hh_23_1/master_dr.py:310: FutureWarning: In a future version, `df.iloc[:, i] = newvals` will attempt to set the values inplace instead of always setting a new array. To retain the old behavior, use either `df[df.columns[i]] = newvals` or, if columns are non-unique, `df.isetitem(i, newvals)`\n",
      "  noten_data.iloc[:, 0:] = noten_data.iloc[:, 0:].astype(int)\n",
      "/Users/david/Documents/capstone_project_hh_23_1/master_dr.py:289: FutureWarning: The default value of regex will change from True to False in a future version. In addition, single character regular expressions will *not* be treated as literal strings when regex=True.\n",
      "  noten_data.iloc[:, 1:] = noten_data.iloc[:, 1:].apply(lambda x: x.str.replace('.', ''))\n",
      "/Users/david/Documents/capstone_project_hh_23_1/master_dr.py:310: FutureWarning: In a future version, `df.iloc[:, i] = newvals` will attempt to set the values inplace instead of always setting a new array. To retain the old behavior, use either `df[df.columns[i]] = newvals` or, if columns are non-unique, `df.isetitem(i, newvals)`\n",
      "  noten_data.iloc[:, 0:] = noten_data.iloc[:, 0:].astype(int)\n",
      "/Users/david/Documents/capstone_project_hh_23_1/master_dr.py:289: FutureWarning: The default value of regex will change from True to False in a future version. In addition, single character regular expressions will *not* be treated as literal strings when regex=True.\n",
      "  noten_data.iloc[:, 1:] = noten_data.iloc[:, 1:].apply(lambda x: x.str.replace('.', ''))\n",
      "/Users/david/Documents/capstone_project_hh_23_1/master_dr.py:310: FutureWarning: In a future version, `df.iloc[:, i] = newvals` will attempt to set the values inplace instead of always setting a new array. To retain the old behavior, use either `df[df.columns[i]] = newvals` or, if columns are non-unique, `df.isetitem(i, newvals)`\n",
      "  noten_data.iloc[:, 0:] = noten_data.iloc[:, 0:].astype(int)\n",
      "/Users/david/Documents/capstone_project_hh_23_1/master_dr.py:289: FutureWarning: The default value of regex will change from True to False in a future version. In addition, single character regular expressions will *not* be treated as literal strings when regex=True.\n",
      "  noten_data.iloc[:, 1:] = noten_data.iloc[:, 1:].apply(lambda x: x.str.replace('.', ''))\n",
      "/Users/david/Documents/capstone_project_hh_23_1/master_dr.py:310: FutureWarning: In a future version, `df.iloc[:, i] = newvals` will attempt to set the values inplace instead of always setting a new array. To retain the old behavior, use either `df[df.columns[i]] = newvals` or, if columns are non-unique, `df.isetitem(i, newvals)`\n",
      "  noten_data.iloc[:, 0:] = noten_data.iloc[:, 0:].astype(int)\n",
      "/Users/david/Documents/capstone_project_hh_23_1/master_dr.py:289: FutureWarning: The default value of regex will change from True to False in a future version. In addition, single character regular expressions will *not* be treated as literal strings when regex=True.\n",
      "  noten_data.iloc[:, 1:] = noten_data.iloc[:, 1:].apply(lambda x: x.str.replace('.', ''))\n",
      "/Users/david/Documents/capstone_project_hh_23_1/master_dr.py:310: FutureWarning: In a future version, `df.iloc[:, i] = newvals` will attempt to set the values inplace instead of always setting a new array. To retain the old behavior, use either `df[df.columns[i]] = newvals` or, if columns are non-unique, `df.isetitem(i, newvals)`\n",
      "  noten_data.iloc[:, 0:] = noten_data.iloc[:, 0:].astype(int)\n",
      "/Users/david/Documents/capstone_project_hh_23_1/master_dr.py:289: FutureWarning: The default value of regex will change from True to False in a future version. In addition, single character regular expressions will *not* be treated as literal strings when regex=True.\n",
      "  noten_data.iloc[:, 1:] = noten_data.iloc[:, 1:].apply(lambda x: x.str.replace('.', ''))\n",
      "/Users/david/Documents/capstone_project_hh_23_1/master_dr.py:310: FutureWarning: In a future version, `df.iloc[:, i] = newvals` will attempt to set the values inplace instead of always setting a new array. To retain the old behavior, use either `df[df.columns[i]] = newvals` or, if columns are non-unique, `df.isetitem(i, newvals)`\n",
      "  noten_data.iloc[:, 0:] = noten_data.iloc[:, 0:].astype(int)\n",
      "/Users/david/Documents/capstone_project_hh_23_1/master_dr.py:289: FutureWarning: The default value of regex will change from True to False in a future version. In addition, single character regular expressions will *not* be treated as literal strings when regex=True.\n",
      "  noten_data.iloc[:, 1:] = noten_data.iloc[:, 1:].apply(lambda x: x.str.replace('.', ''))\n",
      "/Users/david/Documents/capstone_project_hh_23_1/master_dr.py:310: FutureWarning: In a future version, `df.iloc[:, i] = newvals` will attempt to set the values inplace instead of always setting a new array. To retain the old behavior, use either `df[df.columns[i]] = newvals` or, if columns are non-unique, `df.isetitem(i, newvals)`\n",
      "  noten_data.iloc[:, 0:] = noten_data.iloc[:, 0:].astype(int)\n",
      "/Users/david/Documents/capstone_project_hh_23_1/master_dr.py:289: FutureWarning: The default value of regex will change from True to False in a future version. In addition, single character regular expressions will *not* be treated as literal strings when regex=True.\n",
      "  noten_data.iloc[:, 1:] = noten_data.iloc[:, 1:].apply(lambda x: x.str.replace('.', ''))\n",
      "/Users/david/Documents/capstone_project_hh_23_1/master_dr.py:310: FutureWarning: In a future version, `df.iloc[:, i] = newvals` will attempt to set the values inplace instead of always setting a new array. To retain the old behavior, use either `df[df.columns[i]] = newvals` or, if columns are non-unique, `df.isetitem(i, newvals)`\n",
      "  noten_data.iloc[:, 0:] = noten_data.iloc[:, 0:].astype(int)\n",
      "/Users/david/Documents/capstone_project_hh_23_1/master_dr.py:289: FutureWarning: The default value of regex will change from True to False in a future version. In addition, single character regular expressions will *not* be treated as literal strings when regex=True.\n",
      "  noten_data.iloc[:, 1:] = noten_data.iloc[:, 1:].apply(lambda x: x.str.replace('.', ''))\n",
      "/Users/david/Documents/capstone_project_hh_23_1/master_dr.py:310: FutureWarning: In a future version, `df.iloc[:, i] = newvals` will attempt to set the values inplace instead of always setting a new array. To retain the old behavior, use either `df[df.columns[i]] = newvals` or, if columns are non-unique, `df.isetitem(i, newvals)`\n",
      "  noten_data.iloc[:, 0:] = noten_data.iloc[:, 0:].astype(int)\n",
      "/Users/david/Documents/capstone_project_hh_23_1/master_dr.py:289: FutureWarning: The default value of regex will change from True to False in a future version. In addition, single character regular expressions will *not* be treated as literal strings when regex=True.\n",
      "  noten_data.iloc[:, 1:] = noten_data.iloc[:, 1:].apply(lambda x: x.str.replace('.', ''))\n",
      "/Users/david/Documents/capstone_project_hh_23_1/master_dr.py:310: FutureWarning: In a future version, `df.iloc[:, i] = newvals` will attempt to set the values inplace instead of always setting a new array. To retain the old behavior, use either `df[df.columns[i]] = newvals` or, if columns are non-unique, `df.isetitem(i, newvals)`\n",
      "  noten_data.iloc[:, 0:] = noten_data.iloc[:, 0:].astype(int)\n",
      "/Users/david/Documents/capstone_project_hh_23_1/master_dr.py:289: FutureWarning: The default value of regex will change from True to False in a future version. In addition, single character regular expressions will *not* be treated as literal strings when regex=True.\n",
      "  noten_data.iloc[:, 1:] = noten_data.iloc[:, 1:].apply(lambda x: x.str.replace('.', ''))\n",
      "/Users/david/Documents/capstone_project_hh_23_1/master_dr.py:310: FutureWarning: In a future version, `df.iloc[:, i] = newvals` will attempt to set the values inplace instead of always setting a new array. To retain the old behavior, use either `df[df.columns[i]] = newvals` or, if columns are non-unique, `df.isetitem(i, newvals)`\n",
      "  noten_data.iloc[:, 0:] = noten_data.iloc[:, 0:].astype(int)\n",
      "/Users/david/Documents/capstone_project_hh_23_1/master_dr.py:289: FutureWarning: The default value of regex will change from True to False in a future version. In addition, single character regular expressions will *not* be treated as literal strings when regex=True.\n",
      "  noten_data.iloc[:, 1:] = noten_data.iloc[:, 1:].apply(lambda x: x.str.replace('.', ''))\n",
      "/Users/david/Documents/capstone_project_hh_23_1/master_dr.py:310: FutureWarning: In a future version, `df.iloc[:, i] = newvals` will attempt to set the values inplace instead of always setting a new array. To retain the old behavior, use either `df[df.columns[i]] = newvals` or, if columns are non-unique, `df.isetitem(i, newvals)`\n",
      "  noten_data.iloc[:, 0:] = noten_data.iloc[:, 0:].astype(int)\n",
      "/Users/david/Documents/capstone_project_hh_23_1/master_dr.py:289: FutureWarning: The default value of regex will change from True to False in a future version. In addition, single character regular expressions will *not* be treated as literal strings when regex=True.\n",
      "  noten_data.iloc[:, 1:] = noten_data.iloc[:, 1:].apply(lambda x: x.str.replace('.', ''))\n",
      "/Users/david/Documents/capstone_project_hh_23_1/master_dr.py:310: FutureWarning: In a future version, `df.iloc[:, i] = newvals` will attempt to set the values inplace instead of always setting a new array. To retain the old behavior, use either `df[df.columns[i]] = newvals` or, if columns are non-unique, `df.isetitem(i, newvals)`\n",
      "  noten_data.iloc[:, 0:] = noten_data.iloc[:, 0:].astype(int)\n",
      "/Users/david/Documents/capstone_project_hh_23_1/master_dr.py:232: FutureWarning: The default value of regex will change from True to False in a future version. In addition, single character regular expressions will *not* be treated as literal strings when regex=True.\n",
      "  exams_data.iloc[:, 1:] = exams_data.iloc[:, 1:].apply(lambda x: x.str.replace('.', ''))\n",
      "/Users/david/Documents/capstone_project_hh_23_1/master_dr.py:232: FutureWarning: The default value of regex will change from True to False in a future version. In addition, single character regular expressions will *not* be treated as literal strings when regex=True.\n",
      "  exams_data.iloc[:, 1:] = exams_data.iloc[:, 1:].apply(lambda x: x.str.replace('.', ''))\n",
      "/Users/david/Documents/capstone_project_hh_23_1/master_dr.py:232: FutureWarning: The default value of regex will change from True to False in a future version. In addition, single character regular expressions will *not* be treated as literal strings when regex=True.\n",
      "  exams_data.iloc[:, 1:] = exams_data.iloc[:, 1:].apply(lambda x: x.str.replace('.', ''))\n",
      "/Users/david/Documents/capstone_project_hh_23_1/master_dr.py:232: FutureWarning: The default value of regex will change from True to False in a future version. In addition, single character regular expressions will *not* be treated as literal strings when regex=True.\n",
      "  exams_data.iloc[:, 1:] = exams_data.iloc[:, 1:].apply(lambda x: x.str.replace('.', ''))\n",
      "/Users/david/Documents/capstone_project_hh_23_1/master_dr.py:232: FutureWarning: The default value of regex will change from True to False in a future version. In addition, single character regular expressions will *not* be treated as literal strings when regex=True.\n",
      "  exams_data.iloc[:, 1:] = exams_data.iloc[:, 1:].apply(lambda x: x.str.replace('.', ''))\n",
      "/Users/david/Documents/capstone_project_hh_23_1/master_dr.py:232: FutureWarning: The default value of regex will change from True to False in a future version. In addition, single character regular expressions will *not* be treated as literal strings when regex=True.\n",
      "  exams_data.iloc[:, 1:] = exams_data.iloc[:, 1:].apply(lambda x: x.str.replace('.', ''))\n",
      "/Users/david/Documents/capstone_project_hh_23_1/master_dr.py:232: FutureWarning: The default value of regex will change from True to False in a future version. In addition, single character regular expressions will *not* be treated as literal strings when regex=True.\n",
      "  exams_data.iloc[:, 1:] = exams_data.iloc[:, 1:].apply(lambda x: x.str.replace('.', ''))\n",
      "/Users/david/Documents/capstone_project_hh_23_1/master_dr.py:232: FutureWarning: The default value of regex will change from True to False in a future version. In addition, single character regular expressions will *not* be treated as literal strings when regex=True.\n",
      "  exams_data.iloc[:, 1:] = exams_data.iloc[:, 1:].apply(lambda x: x.str.replace('.', ''))\n",
      "/Users/david/Documents/capstone_project_hh_23_1/master_dr.py:232: FutureWarning: The default value of regex will change from True to False in a future version. In addition, single character regular expressions will *not* be treated as literal strings when regex=True.\n",
      "  exams_data.iloc[:, 1:] = exams_data.iloc[:, 1:].apply(lambda x: x.str.replace('.', ''))\n",
      "/Users/david/Documents/capstone_project_hh_23_1/master_dr.py:232: FutureWarning: The default value of regex will change from True to False in a future version. In addition, single character regular expressions will *not* be treated as literal strings when regex=True.\n",
      "  exams_data.iloc[:, 1:] = exams_data.iloc[:, 1:].apply(lambda x: x.str.replace('.', ''))\n",
      "/Users/david/Documents/capstone_project_hh_23_1/master_dr.py:232: FutureWarning: The default value of regex will change from True to False in a future version. In addition, single character regular expressions will *not* be treated as literal strings when regex=True.\n",
      "  exams_data.iloc[:, 1:] = exams_data.iloc[:, 1:].apply(lambda x: x.str.replace('.', ''))\n",
      "/Users/david/Documents/capstone_project_hh_23_1/master_dr.py:232: FutureWarning: The default value of regex will change from True to False in a future version. In addition, single character regular expressions will *not* be treated as literal strings when regex=True.\n",
      "  exams_data.iloc[:, 1:] = exams_data.iloc[:, 1:].apply(lambda x: x.str.replace('.', ''))\n",
      "/Users/david/Documents/capstone_project_hh_23_1/master_dr.py:232: FutureWarning: The default value of regex will change from True to False in a future version. In addition, single character regular expressions will *not* be treated as literal strings when regex=True.\n",
      "  exams_data.iloc[:, 1:] = exams_data.iloc[:, 1:].apply(lambda x: x.str.replace('.', ''))\n",
      "/Users/david/Documents/capstone_project_hh_23_1/master_dr.py:214: FutureWarning: In a future version, `df.iloc[:, i] = newvals` will attempt to set the values inplace instead of always setting a new array. To retain the old behavior, use either `df[df.columns[i]] = newvals` or, if columns are non-unique, `df.isetitem(i, newvals)`\n",
      "  ausgaben.iloc[:, 1:15] = ausgaben.iloc[:, 1:15].astype('Int64')\n",
      "/Users/david/Documents/capstone_project_hh_23_1/master_dr.py:214: FutureWarning: In a future version, `df.iloc[:, i] = newvals` will attempt to set the values inplace instead of always setting a new array. To retain the old behavior, use either `df[df.columns[i]] = newvals` or, if columns are non-unique, `df.isetitem(i, newvals)`\n",
      "  ausgaben.iloc[:, 1:15] = ausgaben.iloc[:, 1:15].astype('Int64')\n",
      "/Users/david/Documents/capstone_project_hh_23_1/master_dr.py:214: FutureWarning: In a future version, `df.iloc[:, i] = newvals` will attempt to set the values inplace instead of always setting a new array. To retain the old behavior, use either `df[df.columns[i]] = newvals` or, if columns are non-unique, `df.isetitem(i, newvals)`\n",
      "  ausgaben.iloc[:, 1:15] = ausgaben.iloc[:, 1:15].astype('Int64')\n",
      "/Users/david/Documents/capstone_project_hh_23_1/master_dr.py:214: FutureWarning: In a future version, `df.iloc[:, i] = newvals` will attempt to set the values inplace instead of always setting a new array. To retain the old behavior, use either `df[df.columns[i]] = newvals` or, if columns are non-unique, `df.isetitem(i, newvals)`\n",
      "  ausgaben.iloc[:, 1:15] = ausgaben.iloc[:, 1:15].astype('Int64')\n",
      "/Users/david/Documents/capstone_project_hh_23_1/master_dr.py:214: FutureWarning: In a future version, `df.iloc[:, i] = newvals` will attempt to set the values inplace instead of always setting a new array. To retain the old behavior, use either `df[df.columns[i]] = newvals` or, if columns are non-unique, `df.isetitem(i, newvals)`\n",
      "  ausgaben.iloc[:, 1:15] = ausgaben.iloc[:, 1:15].astype('Int64')\n",
      "/Users/david/Documents/capstone_project_hh_23_1/master_dr.py:214: FutureWarning: In a future version, `df.iloc[:, i] = newvals` will attempt to set the values inplace instead of always setting a new array. To retain the old behavior, use either `df[df.columns[i]] = newvals` or, if columns are non-unique, `df.isetitem(i, newvals)`\n",
      "  ausgaben.iloc[:, 1:15] = ausgaben.iloc[:, 1:15].astype('Int64')\n",
      "/Users/david/Documents/capstone_project_hh_23_1/master_dr.py:214: FutureWarning: In a future version, `df.iloc[:, i] = newvals` will attempt to set the values inplace instead of always setting a new array. To retain the old behavior, use either `df[df.columns[i]] = newvals` or, if columns are non-unique, `df.isetitem(i, newvals)`\n",
      "  ausgaben.iloc[:, 1:15] = ausgaben.iloc[:, 1:15].astype('Int64')\n",
      "/Users/david/Documents/capstone_project_hh_23_1/master_dr.py:214: FutureWarning: In a future version, `df.iloc[:, i] = newvals` will attempt to set the values inplace instead of always setting a new array. To retain the old behavior, use either `df[df.columns[i]] = newvals` or, if columns are non-unique, `df.isetitem(i, newvals)`\n",
      "  ausgaben.iloc[:, 1:15] = ausgaben.iloc[:, 1:15].astype('Int64')\n",
      "/Users/david/Documents/capstone_project_hh_23_1/master_dr.py:214: FutureWarning: In a future version, `df.iloc[:, i] = newvals` will attempt to set the values inplace instead of always setting a new array. To retain the old behavior, use either `df[df.columns[i]] = newvals` or, if columns are non-unique, `df.isetitem(i, newvals)`\n",
      "  ausgaben.iloc[:, 1:15] = ausgaben.iloc[:, 1:15].astype('Int64')\n",
      "/Users/david/Documents/capstone_project_hh_23_1/master_dr.py:214: FutureWarning: In a future version, `df.iloc[:, i] = newvals` will attempt to set the values inplace instead of always setting a new array. To retain the old behavior, use either `df[df.columns[i]] = newvals` or, if columns are non-unique, `df.isetitem(i, newvals)`\n",
      "  ausgaben.iloc[:, 1:15] = ausgaben.iloc[:, 1:15].astype('Int64')\n",
      "/Users/david/Documents/capstone_project_hh_23_1/master_dr.py:214: FutureWarning: In a future version, `df.iloc[:, i] = newvals` will attempt to set the values inplace instead of always setting a new array. To retain the old behavior, use either `df[df.columns[i]] = newvals` or, if columns are non-unique, `df.isetitem(i, newvals)`\n",
      "  ausgaben.iloc[:, 1:15] = ausgaben.iloc[:, 1:15].astype('Int64')\n"
     ]
    }
   ],
   "source": [
    "import pandas as pd\n",
    "import matplotlib.pyplot as plt\n",
    "import seaborn as sns\n",
    "pd.set_option('display.max_rows', None)\n",
    "#plt.style.use('fivethirtyeight')\n",
    "import numpy as np\n",
    "import matplotlib.pyplot as plt\n",
    "%matplotlib inline\n",
    "\n",
    "from master_dr import ausgaben_concat"
   ]
  },
  {
   "cell_type": "code",
   "execution_count": 3,
   "metadata": {},
   "outputs": [
    {
     "data": {
      "text/html": [
       "<div>\n",
       "<style scoped>\n",
       "    .dataframe tbody tr th:only-of-type {\n",
       "        vertical-align: middle;\n",
       "    }\n",
       "\n",
       "    .dataframe tbody tr th {\n",
       "        vertical-align: top;\n",
       "    }\n",
       "\n",
       "    .dataframe thead th {\n",
       "        text-align: right;\n",
       "    }\n",
       "</style>\n",
       "<table border=\"1\" class=\"dataframe\">\n",
       "  <thead>\n",
       "    <tr style=\"text-align: right;\">\n",
       "      <th></th>\n",
       "      <th>Federal States</th>\n",
       "      <th>Allg bildende Schulen</th>\n",
       "      <th>Berufliche Schulen Insgesamt</th>\n",
       "      <th>darunter: im Dualen System</th>\n",
       "      <th>Alle Schularten</th>\n",
       "      <th>Grund schulen</th>\n",
       "      <th>Hauptschulen</th>\n",
       "      <th>Schulen mit mehreren Bildungsgängen</th>\n",
       "      <th>Realschulen</th>\n",
       "      <th>Gymnasien</th>\n",
       "      <th>Integrierte Gesamt schulen</th>\n",
       "      <th>Personalausgaben</th>\n",
       "      <th>Laufender Sach-aufwand</th>\n",
       "      <th>Investi-tionsaus-gaben</th>\n",
       "      <th>Gesamtausgaben</th>\n",
       "      <th>darunter: von staatlicher Ebene</th>\n",
       "      <th>year</th>\n",
       "    </tr>\n",
       "  </thead>\n",
       "  <tbody>\n",
       "    <tr>\n",
       "      <th>11</th>\n",
       "      <td>Saarland</td>\n",
       "      <td>9300</td>\n",
       "      <td>5700</td>\n",
       "      <td>3600</td>\n",
       "      <td>8400</td>\n",
       "      <td>7900</td>\n",
       "      <td>0</td>\n",
       "      <td>0</td>\n",
       "      <td>0</td>\n",
       "      <td>9300</td>\n",
       "      <td>9300</td>\n",
       "      <td>6700</td>\n",
       "      <td>1200</td>\n",
       "      <td>500</td>\n",
       "      <td>8400</td>\n",
       "      <td>6600</td>\n",
       "      <td>2021-01-01</td>\n",
       "    </tr>\n",
       "    <tr>\n",
       "      <th>12</th>\n",
       "      <td>Sachsen</td>\n",
       "      <td>9200</td>\n",
       "      <td>6400</td>\n",
       "      <td>4400</td>\n",
       "      <td>8700</td>\n",
       "      <td>7400</td>\n",
       "      <td>0</td>\n",
       "      <td>9100</td>\n",
       "      <td>0</td>\n",
       "      <td>9700</td>\n",
       "      <td>0</td>\n",
       "      <td>6400</td>\n",
       "      <td>1100</td>\n",
       "      <td>1200</td>\n",
       "      <td>8700</td>\n",
       "      <td>6100</td>\n",
       "      <td>2021-01-01</td>\n",
       "    </tr>\n",
       "    <tr>\n",
       "      <th>13</th>\n",
       "      <td>Sachsen-Anhalt</td>\n",
       "      <td>9200</td>\n",
       "      <td>5700</td>\n",
       "      <td>3700</td>\n",
       "      <td>8600</td>\n",
       "      <td>7100</td>\n",
       "      <td>0</td>\n",
       "      <td>9300</td>\n",
       "      <td>0</td>\n",
       "      <td>9800</td>\n",
       "      <td>9400</td>\n",
       "      <td>6800</td>\n",
       "      <td>800</td>\n",
       "      <td>1000</td>\n",
       "      <td>8600</td>\n",
       "      <td>6600</td>\n",
       "      <td>2021-01-01</td>\n",
       "    </tr>\n",
       "    <tr>\n",
       "      <th>14</th>\n",
       "      <td>Schleswig-Holstein</td>\n",
       "      <td>9400</td>\n",
       "      <td>6300</td>\n",
       "      <td>4500</td>\n",
       "      <td>8600</td>\n",
       "      <td>7800</td>\n",
       "      <td>0</td>\n",
       "      <td>0</td>\n",
       "      <td>0</td>\n",
       "      <td>8800</td>\n",
       "      <td>10400</td>\n",
       "      <td>6700</td>\n",
       "      <td>1200</td>\n",
       "      <td>700</td>\n",
       "      <td>8600</td>\n",
       "      <td>6300</td>\n",
       "      <td>2021-01-01</td>\n",
       "    </tr>\n",
       "    <tr>\n",
       "      <th>15</th>\n",
       "      <td>Thüringen</td>\n",
       "      <td>9900</td>\n",
       "      <td>7900</td>\n",
       "      <td>5000</td>\n",
       "      <td>9500</td>\n",
       "      <td>7600</td>\n",
       "      <td>0</td>\n",
       "      <td>10500</td>\n",
       "      <td>0</td>\n",
       "      <td>11100</td>\n",
       "      <td>10800</td>\n",
       "      <td>7900</td>\n",
       "      <td>900</td>\n",
       "      <td>700</td>\n",
       "      <td>9500</td>\n",
       "      <td>7600</td>\n",
       "      <td>2021-01-01</td>\n",
       "    </tr>\n",
       "  </tbody>\n",
       "</table>\n",
       "</div>"
      ],
      "text/plain": [
       "        Federal States  Allg bildende Schulen  Berufliche Schulen Insgesamt  \\\n",
       "11            Saarland                   9300                          5700   \n",
       "12             Sachsen                   9200                          6400   \n",
       "13      Sachsen-Anhalt                   9200                          5700   \n",
       "14  Schleswig-Holstein                   9400                          6300   \n",
       "15           Thüringen                   9900                          7900   \n",
       "\n",
       "    darunter: im Dualen System  Alle Schularten  Grund schulen  Hauptschulen  \\\n",
       "11                        3600             8400           7900             0   \n",
       "12                        4400             8700           7400             0   \n",
       "13                        3700             8600           7100             0   \n",
       "14                        4500             8600           7800             0   \n",
       "15                        5000             9500           7600             0   \n",
       "\n",
       "    Schulen mit mehreren Bildungsgängen  Realschulen  Gymnasien  \\\n",
       "11                                    0            0       9300   \n",
       "12                                 9100            0       9700   \n",
       "13                                 9300            0       9800   \n",
       "14                                    0            0       8800   \n",
       "15                                10500            0      11100   \n",
       "\n",
       "    Integrierte Gesamt schulen  Personalausgaben  Laufender Sach-aufwand  \\\n",
       "11                        9300              6700                    1200   \n",
       "12                           0              6400                    1100   \n",
       "13                        9400              6800                     800   \n",
       "14                       10400              6700                    1200   \n",
       "15                       10800              7900                     900   \n",
       "\n",
       "    Investi-tionsaus-gaben  Gesamtausgaben darunter: von staatlicher Ebene  \\\n",
       "11                     500            8400                            6600   \n",
       "12                    1200            8700                            6100   \n",
       "13                    1000            8600                            6600   \n",
       "14                     700            8600                            6300   \n",
       "15                     700            9500                            7600   \n",
       "\n",
       "         year  \n",
       "11 2021-01-01  \n",
       "12 2021-01-01  \n",
       "13 2021-01-01  \n",
       "14 2021-01-01  \n",
       "15 2021-01-01  "
      ]
     },
     "execution_count": 3,
     "metadata": {},
     "output_type": "execute_result"
    }
   ],
   "source": [
    "ausgaben_concat.tail()"
   ]
  },
  {
   "cell_type": "code",
   "execution_count": 4,
   "metadata": {},
   "outputs": [],
   "source": [
    "#ausgaben_concat['Abitur Schuler'] = ausgaben_concat['Allg bildende Schulen'] + ausgaben_concat['Gymnasien']+ ausgaben_concat['Integrierte Gesamt schulen'] / 3\n"
   ]
  },
  {
   "attachments": {},
   "cell_type": "markdown",
   "metadata": {},
   "source": [
    "#### States with the highest investment per student"
   ]
  },
  {
   "cell_type": "code",
   "execution_count": 5,
   "metadata": {},
   "outputs": [
    {
     "data": {
      "text/html": [
       "<div>\n",
       "<style scoped>\n",
       "    .dataframe tbody tr th:only-of-type {\n",
       "        vertical-align: middle;\n",
       "    }\n",
       "\n",
       "    .dataframe tbody tr th {\n",
       "        vertical-align: top;\n",
       "    }\n",
       "\n",
       "    .dataframe thead th {\n",
       "        text-align: right;\n",
       "    }\n",
       "</style>\n",
       "<table border=\"1\" class=\"dataframe\">\n",
       "  <thead>\n",
       "    <tr style=\"text-align: right;\">\n",
       "      <th></th>\n",
       "      <th>Federal States</th>\n",
       "      <th>Allg bildende Schulen</th>\n",
       "    </tr>\n",
       "    <tr>\n",
       "      <th>year</th>\n",
       "      <th></th>\n",
       "      <th></th>\n",
       "    </tr>\n",
       "  </thead>\n",
       "  <tbody>\n",
       "    <tr>\n",
       "      <th>2010-01-01</th>\n",
       "      <td>Thüringen</td>\n",
       "      <td>8600.0</td>\n",
       "    </tr>\n",
       "    <tr>\n",
       "      <th>2011-01-01</th>\n",
       "      <td>Thüringen</td>\n",
       "      <td>8500.0</td>\n",
       "    </tr>\n",
       "    <tr>\n",
       "      <th>2012-01-01</th>\n",
       "      <td>Thüringen</td>\n",
       "      <td>8500.0</td>\n",
       "    </tr>\n",
       "    <tr>\n",
       "      <th>2013-01-01</th>\n",
       "      <td>Hamburg</td>\n",
       "      <td>8900.0</td>\n",
       "    </tr>\n",
       "    <tr>\n",
       "      <th>2014-01-01</th>\n",
       "      <td>Hamburg</td>\n",
       "      <td>9500.0</td>\n",
       "    </tr>\n",
       "    <tr>\n",
       "      <th>2015-01-01</th>\n",
       "      <td>Berlin</td>\n",
       "      <td>9700.0</td>\n",
       "    </tr>\n",
       "    <tr>\n",
       "      <th>2016-01-01</th>\n",
       "      <td>Hamburg</td>\n",
       "      <td>10100.0</td>\n",
       "    </tr>\n",
       "    <tr>\n",
       "      <th>2017-01-01</th>\n",
       "      <td>Hamburg</td>\n",
       "      <td>10700.0</td>\n",
       "    </tr>\n",
       "    <tr>\n",
       "      <th>2019-01-01</th>\n",
       "      <td>Berlin</td>\n",
       "      <td>12100.0</td>\n",
       "    </tr>\n",
       "    <tr>\n",
       "      <th>2020-01-01</th>\n",
       "      <td>Berlin</td>\n",
       "      <td>13100.0</td>\n",
       "    </tr>\n",
       "    <tr>\n",
       "      <th>2021-01-01</th>\n",
       "      <td>Berlin</td>\n",
       "      <td>14200.0</td>\n",
       "    </tr>\n",
       "  </tbody>\n",
       "</table>\n",
       "</div>"
      ],
      "text/plain": [
       "           Federal States  Allg bildende Schulen\n",
       "year                                            \n",
       "2010-01-01      Thüringen                 8600.0\n",
       "2011-01-01      Thüringen                 8500.0\n",
       "2012-01-01      Thüringen                 8500.0\n",
       "2013-01-01        Hamburg                 8900.0\n",
       "2014-01-01        Hamburg                 9500.0\n",
       "2015-01-01         Berlin                 9700.0\n",
       "2016-01-01        Hamburg                10100.0\n",
       "2017-01-01        Hamburg                10700.0\n",
       "2019-01-01         Berlin                12100.0\n",
       "2020-01-01         Berlin                13100.0\n",
       "2021-01-01         Berlin                14200.0"
      ]
     },
     "execution_count": 5,
     "metadata": {},
     "output_type": "execute_result"
    }
   ],
   "source": [
    "# Group by State and Year, calculate mean fail Rate\n",
    "state_year_invest = ausgaben_concat.groupby(['Federal States', 'year'])['Allg bildende Schulen'].mean().reset_index()\n",
    "\n",
    "# Sort by fail Rate in descending order\n",
    "state_year_invest_sorted = state_year_invest.sort_values(by='Allg bildende Schulen', ascending=False)\n",
    "\n",
    "# Get state with highest fail Rate per year\n",
    "state_with_highest_invest = state_year_invest_sorted.groupby('year').first()\n",
    "\n",
    "state_with_highest_invest"
   ]
  },
  {
   "cell_type": "code",
   "execution_count": 6,
   "metadata": {},
   "outputs": [
    {
     "data": {
      "image/png": "[encoded data removed]",
      "text/plain": [
       "<Figure size 1300x700 with 1 Axes>"
      ]
     },
     "metadata": {},
     "output_type": "display_data"
    },
    {
     "data": {
      "image/png": "[encoded data removed]",
      "text/plain": [
       "<Figure size 1300x700 with 1 Axes>"
      ]
     },
     "metadata": {},
     "output_type": "display_data"
    }
   ],
   "source": [
    "# Calculate the average passing rate for each state\n",
    "df_avg = ausgaben_concat.groupby('Federal States')['Allg bildende Schulen'].mean().reset_index()\n",
    "df_avg1 = ausgaben_concat.groupby('Federal States')['Allg bildende Schulen'].mean().reset_index()\n",
    "\n",
    "# Sort the states based on average Pass Rate\n",
    "top_states_highest = df_avg.sort_values('Allg bildende Schulen', ascending=False).head(5)\n",
    "top_states_lowest = df_avg1.sort_values('Allg bildende Schulen', ascending=True).head(5)\n",
    "\n",
    "plt.figure(figsize=(13, 7))\n",
    "plt.style.context(\"/tmp/rose-pine.mplstyle\")\n",
    "#plt.rcParams.update({'font.size': 14})\n",
    "# Create a bar chart for top 3 states with highest Pass Rate\n",
    "plt.bar(top_states_highest['Federal States'], top_states_highest['Allg bildende Schulen'])#, color='#002845')#, palette=\"Blues_d\")\n",
    "plt.grid(False)  # Add grid lines\n",
    "plt.tick_params(axis='x')#, rotation=75)\n",
    "plt.xlabel(' ')\n",
    "plt.ylabel('Highest Investment in €')\n",
    "plt.title(' ')\n",
    "plt.legend(['€'])\n",
    "plt.ylim(bottom=7000)  # Set the y-axis lower limit to 0\n",
    "\n",
    "# Add value labels on top of each bar\n",
    "for i, v in enumerate(top_states_highest['Allg bildende Schulen']):\n",
    "    plt.text(i, v + 30, str(round(v, 2)), ha='center', color='black')\n",
    "\n",
    "plt.show()\n",
    "\n",
    "\n",
    "\n",
    "plt.figure(figsize=(13, 7))\n",
    "# Create a bar chart for top 3 states with lowest Pass Rate\n",
    "sns.barplot(x=top_states_lowest['Federal States'], y=top_states_lowest['Allg bildende Schulen'])#, color='#002845')\n",
    "plt.grid(True)  # Add grid lines\n",
    "plt.tick_params(axis='x')#, rotation=75)\n",
    "#plt.xlabel('State')\n",
    "plt.ylabel('Least Investment in €')\n",
    "#plt.title('Top 5 States with Highest Failing Rate in the Last Decade')\n",
    "#plt.legend(['€'])\n",
    "plt.ylim(bottom=5000)  # Set the y-axis lower limit to 0\n",
    "\n",
    "# Add value labels on top of each bar\n",
    "for i, v in enumerate(top_states_lowest['Allg bildende Schulen']):\n",
    "    plt.text(i, v + 25, str(round(v, 2)), ha='center', color='black')\n",
    "\n",
    "plt.show()\n"
   ]
  },
  {
   "cell_type": "code",
   "execution_count": 7,
   "metadata": {},
   "outputs": [
    {
     "data": {
      "text/html": [
       "<div>\n",
       "<style scoped>\n",
       "    .dataframe tbody tr th:only-of-type {\n",
       "        vertical-align: middle;\n",
       "    }\n",
       "\n",
       "    .dataframe tbody tr th {\n",
       "        vertical-align: top;\n",
       "    }\n",
       "\n",
       "    .dataframe thead th {\n",
       "        text-align: right;\n",
       "    }\n",
       "</style>\n",
       "<table border=\"1\" class=\"dataframe\">\n",
       "  <thead>\n",
       "    <tr style=\"text-align: right;\">\n",
       "      <th></th>\n",
       "      <th>Federal States</th>\n",
       "      <th>Allg bildende Schulen</th>\n",
       "    </tr>\n",
       "  </thead>\n",
       "  <tbody>\n",
       "    <tr>\n",
       "      <th>2</th>\n",
       "      <td>Berlin</td>\n",
       "      <td>10081.818182</td>\n",
       "    </tr>\n",
       "    <tr>\n",
       "      <th>5</th>\n",
       "      <td>Hamburg</td>\n",
       "      <td>10027.272727</td>\n",
       "    </tr>\n",
       "    <tr>\n",
       "      <th>1</th>\n",
       "      <td>Bayern</td>\n",
       "      <td>8909.090909</td>\n",
       "    </tr>\n",
       "    <tr>\n",
       "      <th>15</th>\n",
       "      <td>Thüringen</td>\n",
       "      <td>8900.0</td>\n",
       "    </tr>\n",
       "    <tr>\n",
       "      <th>13</th>\n",
       "      <td>Sachsen-Anhalt</td>\n",
       "      <td>8327.272727</td>\n",
       "    </tr>\n",
       "    <tr>\n",
       "      <th>4</th>\n",
       "      <td>Bremen</td>\n",
       "      <td>8281.818182</td>\n",
       "    </tr>\n",
       "    <tr>\n",
       "      <th>12</th>\n",
       "      <td>Sachsen</td>\n",
       "      <td>7863.636364</td>\n",
       "    </tr>\n",
       "    <tr>\n",
       "      <th>6</th>\n",
       "      <td>Hessen</td>\n",
       "      <td>7818.181818</td>\n",
       "    </tr>\n",
       "    <tr>\n",
       "      <th>3</th>\n",
       "      <td>Brandenburg</td>\n",
       "      <td>7681.818182</td>\n",
       "    </tr>\n",
       "    <tr>\n",
       "      <th>0</th>\n",
       "      <td>Baden-Württemberg</td>\n",
       "      <td>7572.727273</td>\n",
       "    </tr>\n",
       "    <tr>\n",
       "      <th>7</th>\n",
       "      <td>Mecklenburg-Vorpommern</td>\n",
       "      <td>7554.545455</td>\n",
       "    </tr>\n",
       "    <tr>\n",
       "      <th>8</th>\n",
       "      <td>Niedersachsen</td>\n",
       "      <td>7554.545455</td>\n",
       "    </tr>\n",
       "    <tr>\n",
       "      <th>11</th>\n",
       "      <td>Saarland</td>\n",
       "      <td>7481.818182</td>\n",
       "    </tr>\n",
       "    <tr>\n",
       "      <th>10</th>\n",
       "      <td>Rheinland-Pfalz</td>\n",
       "      <td>7300.0</td>\n",
       "    </tr>\n",
       "    <tr>\n",
       "      <th>14</th>\n",
       "      <td>Schleswig-Holstein</td>\n",
       "      <td>7045.454545</td>\n",
       "    </tr>\n",
       "    <tr>\n",
       "      <th>9</th>\n",
       "      <td>Nordrhein-Westfalen</td>\n",
       "      <td>6854.545455</td>\n",
       "    </tr>\n",
       "  </tbody>\n",
       "</table>\n",
       "</div>"
      ],
      "text/plain": [
       "            Federal States  Allg bildende Schulen\n",
       "2                   Berlin           10081.818182\n",
       "5                  Hamburg           10027.272727\n",
       "1                   Bayern            8909.090909\n",
       "15               Thüringen                 8900.0\n",
       "13          Sachsen-Anhalt            8327.272727\n",
       "4                   Bremen            8281.818182\n",
       "12                 Sachsen            7863.636364\n",
       "6                   Hessen            7818.181818\n",
       "3              Brandenburg            7681.818182\n",
       "0        Baden-Württemberg            7572.727273\n",
       "7   Mecklenburg-Vorpommern            7554.545455\n",
       "8            Niedersachsen            7554.545455\n",
       "11                Saarland            7481.818182\n",
       "10         Rheinland-Pfalz                 7300.0\n",
       "14      Schleswig-Holstein            7045.454545\n",
       "9      Nordrhein-Westfalen            6854.545455"
      ]
     },
     "execution_count": 7,
     "metadata": {},
     "output_type": "execute_result"
    }
   ],
   "source": [
    "df_avg.sort_values('Allg bildende Schulen', ascending=False)"
   ]
  },
  {
   "cell_type": "code",
   "execution_count": 8,
   "metadata": {},
   "outputs": [],
   "source": [
    "df_avg.rename(columns={'Allg bildende Schulen':'avg_abitur_student in €'}, inplace=True)"
   ]
  },
  {
   "cell_type": "code",
   "execution_count": 9,
   "metadata": {},
   "outputs": [
    {
     "data": {
      "text/plain": [
       "'schulform = pd.read_csv(\"./data/graduation_gender_insgesamt.csv\", delimiter=\";\")\\n\\nschulform_ins = schulform.filter(like=\\'ins\\')\\nschulform_specific = schulform.filter(items=[\\'Bundesland\\', \\'Schulabschluss\\'])\\nschulform = pd.concat([schulform_specific, schulform_ins], axis=1)\\n\\n\\nschulform.rename(columns={\\'09_10_ins\\':\\'2010\\',\\'10_11_ins\\':\\'2011\\',\\'11_12_ins\\':\\'2012\\',\\n\\'12_13_ins\\':\\'2013\\',\\'13_14_ins\\':\\'2014\\',\\'14_15_ins\\':\\'2015\\',\\'15_16_ins\\':\\'2016\\',\\'16_17_ins\\':\\'2017\\',\\n\\'17_18_ins\\':\\'2018\\',\\'18_19_ins\\':\\'2019\\',\\'19_20_ins\\':\\'2020\\',\\'20_21_ins\\':\\'2021\\'}, inplace=True)\\n\\nschulform = schulform.melt(id_vars=[\\'Bundesland\\', \\'Schulabschluss\\'], var_name=\\'Year\\', value_name=\\'Students\\')\\n\\nschulform = schulform[schulform[\\'Year\\'] != \\'Insgesamt\\']\\nschulform = schulform[schulform[\\'Students\\'] != \\'Schulform\\']\\n\\nschulform[\\'Year\\'] = pd.to_datetime(schulform[\\'Year\\'], format=\\'%Y\\')\\nschulform.iloc[:, 3:4] = schulform.iloc[:, 3:4].applymap(lambda x: x.replace(\\'-\\', \\'0\\'))\\nschulform.iloc[:, 3:4] = schulform.iloc[:, 3:4].astype(\\'Int64\\')\\n'"
      ]
     },
     "execution_count": 9,
     "metadata": {},
     "output_type": "execute_result"
    }
   ],
   "source": [
    "'''schulform = pd.read_csv(\"./data/graduation_gender_insgesamt.csv\", delimiter=\";\")\n",
    "\n",
    "schulform_ins = schulform.filter(like='ins')\n",
    "schulform_specific = schulform.filter(items=['Bundesland', 'Schulabschluss'])\n",
    "schulform = pd.concat([schulform_specific, schulform_ins], axis=1)\n",
    "\n",
    "\n",
    "schulform.rename(columns={'09_10_ins':'2010','10_11_ins':'2011','11_12_ins':'2012',\n",
    "'12_13_ins':'2013','13_14_ins':'2014','14_15_ins':'2015','15_16_ins':'2016','16_17_ins':'2017',\n",
    "'17_18_ins':'2018','18_19_ins':'2019','19_20_ins':'2020','20_21_ins':'2021'}, inplace=True)\n",
    "\n",
    "schulform = schulform.melt(id_vars=['Bundesland', 'Schulabschluss'], var_name='Year', value_name='Students')\n",
    "\n",
    "schulform = schulform[schulform['Year'] != 'Insgesamt']\n",
    "schulform = schulform[schulform['Students'] != 'Schulform']\n",
    "\n",
    "schulform['Year'] = pd.to_datetime(schulform['Year'], format='%Y')\n",
    "schulform.iloc[:, 3:4] = schulform.iloc[:, 3:4].applymap(lambda x: x.replace('-', '0'))\n",
    "schulform.iloc[:, 3:4] = schulform.iloc[:, 3:4].astype('Int64')\n",
    "'''"
   ]
  },
  {
   "cell_type": "code",
   "execution_count": 10,
   "metadata": {},
   "outputs": [],
   "source": [
    "import pandas as pd\n",
    "schulform = pd.read_csv(\"./Tableau/avg_abitur_graduation_rate_sorted.csv\")#, delimiter=\";\")\n"
   ]
  },
  {
   "cell_type": "code",
   "execution_count": 11,
   "metadata": {},
   "outputs": [
    {
     "data": {
      "text/html": [
       "<div>\n",
       "<style scoped>\n",
       "    .dataframe tbody tr th:only-of-type {\n",
       "        vertical-align: middle;\n",
       "    }\n",
       "\n",
       "    .dataframe tbody tr th {\n",
       "        vertical-align: top;\n",
       "    }\n",
       "\n",
       "    .dataframe thead th {\n",
       "        text-align: right;\n",
       "    }\n",
       "</style>\n",
       "<table border=\"1\" class=\"dataframe\">\n",
       "  <thead>\n",
       "    <tr style=\"text-align: right;\">\n",
       "      <th></th>\n",
       "      <th>Federal States</th>\n",
       "      <th>avg_abitur_graduation_rate in %</th>\n",
       "    </tr>\n",
       "  </thead>\n",
       "  <tbody>\n",
       "    <tr>\n",
       "      <th>0</th>\n",
       "      <td>Hamburg</td>\n",
       "      <td>54.245235</td>\n",
       "    </tr>\n",
       "    <tr>\n",
       "      <th>1</th>\n",
       "      <td>Berlin</td>\n",
       "      <td>43.284471</td>\n",
       "    </tr>\n",
       "    <tr>\n",
       "      <th>2</th>\n",
       "      <td>Brandenburg</td>\n",
       "      <td>40.182324</td>\n",
       "    </tr>\n",
       "    <tr>\n",
       "      <th>3</th>\n",
       "      <td>Nordrhein-Westfalen</td>\n",
       "      <td>38.589521</td>\n",
       "    </tr>\n",
       "    <tr>\n",
       "      <th>4</th>\n",
       "      <td>Bremen</td>\n",
       "      <td>37.329971</td>\n",
       "    </tr>\n",
       "    <tr>\n",
       "      <th>5</th>\n",
       "      <td>Mecklenburg-Vorpommern</td>\n",
       "      <td>34.349382</td>\n",
       "    </tr>\n",
       "    <tr>\n",
       "      <th>6</th>\n",
       "      <td>Rheinland-Pfalz</td>\n",
       "      <td>33.982679</td>\n",
       "    </tr>\n",
       "    <tr>\n",
       "      <th>7</th>\n",
       "      <td>Schleswig-Holstein</td>\n",
       "      <td>33.972585</td>\n",
       "    </tr>\n",
       "    <tr>\n",
       "      <th>8</th>\n",
       "      <td>Saarland</td>\n",
       "      <td>33.655349</td>\n",
       "    </tr>\n",
       "    <tr>\n",
       "      <th>9</th>\n",
       "      <td>Thüringen</td>\n",
       "      <td>32.854860</td>\n",
       "    </tr>\n",
       "    <tr>\n",
       "      <th>10</th>\n",
       "      <td>Hessen</td>\n",
       "      <td>32.747806</td>\n",
       "    </tr>\n",
       "    <tr>\n",
       "      <th>11</th>\n",
       "      <td>Sachsen</td>\n",
       "      <td>30.951824</td>\n",
       "    </tr>\n",
       "    <tr>\n",
       "      <th>12</th>\n",
       "      <td>Niedersachsen</td>\n",
       "      <td>30.604282</td>\n",
       "    </tr>\n",
       "    <tr>\n",
       "      <th>13</th>\n",
       "      <td>Baden-Württemberg</td>\n",
       "      <td>30.086214</td>\n",
       "    </tr>\n",
       "    <tr>\n",
       "      <th>14</th>\n",
       "      <td>Bayern</td>\n",
       "      <td>28.895290</td>\n",
       "    </tr>\n",
       "    <tr>\n",
       "      <th>15</th>\n",
       "      <td>Sachsen-Anhalt</td>\n",
       "      <td>28.264785</td>\n",
       "    </tr>\n",
       "  </tbody>\n",
       "</table>\n",
       "</div>"
      ],
      "text/plain": [
       "            Federal States  avg_abitur_graduation_rate in %\n",
       "0                  Hamburg                        54.245235\n",
       "1                   Berlin                        43.284471\n",
       "2              Brandenburg                        40.182324\n",
       "3      Nordrhein-Westfalen                        38.589521\n",
       "4                   Bremen                        37.329971\n",
       "5   Mecklenburg-Vorpommern                        34.349382\n",
       "6          Rheinland-Pfalz                        33.982679\n",
       "7       Schleswig-Holstein                        33.972585\n",
       "8                 Saarland                        33.655349\n",
       "9                Thüringen                        32.854860\n",
       "10                  Hessen                        32.747806\n",
       "11                 Sachsen                        30.951824\n",
       "12           Niedersachsen                        30.604282\n",
       "13       Baden-Württemberg                        30.086214\n",
       "14                  Bayern                        28.895290\n",
       "15          Sachsen-Anhalt                        28.264785"
      ]
     },
     "execution_count": 11,
     "metadata": {},
     "output_type": "execute_result"
    }
   ],
   "source": [
    "schulform.rename(columns={'avg_abitur_graduation_rate':'avg_abitur_graduation_rate in %'}, inplace=True)\n",
    "schulform"
   ]
  },
  {
   "cell_type": "code",
   "execution_count": 12,
   "metadata": {},
   "outputs": [
    {
     "data": {
      "image/png": "[encoded data removed]",
      "text/plain": [
       "<Figure size 1300x800 with 1 Axes>"
      ]
     },
     "metadata": {},
     "output_type": "display_data"
    }
   ],
   "source": [
    "top_states_highest = schulform.sort_values('avg_abitur_graduation_rate in %', ascending=True)\n",
    "\n",
    "plt.figure(figsize=(13, 8))\n",
    "plt.style.use('fivethirtyeight')\n",
    "# Create a horizontal bar chart\n",
    "plt.barh(schulform['Federal States'], schulform['avg_abitur_graduation_rate in %'], left=schulform['avg_abitur_graduation_rate in %'])#, palette=\"Blues_d\")#, color='#1f77b4')\n",
    "# Add value labels to the bars\n",
    "'''for i, (value, name) in enumerate(zip(top_states_highest['avg_abitur_graduation_rate in %'], top_states_highest['Federal States'])):\n",
    "    plt.text(value, i, f' %{value:.0f}', ha='left', va='center', fontsize=12)'''\n",
    "\n",
    "# Set the title and axis labels\n",
    "plt.title(' ')\n",
    "plt.xlabel(' ')\n",
    "plt.ylabel(' ')\n",
    "# Set the x-axis limits\n",
    "#plt.xlim(1000, max(top_states_highest) * 1.1)\n",
    "#plt.ylim(bottom=0)  # Set the y-axis lower limit to 0\n",
    "plt.show()"
   ]
  },
  {
   "cell_type": "code",
   "execution_count": 13,
   "metadata": {},
   "outputs": [
    {
     "data": {
      "text/html": [
       "<div>\n",
       "<style scoped>\n",
       "    .dataframe tbody tr th:only-of-type {\n",
       "        vertical-align: middle;\n",
       "    }\n",
       "\n",
       "    .dataframe tbody tr th {\n",
       "        vertical-align: top;\n",
       "    }\n",
       "\n",
       "    .dataframe thead th {\n",
       "        text-align: right;\n",
       "    }\n",
       "</style>\n",
       "<table border=\"1\" class=\"dataframe\">\n",
       "  <thead>\n",
       "    <tr style=\"text-align: right;\">\n",
       "      <th></th>\n",
       "      <th>year</th>\n",
       "      <th>Allg bildende Schulen</th>\n",
       "    </tr>\n",
       "  </thead>\n",
       "  <tbody>\n",
       "    <tr>\n",
       "      <th>0</th>\n",
       "      <td>2010-01-01</td>\n",
       "      <td>6881.25</td>\n",
       "    </tr>\n",
       "    <tr>\n",
       "      <th>1</th>\n",
       "      <td>2011-01-01</td>\n",
       "      <td>6987.5</td>\n",
       "    </tr>\n",
       "    <tr>\n",
       "      <th>2</th>\n",
       "      <td>2012-01-01</td>\n",
       "      <td>7193.75</td>\n",
       "    </tr>\n",
       "    <tr>\n",
       "      <th>3</th>\n",
       "      <td>2013-01-01</td>\n",
       "      <td>7350.0</td>\n",
       "    </tr>\n",
       "    <tr>\n",
       "      <th>4</th>\n",
       "      <td>2014-01-01</td>\n",
       "      <td>7656.25</td>\n",
       "    </tr>\n",
       "    <tr>\n",
       "      <th>5</th>\n",
       "      <td>2015-01-01</td>\n",
       "      <td>7781.25</td>\n",
       "    </tr>\n",
       "    <tr>\n",
       "      <th>6</th>\n",
       "      <td>2016-01-01</td>\n",
       "      <td>7937.5</td>\n",
       "    </tr>\n",
       "    <tr>\n",
       "      <th>7</th>\n",
       "      <td>2017-01-01</td>\n",
       "      <td>8206.25</td>\n",
       "    </tr>\n",
       "    <tr>\n",
       "      <th>8</th>\n",
       "      <td>2019-01-01</td>\n",
       "      <td>9050.0</td>\n",
       "    </tr>\n",
       "    <tr>\n",
       "      <th>9</th>\n",
       "      <td>2020-01-01</td>\n",
       "      <td>9712.5</td>\n",
       "    </tr>\n",
       "    <tr>\n",
       "      <th>10</th>\n",
       "      <td>2021-01-01</td>\n",
       "      <td>10106.25</td>\n",
       "    </tr>\n",
       "  </tbody>\n",
       "</table>\n",
       "</div>"
      ],
      "text/plain": [
       "         year  Allg bildende Schulen\n",
       "0  2010-01-01                6881.25\n",
       "1  2011-01-01                 6987.5\n",
       "2  2012-01-01                7193.75\n",
       "3  2013-01-01                 7350.0\n",
       "4  2014-01-01                7656.25\n",
       "5  2015-01-01                7781.25\n",
       "6  2016-01-01                 7937.5\n",
       "7  2017-01-01                8206.25\n",
       "8  2019-01-01                 9050.0\n",
       "9  2020-01-01                 9712.5\n",
       "10 2021-01-01               10106.25"
      ]
     },
     "execution_count": 13,
     "metadata": {},
     "output_type": "execute_result"
    }
   ],
   "source": [
    "# average investment for each year\n",
    "\n",
    "ausgaben_test = ausgaben_concat.groupby('year')['Allg bildende Schulen'].mean().reset_index()\n",
    "ausgaben_test"
   ]
  },
  {
   "cell_type": "code",
   "execution_count": 14,
   "metadata": {},
   "outputs": [],
   "source": [
    "# save as csv-file\n",
    "#ausgaben_test.to_csv('./Tableau/avg_investment_per_year.csv', index=False)"
   ]
  },
  {
   "cell_type": "code",
   "execution_count": 15,
   "metadata": {},
   "outputs": [
    {
     "data": {
      "text/html": [
       "<div>\n",
       "<style scoped>\n",
       "    .dataframe tbody tr th:only-of-type {\n",
       "        vertical-align: middle;\n",
       "    }\n",
       "\n",
       "    .dataframe tbody tr th {\n",
       "        vertical-align: top;\n",
       "    }\n",
       "\n",
       "    .dataframe thead th {\n",
       "        text-align: right;\n",
       "    }\n",
       "</style>\n",
       "<table border=\"1\" class=\"dataframe\">\n",
       "  <thead>\n",
       "    <tr style=\"text-align: right;\">\n",
       "      <th></th>\n",
       "      <th>year</th>\n",
       "      <th>Allg bildende Schulen</th>\n",
       "    </tr>\n",
       "  </thead>\n",
       "  <tbody>\n",
       "    <tr>\n",
       "      <th>0</th>\n",
       "      <td>2010</td>\n",
       "      <td>6881.25</td>\n",
       "    </tr>\n",
       "    <tr>\n",
       "      <th>1</th>\n",
       "      <td>2011</td>\n",
       "      <td>6987.50</td>\n",
       "    </tr>\n",
       "    <tr>\n",
       "      <th>2</th>\n",
       "      <td>2012</td>\n",
       "      <td>7193.75</td>\n",
       "    </tr>\n",
       "    <tr>\n",
       "      <th>3</th>\n",
       "      <td>2013</td>\n",
       "      <td>7350.00</td>\n",
       "    </tr>\n",
       "    <tr>\n",
       "      <th>4</th>\n",
       "      <td>2014</td>\n",
       "      <td>7656.25</td>\n",
       "    </tr>\n",
       "    <tr>\n",
       "      <th>5</th>\n",
       "      <td>2015</td>\n",
       "      <td>7781.25</td>\n",
       "    </tr>\n",
       "    <tr>\n",
       "      <th>6</th>\n",
       "      <td>2016</td>\n",
       "      <td>7937.50</td>\n",
       "    </tr>\n",
       "    <tr>\n",
       "      <th>7</th>\n",
       "      <td>2017</td>\n",
       "      <td>8206.25</td>\n",
       "    </tr>\n",
       "    <tr>\n",
       "      <th>8</th>\n",
       "      <td>2019</td>\n",
       "      <td>9050.00</td>\n",
       "    </tr>\n",
       "    <tr>\n",
       "      <th>9</th>\n",
       "      <td>2020</td>\n",
       "      <td>9712.50</td>\n",
       "    </tr>\n",
       "    <tr>\n",
       "      <th>10</th>\n",
       "      <td>2021</td>\n",
       "      <td>10106.25</td>\n",
       "    </tr>\n",
       "  </tbody>\n",
       "</table>\n",
       "</div>"
      ],
      "text/plain": [
       "    year  Allg bildende Schulen\n",
       "0   2010                6881.25\n",
       "1   2011                6987.50\n",
       "2   2012                7193.75\n",
       "3   2013                7350.00\n",
       "4   2014                7656.25\n",
       "5   2015                7781.25\n",
       "6   2016                7937.50\n",
       "7   2017                8206.25\n",
       "8   2019                9050.00\n",
       "9   2020                9712.50\n",
       "10  2021               10106.25"
      ]
     },
     "execution_count": 15,
     "metadata": {},
     "output_type": "execute_result"
    }
   ],
   "source": [
    "# nur zum testen, obs geklappt hat.\n",
    "\n",
    "ausg = pd.read_csv('./Tableau/avg_investment_per_year.csv')\n",
    "ausg"
   ]
  },
  {
   "cell_type": "code",
   "execution_count": 16,
   "metadata": {},
   "outputs": [
    {
     "data": {
      "text/html": [
       "<div>\n",
       "<style scoped>\n",
       "    .dataframe tbody tr th:only-of-type {\n",
       "        vertical-align: middle;\n",
       "    }\n",
       "\n",
       "    .dataframe tbody tr th {\n",
       "        vertical-align: top;\n",
       "    }\n",
       "\n",
       "    .dataframe thead th {\n",
       "        text-align: right;\n",
       "    }\n",
       "</style>\n",
       "<table border=\"1\" class=\"dataframe\">\n",
       "  <thead>\n",
       "    <tr style=\"text-align: right;\">\n",
       "      <th></th>\n",
       "      <th>Federal States</th>\n",
       "      <th>Allg bildende Schulen</th>\n",
       "    </tr>\n",
       "  </thead>\n",
       "  <tbody>\n",
       "    <tr>\n",
       "      <th>0</th>\n",
       "      <td>Baden-Württemberg</td>\n",
       "      <td>7572.727273</td>\n",
       "    </tr>\n",
       "    <tr>\n",
       "      <th>1</th>\n",
       "      <td>Bayern</td>\n",
       "      <td>8909.090909</td>\n",
       "    </tr>\n",
       "    <tr>\n",
       "      <th>2</th>\n",
       "      <td>Berlin</td>\n",
       "      <td>10081.818182</td>\n",
       "    </tr>\n",
       "    <tr>\n",
       "      <th>3</th>\n",
       "      <td>Brandenburg</td>\n",
       "      <td>7681.818182</td>\n",
       "    </tr>\n",
       "    <tr>\n",
       "      <th>4</th>\n",
       "      <td>Bremen</td>\n",
       "      <td>8281.818182</td>\n",
       "    </tr>\n",
       "    <tr>\n",
       "      <th>5</th>\n",
       "      <td>Hamburg</td>\n",
       "      <td>10027.272727</td>\n",
       "    </tr>\n",
       "    <tr>\n",
       "      <th>6</th>\n",
       "      <td>Hessen</td>\n",
       "      <td>7818.181818</td>\n",
       "    </tr>\n",
       "    <tr>\n",
       "      <th>7</th>\n",
       "      <td>Mecklenburg-Vorpommern</td>\n",
       "      <td>7554.545455</td>\n",
       "    </tr>\n",
       "    <tr>\n",
       "      <th>8</th>\n",
       "      <td>Niedersachsen</td>\n",
       "      <td>7554.545455</td>\n",
       "    </tr>\n",
       "    <tr>\n",
       "      <th>9</th>\n",
       "      <td>Nordrhein-Westfalen</td>\n",
       "      <td>6854.545455</td>\n",
       "    </tr>\n",
       "    <tr>\n",
       "      <th>10</th>\n",
       "      <td>Rheinland-Pfalz</td>\n",
       "      <td>7300.0</td>\n",
       "    </tr>\n",
       "    <tr>\n",
       "      <th>11</th>\n",
       "      <td>Saarland</td>\n",
       "      <td>7481.818182</td>\n",
       "    </tr>\n",
       "    <tr>\n",
       "      <th>12</th>\n",
       "      <td>Sachsen</td>\n",
       "      <td>7863.636364</td>\n",
       "    </tr>\n",
       "    <tr>\n",
       "      <th>13</th>\n",
       "      <td>Sachsen-Anhalt</td>\n",
       "      <td>8327.272727</td>\n",
       "    </tr>\n",
       "    <tr>\n",
       "      <th>14</th>\n",
       "      <td>Schleswig-Holstein</td>\n",
       "      <td>7045.454545</td>\n",
       "    </tr>\n",
       "    <tr>\n",
       "      <th>15</th>\n",
       "      <td>Thüringen</td>\n",
       "      <td>8900.0</td>\n",
       "    </tr>\n",
       "  </tbody>\n",
       "</table>\n",
       "</div>"
      ],
      "text/plain": [
       "            Federal States  Allg bildende Schulen\n",
       "0        Baden-Württemberg            7572.727273\n",
       "1                   Bayern            8909.090909\n",
       "2                   Berlin           10081.818182\n",
       "3              Brandenburg            7681.818182\n",
       "4                   Bremen            8281.818182\n",
       "5                  Hamburg           10027.272727\n",
       "6                   Hessen            7818.181818\n",
       "7   Mecklenburg-Vorpommern            7554.545455\n",
       "8            Niedersachsen            7554.545455\n",
       "9      Nordrhein-Westfalen            6854.545455\n",
       "10         Rheinland-Pfalz                 7300.0\n",
       "11                Saarland            7481.818182\n",
       "12                 Sachsen            7863.636364\n",
       "13          Sachsen-Anhalt            8327.272727\n",
       "14      Schleswig-Holstein            7045.454545\n",
       "15               Thüringen                 8900.0"
      ]
     },
     "execution_count": 16,
     "metadata": {},
     "output_type": "execute_result"
    }
   ],
   "source": [
    "\n",
    "# Group by year and sum the columns\n",
    "df_avg = ausgaben_concat.groupby('Federal States')['Allg bildende Schulen'].mean().reset_index()\n",
    "df_avg"
   ]
  },
  {
   "cell_type": "code",
   "execution_count": 17,
   "metadata": {},
   "outputs": [
    {
     "data": {
      "text/html": [
       "<div>\n",
       "<style scoped>\n",
       "    .dataframe tbody tr th:only-of-type {\n",
       "        vertical-align: middle;\n",
       "    }\n",
       "\n",
       "    .dataframe tbody tr th {\n",
       "        vertical-align: top;\n",
       "    }\n",
       "\n",
       "    .dataframe thead th {\n",
       "        text-align: right;\n",
       "    }\n",
       "</style>\n",
       "<table border=\"1\" class=\"dataframe\">\n",
       "  <thead>\n",
       "    <tr style=\"text-align: right;\">\n",
       "      <th></th>\n",
       "      <th>Federal States</th>\n",
       "      <th>Allg bildende Schulen</th>\n",
       "      <th>avg_abitur_graduation_rate in %</th>\n",
       "    </tr>\n",
       "  </thead>\n",
       "  <tbody>\n",
       "    <tr>\n",
       "      <th>0</th>\n",
       "      <td>Baden-Württemberg</td>\n",
       "      <td>7572.727273</td>\n",
       "      <td>30.086214</td>\n",
       "    </tr>\n",
       "    <tr>\n",
       "      <th>1</th>\n",
       "      <td>Bayern</td>\n",
       "      <td>8909.090909</td>\n",
       "      <td>28.895290</td>\n",
       "    </tr>\n",
       "    <tr>\n",
       "      <th>2</th>\n",
       "      <td>Berlin</td>\n",
       "      <td>10081.818182</td>\n",
       "      <td>43.284471</td>\n",
       "    </tr>\n",
       "    <tr>\n",
       "      <th>3</th>\n",
       "      <td>Brandenburg</td>\n",
       "      <td>7681.818182</td>\n",
       "      <td>40.182324</td>\n",
       "    </tr>\n",
       "    <tr>\n",
       "      <th>4</th>\n",
       "      <td>Bremen</td>\n",
       "      <td>8281.818182</td>\n",
       "      <td>37.329971</td>\n",
       "    </tr>\n",
       "    <tr>\n",
       "      <th>5</th>\n",
       "      <td>Hamburg</td>\n",
       "      <td>10027.272727</td>\n",
       "      <td>54.245235</td>\n",
       "    </tr>\n",
       "    <tr>\n",
       "      <th>6</th>\n",
       "      <td>Hessen</td>\n",
       "      <td>7818.181818</td>\n",
       "      <td>32.747806</td>\n",
       "    </tr>\n",
       "    <tr>\n",
       "      <th>7</th>\n",
       "      <td>Mecklenburg-Vorpommern</td>\n",
       "      <td>7554.545455</td>\n",
       "      <td>34.349382</td>\n",
       "    </tr>\n",
       "    <tr>\n",
       "      <th>8</th>\n",
       "      <td>Niedersachsen</td>\n",
       "      <td>7554.545455</td>\n",
       "      <td>30.604282</td>\n",
       "    </tr>\n",
       "    <tr>\n",
       "      <th>9</th>\n",
       "      <td>Nordrhein-Westfalen</td>\n",
       "      <td>6854.545455</td>\n",
       "      <td>38.589521</td>\n",
       "    </tr>\n",
       "    <tr>\n",
       "      <th>10</th>\n",
       "      <td>Rheinland-Pfalz</td>\n",
       "      <td>7300.0</td>\n",
       "      <td>33.982679</td>\n",
       "    </tr>\n",
       "    <tr>\n",
       "      <th>11</th>\n",
       "      <td>Saarland</td>\n",
       "      <td>7481.818182</td>\n",
       "      <td>33.655349</td>\n",
       "    </tr>\n",
       "    <tr>\n",
       "      <th>12</th>\n",
       "      <td>Sachsen</td>\n",
       "      <td>7863.636364</td>\n",
       "      <td>30.951824</td>\n",
       "    </tr>\n",
       "    <tr>\n",
       "      <th>13</th>\n",
       "      <td>Sachsen-Anhalt</td>\n",
       "      <td>8327.272727</td>\n",
       "      <td>28.264785</td>\n",
       "    </tr>\n",
       "    <tr>\n",
       "      <th>14</th>\n",
       "      <td>Schleswig-Holstein</td>\n",
       "      <td>7045.454545</td>\n",
       "      <td>33.972585</td>\n",
       "    </tr>\n",
       "    <tr>\n",
       "      <th>15</th>\n",
       "      <td>Thüringen</td>\n",
       "      <td>8900.0</td>\n",
       "      <td>32.854860</td>\n",
       "    </tr>\n",
       "  </tbody>\n",
       "</table>\n",
       "</div>"
      ],
      "text/plain": [
       "            Federal States  Allg bildende Schulen  \\\n",
       "0        Baden-Württemberg            7572.727273   \n",
       "1                   Bayern            8909.090909   \n",
       "2                   Berlin           10081.818182   \n",
       "3              Brandenburg            7681.818182   \n",
       "4                   Bremen            8281.818182   \n",
       "5                  Hamburg           10027.272727   \n",
       "6                   Hessen            7818.181818   \n",
       "7   Mecklenburg-Vorpommern            7554.545455   \n",
       "8            Niedersachsen            7554.545455   \n",
       "9      Nordrhein-Westfalen            6854.545455   \n",
       "10         Rheinland-Pfalz                 7300.0   \n",
       "11                Saarland            7481.818182   \n",
       "12                 Sachsen            7863.636364   \n",
       "13          Sachsen-Anhalt            8327.272727   \n",
       "14      Schleswig-Holstein            7045.454545   \n",
       "15               Thüringen                 8900.0   \n",
       "\n",
       "    avg_abitur_graduation_rate in %  \n",
       "0                         30.086214  \n",
       "1                         28.895290  \n",
       "2                         43.284471  \n",
       "3                         40.182324  \n",
       "4                         37.329971  \n",
       "5                         54.245235  \n",
       "6                         32.747806  \n",
       "7                         34.349382  \n",
       "8                         30.604282  \n",
       "9                         38.589521  \n",
       "10                        33.982679  \n",
       "11                        33.655349  \n",
       "12                        30.951824  \n",
       "13                        28.264785  \n",
       "14                        33.972585  \n",
       "15                        32.854860  "
      ]
     },
     "execution_count": 17,
     "metadata": {},
     "output_type": "execute_result"
    }
   ],
   "source": [
    "df_merged = pd.merge(df_avg, schulform, on='Federal States')\n",
    "df_merged"
   ]
  },
  {
   "cell_type": "code",
   "execution_count": 18,
   "metadata": {},
   "outputs": [],
   "source": [
    "df_merged.rename(columns={'avg_abitur_student in €':'avg_abitur_student_in_€',\n",
    "                          'avg_abitur_graduation_rate in %':'avg_abitur_graduation_rate_in_%'}, inplace=True)"
   ]
  },
  {
   "cell_type": "code",
   "execution_count": 19,
   "metadata": {},
   "outputs": [],
   "source": [
    "#df_merged.to_csv('./Tableau/invest_graduation.csv', index=False)"
   ]
  },
  {
   "cell_type": "code",
   "execution_count": 20,
   "metadata": {},
   "outputs": [
    {
     "data": {
      "text/html": [
       "<div>\n",
       "<style scoped>\n",
       "    .dataframe tbody tr th:only-of-type {\n",
       "        vertical-align: middle;\n",
       "    }\n",
       "\n",
       "    .dataframe tbody tr th {\n",
       "        vertical-align: top;\n",
       "    }\n",
       "\n",
       "    .dataframe thead th {\n",
       "        text-align: right;\n",
       "    }\n",
       "</style>\n",
       "<table border=\"1\" class=\"dataframe\">\n",
       "  <thead>\n",
       "    <tr style=\"text-align: right;\">\n",
       "      <th></th>\n",
       "      <th>Federal States</th>\n",
       "      <th>avg_abitur_student_in_€</th>\n",
       "      <th>avg_abitur_graduation_rate_in_%</th>\n",
       "    </tr>\n",
       "  </thead>\n",
       "  <tbody>\n",
       "    <tr>\n",
       "      <th>0</th>\n",
       "      <td>Baden-Württemberg</td>\n",
       "      <td>7572.727273</td>\n",
       "      <td>30.086214</td>\n",
       "    </tr>\n",
       "    <tr>\n",
       "      <th>1</th>\n",
       "      <td>Bayern</td>\n",
       "      <td>8909.090909</td>\n",
       "      <td>28.895290</td>\n",
       "    </tr>\n",
       "    <tr>\n",
       "      <th>2</th>\n",
       "      <td>Berlin</td>\n",
       "      <td>10081.818182</td>\n",
       "      <td>43.284471</td>\n",
       "    </tr>\n",
       "    <tr>\n",
       "      <th>3</th>\n",
       "      <td>Brandenburg</td>\n",
       "      <td>7681.818182</td>\n",
       "      <td>40.182324</td>\n",
       "    </tr>\n",
       "    <tr>\n",
       "      <th>4</th>\n",
       "      <td>Bremen</td>\n",
       "      <td>8281.818182</td>\n",
       "      <td>37.329971</td>\n",
       "    </tr>\n",
       "    <tr>\n",
       "      <th>5</th>\n",
       "      <td>Hamburg</td>\n",
       "      <td>10027.272727</td>\n",
       "      <td>54.245235</td>\n",
       "    </tr>\n",
       "    <tr>\n",
       "      <th>6</th>\n",
       "      <td>Hessen</td>\n",
       "      <td>7818.181818</td>\n",
       "      <td>32.747806</td>\n",
       "    </tr>\n",
       "    <tr>\n",
       "      <th>7</th>\n",
       "      <td>Mecklenburg-Vorpommern</td>\n",
       "      <td>7554.545455</td>\n",
       "      <td>34.349382</td>\n",
       "    </tr>\n",
       "    <tr>\n",
       "      <th>8</th>\n",
       "      <td>Niedersachsen</td>\n",
       "      <td>7554.545455</td>\n",
       "      <td>30.604282</td>\n",
       "    </tr>\n",
       "    <tr>\n",
       "      <th>9</th>\n",
       "      <td>Nordrhein-Westfalen</td>\n",
       "      <td>6854.545455</td>\n",
       "      <td>38.589521</td>\n",
       "    </tr>\n",
       "    <tr>\n",
       "      <th>10</th>\n",
       "      <td>Rheinland-Pfalz</td>\n",
       "      <td>7300.000000</td>\n",
       "      <td>33.982679</td>\n",
       "    </tr>\n",
       "    <tr>\n",
       "      <th>11</th>\n",
       "      <td>Saarland</td>\n",
       "      <td>7481.818182</td>\n",
       "      <td>33.655349</td>\n",
       "    </tr>\n",
       "    <tr>\n",
       "      <th>12</th>\n",
       "      <td>Sachsen</td>\n",
       "      <td>7863.636364</td>\n",
       "      <td>30.951824</td>\n",
       "    </tr>\n",
       "    <tr>\n",
       "      <th>13</th>\n",
       "      <td>Sachsen-Anhalt</td>\n",
       "      <td>8327.272727</td>\n",
       "      <td>28.264785</td>\n",
       "    </tr>\n",
       "    <tr>\n",
       "      <th>14</th>\n",
       "      <td>Schleswig-Holstein</td>\n",
       "      <td>7045.454545</td>\n",
       "      <td>33.972585</td>\n",
       "    </tr>\n",
       "    <tr>\n",
       "      <th>15</th>\n",
       "      <td>Thüringen</td>\n",
       "      <td>8900.000000</td>\n",
       "      <td>32.854860</td>\n",
       "    </tr>\n",
       "  </tbody>\n",
       "</table>\n",
       "</div>"
      ],
      "text/plain": [
       "            Federal States  avg_abitur_student_in_€  \\\n",
       "0        Baden-Württemberg              7572.727273   \n",
       "1                   Bayern              8909.090909   \n",
       "2                   Berlin             10081.818182   \n",
       "3              Brandenburg              7681.818182   \n",
       "4                   Bremen              8281.818182   \n",
       "5                  Hamburg             10027.272727   \n",
       "6                   Hessen              7818.181818   \n",
       "7   Mecklenburg-Vorpommern              7554.545455   \n",
       "8            Niedersachsen              7554.545455   \n",
       "9      Nordrhein-Westfalen              6854.545455   \n",
       "10         Rheinland-Pfalz              7300.000000   \n",
       "11                Saarland              7481.818182   \n",
       "12                 Sachsen              7863.636364   \n",
       "13          Sachsen-Anhalt              8327.272727   \n",
       "14      Schleswig-Holstein              7045.454545   \n",
       "15               Thüringen              8900.000000   \n",
       "\n",
       "    avg_abitur_graduation_rate_in_%  \n",
       "0                         30.086214  \n",
       "1                         28.895290  \n",
       "2                         43.284471  \n",
       "3                         40.182324  \n",
       "4                         37.329971  \n",
       "5                         54.245235  \n",
       "6                         32.747806  \n",
       "7                         34.349382  \n",
       "8                         30.604282  \n",
       "9                         38.589521  \n",
       "10                        33.982679  \n",
       "11                        33.655349  \n",
       "12                        30.951824  \n",
       "13                        28.264785  \n",
       "14                        33.972585  \n",
       "15                        32.854860  "
      ]
     },
     "execution_count": 20,
     "metadata": {},
     "output_type": "execute_result"
    }
   ],
   "source": [
    "test = pd.read_csv('./Tableau/invest_graduation.csv')\n",
    "test"
   ]
  },
  {
   "cell_type": "code",
   "execution_count": 21,
   "metadata": {},
   "outputs": [
    {
     "data": {
      "text/html": [
       "<div>\n",
       "<style scoped>\n",
       "    .dataframe tbody tr th:only-of-type {\n",
       "        vertical-align: middle;\n",
       "    }\n",
       "\n",
       "    .dataframe tbody tr th {\n",
       "        vertical-align: top;\n",
       "    }\n",
       "\n",
       "    .dataframe thead th {\n",
       "        text-align: right;\n",
       "    }\n",
       "</style>\n",
       "<table border=\"1\" class=\"dataframe\">\n",
       "  <thead>\n",
       "    <tr style=\"text-align: right;\">\n",
       "      <th></th>\n",
       "      <th>Federal States</th>\n",
       "      <th>Allg bildende Schulen</th>\n",
       "      <th>avg_abitur_graduation_rate_in_%</th>\n",
       "    </tr>\n",
       "  </thead>\n",
       "  <tbody>\n",
       "    <tr>\n",
       "      <th>0</th>\n",
       "      <td>Baden-Württemberg</td>\n",
       "      <td>7572.727273</td>\n",
       "      <td>30.086214</td>\n",
       "    </tr>\n",
       "    <tr>\n",
       "      <th>1</th>\n",
       "      <td>Bayern</td>\n",
       "      <td>8909.090909</td>\n",
       "      <td>28.895290</td>\n",
       "    </tr>\n",
       "    <tr>\n",
       "      <th>2</th>\n",
       "      <td>Berlin</td>\n",
       "      <td>10081.818182</td>\n",
       "      <td>43.284471</td>\n",
       "    </tr>\n",
       "    <tr>\n",
       "      <th>3</th>\n",
       "      <td>Brandenburg</td>\n",
       "      <td>7681.818182</td>\n",
       "      <td>40.182324</td>\n",
       "    </tr>\n",
       "    <tr>\n",
       "      <th>4</th>\n",
       "      <td>Bremen</td>\n",
       "      <td>8281.818182</td>\n",
       "      <td>37.329971</td>\n",
       "    </tr>\n",
       "    <tr>\n",
       "      <th>5</th>\n",
       "      <td>Hamburg</td>\n",
       "      <td>10027.272727</td>\n",
       "      <td>54.245235</td>\n",
       "    </tr>\n",
       "    <tr>\n",
       "      <th>6</th>\n",
       "      <td>Hessen</td>\n",
       "      <td>7818.181818</td>\n",
       "      <td>32.747806</td>\n",
       "    </tr>\n",
       "    <tr>\n",
       "      <th>7</th>\n",
       "      <td>Mecklenburg-Vorpommern</td>\n",
       "      <td>7554.545455</td>\n",
       "      <td>34.349382</td>\n",
       "    </tr>\n",
       "    <tr>\n",
       "      <th>8</th>\n",
       "      <td>Niedersachsen</td>\n",
       "      <td>7554.545455</td>\n",
       "      <td>30.604282</td>\n",
       "    </tr>\n",
       "    <tr>\n",
       "      <th>9</th>\n",
       "      <td>Nordrhein-Westfalen</td>\n",
       "      <td>6854.545455</td>\n",
       "      <td>38.589521</td>\n",
       "    </tr>\n",
       "    <tr>\n",
       "      <th>10</th>\n",
       "      <td>Rheinland-Pfalz</td>\n",
       "      <td>7300.0</td>\n",
       "      <td>33.982679</td>\n",
       "    </tr>\n",
       "    <tr>\n",
       "      <th>11</th>\n",
       "      <td>Saarland</td>\n",
       "      <td>7481.818182</td>\n",
       "      <td>33.655349</td>\n",
       "    </tr>\n",
       "    <tr>\n",
       "      <th>12</th>\n",
       "      <td>Sachsen</td>\n",
       "      <td>7863.636364</td>\n",
       "      <td>30.951824</td>\n",
       "    </tr>\n",
       "    <tr>\n",
       "      <th>13</th>\n",
       "      <td>Sachsen-Anhalt</td>\n",
       "      <td>8327.272727</td>\n",
       "      <td>28.264785</td>\n",
       "    </tr>\n",
       "    <tr>\n",
       "      <th>14</th>\n",
       "      <td>Schleswig-Holstein</td>\n",
       "      <td>7045.454545</td>\n",
       "      <td>33.972585</td>\n",
       "    </tr>\n",
       "    <tr>\n",
       "      <th>15</th>\n",
       "      <td>Thüringen</td>\n",
       "      <td>8900.0</td>\n",
       "      <td>32.854860</td>\n",
       "    </tr>\n",
       "  </tbody>\n",
       "</table>\n",
       "</div>"
      ],
      "text/plain": [
       "            Federal States  Allg bildende Schulen  \\\n",
       "0        Baden-Württemberg            7572.727273   \n",
       "1                   Bayern            8909.090909   \n",
       "2                   Berlin           10081.818182   \n",
       "3              Brandenburg            7681.818182   \n",
       "4                   Bremen            8281.818182   \n",
       "5                  Hamburg           10027.272727   \n",
       "6                   Hessen            7818.181818   \n",
       "7   Mecklenburg-Vorpommern            7554.545455   \n",
       "8            Niedersachsen            7554.545455   \n",
       "9      Nordrhein-Westfalen            6854.545455   \n",
       "10         Rheinland-Pfalz                 7300.0   \n",
       "11                Saarland            7481.818182   \n",
       "12                 Sachsen            7863.636364   \n",
       "13          Sachsen-Anhalt            8327.272727   \n",
       "14      Schleswig-Holstein            7045.454545   \n",
       "15               Thüringen                 8900.0   \n",
       "\n",
       "    avg_abitur_graduation_rate_in_%  \n",
       "0                         30.086214  \n",
       "1                         28.895290  \n",
       "2                         43.284471  \n",
       "3                         40.182324  \n",
       "4                         37.329971  \n",
       "5                         54.245235  \n",
       "6                         32.747806  \n",
       "7                         34.349382  \n",
       "8                         30.604282  \n",
       "9                         38.589521  \n",
       "10                        33.982679  \n",
       "11                        33.655349  \n",
       "12                        30.951824  \n",
       "13                        28.264785  \n",
       "14                        33.972585  \n",
       "15                        32.854860  "
      ]
     },
     "execution_count": 21,
     "metadata": {},
     "output_type": "execute_result"
    }
   ],
   "source": [
    "df_merged"
   ]
  },
  {
   "cell_type": "code",
   "execution_count": 22,
   "metadata": {},
   "outputs": [],
   "source": [
    "# load students-teacher-ratio\n",
    "\n",
    "avg_students_per_teacher = pd.read_csv('./Tableau/avg_students_per_teacher.csv')"
   ]
  },
  {
   "cell_type": "code",
   "execution_count": 23,
   "metadata": {},
   "outputs": [],
   "source": [
    "# merge with student-teacher-ratio\n",
    "\n",
    "df_invest_graduation_teacher = pd.merge(df_merged, avg_students_per_teacher, on='Federal States')"
   ]
  },
  {
   "cell_type": "code",
   "execution_count": 24,
   "metadata": {},
   "outputs": [
    {
     "data": {
      "text/html": [
       "<div>\n",
       "<style scoped>\n",
       "    .dataframe tbody tr th:only-of-type {\n",
       "        vertical-align: middle;\n",
       "    }\n",
       "\n",
       "    .dataframe tbody tr th {\n",
       "        vertical-align: top;\n",
       "    }\n",
       "\n",
       "    .dataframe thead th {\n",
       "        text-align: right;\n",
       "    }\n",
       "</style>\n",
       "<table border=\"1\" class=\"dataframe\">\n",
       "  <thead>\n",
       "    <tr style=\"text-align: right;\">\n",
       "      <th></th>\n",
       "      <th>Federal States</th>\n",
       "      <th>Allg bildende Schulen</th>\n",
       "      <th>avg_abitur_graduation_rate_in_%</th>\n",
       "      <th>avg_students_per_teacher</th>\n",
       "    </tr>\n",
       "  </thead>\n",
       "  <tbody>\n",
       "    <tr>\n",
       "      <th>0</th>\n",
       "      <td>Bayern</td>\n",
       "      <td>8909.090909</td>\n",
       "      <td>28.895290</td>\n",
       "      <td>13.489715</td>\n",
       "    </tr>\n",
       "    <tr>\n",
       "      <th>1</th>\n",
       "      <td>Berlin</td>\n",
       "      <td>10081.818182</td>\n",
       "      <td>43.284471</td>\n",
       "      <td>12.740850</td>\n",
       "    </tr>\n",
       "    <tr>\n",
       "      <th>2</th>\n",
       "      <td>Brandenburg</td>\n",
       "      <td>7681.818182</td>\n",
       "      <td>40.182324</td>\n",
       "      <td>12.755887</td>\n",
       "    </tr>\n",
       "    <tr>\n",
       "      <th>3</th>\n",
       "      <td>Bremen</td>\n",
       "      <td>8281.818182</td>\n",
       "      <td>37.329971</td>\n",
       "      <td>13.271497</td>\n",
       "    </tr>\n",
       "    <tr>\n",
       "      <th>4</th>\n",
       "      <td>Hamburg</td>\n",
       "      <td>10027.272727</td>\n",
       "      <td>54.245235</td>\n",
       "      <td>12.675625</td>\n",
       "    </tr>\n",
       "    <tr>\n",
       "      <th>5</th>\n",
       "      <td>Hessen</td>\n",
       "      <td>7818.181818</td>\n",
       "      <td>32.747806</td>\n",
       "      <td>13.535906</td>\n",
       "    </tr>\n",
       "    <tr>\n",
       "      <th>6</th>\n",
       "      <td>Mecklenburg-Vorpommern</td>\n",
       "      <td>7554.545455</td>\n",
       "      <td>34.349382</td>\n",
       "      <td>13.642076</td>\n",
       "    </tr>\n",
       "    <tr>\n",
       "      <th>7</th>\n",
       "      <td>Niedersachsen</td>\n",
       "      <td>7554.545455</td>\n",
       "      <td>30.604282</td>\n",
       "      <td>13.017753</td>\n",
       "    </tr>\n",
       "    <tr>\n",
       "      <th>8</th>\n",
       "      <td>Nordrhein-Westfalen</td>\n",
       "      <td>6854.545455</td>\n",
       "      <td>38.589521</td>\n",
       "      <td>13.788068</td>\n",
       "    </tr>\n",
       "    <tr>\n",
       "      <th>9</th>\n",
       "      <td>Rheinland-Pfalz</td>\n",
       "      <td>7300.0</td>\n",
       "      <td>33.982679</td>\n",
       "      <td>13.605825</td>\n",
       "    </tr>\n",
       "    <tr>\n",
       "      <th>10</th>\n",
       "      <td>Saarland</td>\n",
       "      <td>7481.818182</td>\n",
       "      <td>33.655349</td>\n",
       "      <td>12.537490</td>\n",
       "    </tr>\n",
       "    <tr>\n",
       "      <th>11</th>\n",
       "      <td>Sachsen</td>\n",
       "      <td>7863.636364</td>\n",
       "      <td>30.951824</td>\n",
       "      <td>13.314646</td>\n",
       "    </tr>\n",
       "    <tr>\n",
       "      <th>12</th>\n",
       "      <td>Sachsen-Anhalt</td>\n",
       "      <td>8327.272727</td>\n",
       "      <td>28.264785</td>\n",
       "      <td>12.554045</td>\n",
       "    </tr>\n",
       "    <tr>\n",
       "      <th>13</th>\n",
       "      <td>Schleswig-Holstein</td>\n",
       "      <td>7045.454545</td>\n",
       "      <td>33.972585</td>\n",
       "      <td>14.229406</td>\n",
       "    </tr>\n",
       "    <tr>\n",
       "      <th>14</th>\n",
       "      <td>Thüringen</td>\n",
       "      <td>8900.0</td>\n",
       "      <td>32.854860</td>\n",
       "      <td>12.133922</td>\n",
       "    </tr>\n",
       "  </tbody>\n",
       "</table>\n",
       "</div>"
      ],
      "text/plain": [
       "            Federal States  Allg bildende Schulen  \\\n",
       "0                   Bayern            8909.090909   \n",
       "1                   Berlin           10081.818182   \n",
       "2              Brandenburg            7681.818182   \n",
       "3                   Bremen            8281.818182   \n",
       "4                  Hamburg           10027.272727   \n",
       "5                   Hessen            7818.181818   \n",
       "6   Mecklenburg-Vorpommern            7554.545455   \n",
       "7            Niedersachsen            7554.545455   \n",
       "8      Nordrhein-Westfalen            6854.545455   \n",
       "9          Rheinland-Pfalz                 7300.0   \n",
       "10                Saarland            7481.818182   \n",
       "11                 Sachsen            7863.636364   \n",
       "12          Sachsen-Anhalt            8327.272727   \n",
       "13      Schleswig-Holstein            7045.454545   \n",
       "14               Thüringen                 8900.0   \n",
       "\n",
       "    avg_abitur_graduation_rate_in_%  avg_students_per_teacher  \n",
       "0                         28.895290                 13.489715  \n",
       "1                         43.284471                 12.740850  \n",
       "2                         40.182324                 12.755887  \n",
       "3                         37.329971                 13.271497  \n",
       "4                         54.245235                 12.675625  \n",
       "5                         32.747806                 13.535906  \n",
       "6                         34.349382                 13.642076  \n",
       "7                         30.604282                 13.017753  \n",
       "8                         38.589521                 13.788068  \n",
       "9                         33.982679                 13.605825  \n",
       "10                        33.655349                 12.537490  \n",
       "11                        30.951824                 13.314646  \n",
       "12                        28.264785                 12.554045  \n",
       "13                        33.972585                 14.229406  \n",
       "14                        32.854860                 12.133922  "
      ]
     },
     "execution_count": 24,
     "metadata": {},
     "output_type": "execute_result"
    }
   ],
   "source": [
    "df_invest_graduation_teacher"
   ]
  },
  {
   "attachments": {},
   "cell_type": "markdown",
   "metadata": {},
   "source": [
    "## Scatterplot to look at correlation"
   ]
  },
  {
   "cell_type": "code",
   "execution_count": 25,
   "metadata": {},
   "outputs": [
    {
     "name": "stderr",
     "output_type": "stream",
     "text": [
      "/var/folders/zn/x2b8t6td4cg7t_vzk7lm864w0000gn/T/ipykernel_1226/2887835175.py:1: FutureWarning: The default value of numeric_only in DataFrame.corr is deprecated. In a future version, it will default to False. Select only valid columns or specify the value of numeric_only to silence this warning.\n",
      "  correlation = df_invest_graduation_teacher.corr()\n"
     ]
    }
   ],
   "source": [
    "correlation = df_invest_graduation_teacher.corr()"
   ]
  },
  {
   "cell_type": "code",
   "execution_count": 26,
   "metadata": {},
   "outputs": [
    {
     "data": {
      "text/plain": [
       "<AxesSubplot: >"
      ]
     },
     "execution_count": 26,
     "metadata": {},
     "output_type": "execute_result"
    },
    {
     "data": {
      "image/png": "[encoded data removed]",
      "text/plain": [
       "<Figure size 1200x800 with 2 Axes>"
      ]
     },
     "metadata": {},
     "output_type": "display_data"
    }
   ],
   "source": [
    "plt.figure(figsize=(12,8))\n",
    "mask = np.zeros_like(correlation)\n",
    "mask[np.triu_indices_from(mask)] = True\n",
    "sns.heatmap(correlation, mask = mask ,annot=True)"
   ]
  },
  {
   "cell_type": "code",
   "execution_count": 27,
   "metadata": {},
   "outputs": [],
   "source": [
    "test2 = df_merged.copy()"
   ]
  },
  {
   "cell_type": "code",
   "execution_count": 28,
   "metadata": {},
   "outputs": [],
   "source": [
    "test2 = test2[['Allg bildende Schulen', 'avg_abitur_graduation_rate_in_%']].astype(float)\n"
   ]
  },
  {
   "cell_type": "code",
   "execution_count": 29,
   "metadata": {},
   "outputs": [],
   "source": [
    "#6.35*100, height=3.8*100"
   ]
  },
  {
   "cell_type": "code",
   "execution_count": 30,
   "metadata": {},
   "outputs": [
    {
     "data": {
      "application/vnd.plotly.v1+json": {
       "config": {
        "plotlyServerURL": "https://plot.ly"
       },
       "data": [
        {
         "hovertemplate": "Allg bildende Schulen=%{x}<br>avg_abitur_graduation_rate_in_%=%{y}<extra></extra>",
         "legendgroup": "",
         "marker": {
          "color": "#636efa",
          "symbol": "circle"
         },
         "mode": "markers",
         "name": "",
         "orientation": "v",
         "showlegend": false,
         "type": "scatter",
         "x": [
          7572.727272727273,
          8909.09090909091,
          10081.818181818182,
          7681.818181818182,
          8281.818181818182,
          10027.272727272728,
          7818.181818181818,
          7554.545454545455,
          7554.545454545455,
          6854.545454545455,
          7300,
          7481.818181818182,
          7863.636363636364,
          8327.272727272728,
          7045.454545454545,
          8900
         ],
         "xaxis": "x",
         "y": [
          30.086214045032776,
          28.895290017225904,
          43.28447092673861,
          40.182323641394,
          37.32997088213473,
          54.24523456967322,
          32.747806071506666,
          34.34938184664562,
          30.60428169923028,
          38.5895213645844,
          33.98267875622284,
          33.65534869982298,
          30.95182413337182,
          28.264785459722734,
          33.97258531794397,
          32.85486006493966
         ],
         "yaxis": "y"
        },
        {
         "hovertemplate": "<b>OLS trendline</b><br>avg_abitur_graduation_rate_in_% = 0.00351946 * Allg bildende Schulen + 6.81815<br>R<sup>2</sup>=0.268823<br><br>Allg bildende Schulen=%{x}<br>avg_abitur_graduation_rate_in_%=%{y} <b>(trend)</b><extra></extra>",
         "legendgroup": "",
         "marker": {
          "color": "#636efa",
          "symbol": "circle"
         },
         "mode": "lines",
         "name": "",
         "showlegend": false,
         "type": "scatter",
         "x": [
          6854.545454545455,
          7045.454545454545,
          7300,
          7481.818181818182,
          7554.545454545455,
          7554.545454545455,
          7572.727272727273,
          7681.818181818182,
          7818.181818181818,
          7863.636363636364,
          8281.818181818182,
          8327.272727272728,
          8900,
          8909.09090909091,
          10027.272727272728,
          10081.818181818182
         ],
         "xaxis": "x",
         "y": [
          30.942446871468704,
          31.61434379746986,
          32.51020636547141,
          33.150108199758236,
          33.406068933472966,
          33.406068933472966,
          33.470059116901645,
          33.85400021747374,
          34.333926593188856,
          34.493902051760564,
          35.96567627062025,
          36.12565172919196,
          38.14134250719544,
          38.17333759890979,
          42.10873387977374,
          42.30070443005978
         ],
         "yaxis": "y"
        }
       ],
       "layout": {
        "height": 670,
        "legend": {
         "tracegroupgap": 0
        },
        "margin": {
         "t": 60
        },
        "template": {
         "data": {
          "bar": [
           {
            "error_x": {
             "color": "#2a3f5f"
            },
            "error_y": {
             "color": "#2a3f5f"
            },
            "marker": {
             "line": {
              "color": "#E5ECF6",
              "width": 0.5
             },
             "pattern": {
              "fillmode": "overlay",
              "size": 10,
              "solidity": 0.2
             }
            },
            "type": "bar"
           }
          ],
          "barpolar": [
           {
            "marker": {
             "line": {
              "color": "#E5ECF6",
              "width": 0.5
             },
             "pattern": {
              "fillmode": "overlay",
              "size": 10,
              "solidity": 0.2
             }
            },
            "type": "barpolar"
           }
          ],
          "carpet": [
           {
            "aaxis": {
             "endlinecolor": "#2a3f5f",
             "gridcolor": "white",
             "linecolor": "white",
             "minorgridcolor": "white",
             "startlinecolor": "#2a3f5f"
            },
            "baxis": {
             "endlinecolor": "#2a3f5f",
             "gridcolor": "white",
             "linecolor": "white",
             "minorgridcolor": "white",
             "startlinecolor": "#2a3f5f"
            },
            "type": "carpet"
           }
          ],
          "choropleth": [
           {
            "colorbar": {
             "outlinewidth": 0,
             "ticks": ""
            },
            "type": "choropleth"
           }
          ],
          "contour": [
           {
            "colorbar": {
             "outlinewidth": 0,
             "ticks": ""
            },
            "colorscale": [
             [
              0,
              "#0d0887"
             ],
             [
              0.1111111111111111,
              "#46039f"
             ],
             [
              0.2222222222222222,
              "#7201a8"
             ],
             [
              0.3333333333333333,
              "#9c179e"
             ],
             [
              0.4444444444444444,
              "#bd3786"
             ],
             [
              0.5555555555555556,
              "#d8576b"
             ],
             [
              0.6666666666666666,
              "#ed7953"
             ],
             [
              0.7777777777777778,
              "#fb9f3a"
             ],
             [
              0.8888888888888888,
              "#fdca26"
             ],
             [
              1,
              "#f0f921"
             ]
            ],
            "type": "contour"
           }
          ],
          "contourcarpet": [
           {
            "colorbar": {
             "outlinewidth": 0,
             "ticks": ""
            },
            "type": "contourcarpet"
           }
          ],
          "heatmap": [
           {
            "colorbar": {
             "outlinewidth": 0,
             "ticks": ""
            },
            "colorscale": [
             [
              0,
              "#0d0887"
             ],
             [
              0.1111111111111111,
              "#46039f"
             ],
             [
              0.2222222222222222,
              "#7201a8"
             ],
             [
              0.3333333333333333,
              "#9c179e"
             ],
             [
              0.4444444444444444,
              "#bd3786"
             ],
             [
              0.5555555555555556,
              "#d8576b"
             ],
             [
              0.6666666666666666,
              "#ed7953"
             ],
             [
              0.7777777777777778,
              "#fb9f3a"
             ],
             [
              0.8888888888888888,
              "#fdca26"
             ],
             [
              1,
              "#f0f921"
             ]
            ],
            "type": "heatmap"
           }
          ],
          "heatmapgl": [
           {
            "colorbar": {
             "outlinewidth": 0,
             "ticks": ""
            },
            "colorscale": [
             [
              0,
              "#0d0887"
             ],
             [
              0.1111111111111111,
              "#46039f"
             ],
             [
              0.2222222222222222,
              "#7201a8"
             ],
             [
              0.3333333333333333,
              "#9c179e"
             ],
             [
              0.4444444444444444,
              "#bd3786"
             ],
             [
              0.5555555555555556,
              "#d8576b"
             ],
             [
              0.6666666666666666,
              "#ed7953"
             ],
             [
              0.7777777777777778,
              "#fb9f3a"
             ],
             [
              0.8888888888888888,
              "#fdca26"
             ],
             [
              1,
              "#f0f921"
             ]
            ],
            "type": "heatmapgl"
           }
          ],
          "histogram": [
           {
            "marker": {
             "pattern": {
              "fillmode": "overlay",
              "size": 10,
              "solidity": 0.2
             }
            },
            "type": "histogram"
           }
          ],
          "histogram2d": [
           {
            "colorbar": {
             "outlinewidth": 0,
             "ticks": ""
            },
            "colorscale": [
             [
              0,
              "#0d0887"
             ],
             [
              0.1111111111111111,
              "#46039f"
             ],
             [
              0.2222222222222222,
              "#7201a8"
             ],
             [
              0.3333333333333333,
              "#9c179e"
             ],
             [
              0.4444444444444444,
              "#bd3786"
             ],
             [
              0.5555555555555556,
              "#d8576b"
             ],
             [
              0.6666666666666666,
              "#ed7953"
             ],
             [
              0.7777777777777778,
              "#fb9f3a"
             ],
             [
              0.8888888888888888,
              "#fdca26"
             ],
             [
              1,
              "#f0f921"
             ]
            ],
            "type": "histogram2d"
           }
          ],
          "histogram2dcontour": [
           {
            "colorbar": {
             "outlinewidth": 0,
             "ticks": ""
            },
            "colorscale": [
             [
              0,
              "#0d0887"
             ],
             [
              0.1111111111111111,
              "#46039f"
             ],
             [
              0.2222222222222222,
              "#7201a8"
             ],
             [
              0.3333333333333333,
              "#9c179e"
             ],
             [
              0.4444444444444444,
              "#bd3786"
             ],
             [
              0.5555555555555556,
              "#d8576b"
             ],
             [
              0.6666666666666666,
              "#ed7953"
             ],
             [
              0.7777777777777778,
              "#fb9f3a"
             ],
             [
              0.8888888888888888,
              "#fdca26"
             ],
             [
              1,
              "#f0f921"
             ]
            ],
            "type": "histogram2dcontour"
           }
          ],
          "mesh3d": [
           {
            "colorbar": {
             "outlinewidth": 0,
             "ticks": ""
            },
            "type": "mesh3d"
           }
          ],
          "parcoords": [
           {
            "line": {
             "colorbar": {
              "outlinewidth": 0,
              "ticks": ""
             }
            },
            "type": "parcoords"
           }
          ],
          "pie": [
           {
            "automargin": true,
            "type": "pie"
           }
          ],
          "scatter": [
           {
            "fillpattern": {
             "fillmode": "overlay",
             "size": 10,
             "solidity": 0.2
            },
            "type": "scatter"
           }
          ],
          "scatter3d": [
           {
            "line": {
             "colorbar": {
              "outlinewidth": 0,
              "ticks": ""
             }
            },
            "marker": {
             "colorbar": {
              "outlinewidth": 0,
              "ticks": ""
             }
            },
            "type": "scatter3d"
           }
          ],
          "scattercarpet": [
           {
            "marker": {
             "colorbar": {
              "outlinewidth": 0,
              "ticks": ""
             }
            },
            "type": "scattercarpet"
           }
          ],
          "scattergeo": [
           {
            "marker": {
             "colorbar": {
              "outlinewidth": 0,
              "ticks": ""
             }
            },
            "type": "scattergeo"
           }
          ],
          "scattergl": [
           {
            "marker": {
             "colorbar": {
              "outlinewidth": 0,
              "ticks": ""
             }
            },
            "type": "scattergl"
           }
          ],
          "scattermapbox": [
           {
            "marker": {
             "colorbar": {
              "outlinewidth": 0,
              "ticks": ""
             }
            },
            "type": "scattermapbox"
           }
          ],
          "scatterpolar": [
           {
            "marker": {
             "colorbar": {
              "outlinewidth": 0,
              "ticks": ""
             }
            },
            "type": "scatterpolar"
           }
          ],
          "scatterpolargl": [
           {
            "marker": {
             "colorbar": {
              "outlinewidth": 0,
              "ticks": ""
             }
            },
            "type": "scatterpolargl"
           }
          ],
          "scatterternary": [
           {
            "marker": {
             "colorbar": {
              "outlinewidth": 0,
              "ticks": ""
             }
            },
            "type": "scatterternary"
           }
          ],
          "surface": [
           {
            "colorbar": {
             "outlinewidth": 0,
             "ticks": ""
            },
            "colorscale": [
             [
              0,
              "#0d0887"
             ],
             [
              0.1111111111111111,
              "#46039f"
             ],
             [
              0.2222222222222222,
              "#7201a8"
             ],
             [
              0.3333333333333333,
              "#9c179e"
             ],
             [
              0.4444444444444444,
              "#bd3786"
             ],
             [
              0.5555555555555556,
              "#d8576b"
             ],
             [
              0.6666666666666666,
              "#ed7953"
             ],
             [
              0.7777777777777778,
              "#fb9f3a"
             ],
             [
              0.8888888888888888,
              "#fdca26"
             ],
             [
              1,
              "#f0f921"
             ]
            ],
            "type": "surface"
           }
          ],
          "table": [
           {
            "cells": {
             "fill": {
              "color": "#EBF0F8"
             },
             "line": {
              "color": "white"
             }
            },
            "header": {
             "fill": {
              "color": "#C8D4E3"
             },
             "line": {
              "color": "white"
             }
            },
            "type": "table"
           }
          ]
         },
         "layout": {
          "annotationdefaults": {
           "arrowcolor": "#2a3f5f",
           "arrowhead": 0,
           "arrowwidth": 1
          },
          "autotypenumbers": "strict",
          "coloraxis": {
           "colorbar": {
            "outlinewidth": 0,
            "ticks": ""
           }
          },
          "colorscale": {
           "diverging": [
            [
             0,
             "#8e0152"
            ],
            [
             0.1,
             "#c51b7d"
            ],
            [
             0.2,
             "#de77ae"
            ],
            [
             0.3,
             "#f1b6da"
            ],
            [
             0.4,
             "#fde0ef"
            ],
            [
             0.5,
             "#f7f7f7"
            ],
            [
             0.6,
             "#e6f5d0"
            ],
            [
             0.7,
             "#b8e186"
            ],
            [
             0.8,
             "#7fbc41"
            ],
            [
             0.9,
             "#4d9221"
            ],
            [
             1,
             "#276419"
            ]
           ],
           "sequential": [
            [
             0,
             "#0d0887"
            ],
            [
             0.1111111111111111,
             "#46039f"
            ],
            [
             0.2222222222222222,
             "#7201a8"
            ],
            [
             0.3333333333333333,
             "#9c179e"
            ],
            [
             0.4444444444444444,
             "#bd3786"
            ],
            [
             0.5555555555555556,
             "#d8576b"
            ],
            [
             0.6666666666666666,
             "#ed7953"
            ],
            [
             0.7777777777777778,
             "#fb9f3a"
            ],
            [
             0.8888888888888888,
             "#fdca26"
            ],
            [
             1,
             "#f0f921"
            ]
           ],
           "sequentialminus": [
            [
             0,
             "#0d0887"
            ],
            [
             0.1111111111111111,
             "#46039f"
            ],
            [
             0.2222222222222222,
             "#7201a8"
            ],
            [
             0.3333333333333333,
             "#9c179e"
            ],
            [
             0.4444444444444444,
             "#bd3786"
            ],
            [
             0.5555555555555556,
             "#d8576b"
            ],
            [
             0.6666666666666666,
             "#ed7953"
            ],
            [
             0.7777777777777778,
             "#fb9f3a"
            ],
            [
             0.8888888888888888,
             "#fdca26"
            ],
            [
             1,
             "#f0f921"
            ]
           ]
          },
          "colorway": [
           "#636efa",
           "#EF553B",
           "#00cc96",
           "#ab63fa",
           "#FFA15A",
           "#19d3f3",
           "#FF6692",
           "#B6E880",
           "#FF97FF",
           "#FECB52"
          ],
          "font": {
           "color": "#2a3f5f"
          },
          "geo": {
           "bgcolor": "white",
           "lakecolor": "white",
           "landcolor": "#E5ECF6",
           "showlakes": true,
           "showland": true,
           "subunitcolor": "white"
          },
          "hoverlabel": {
           "align": "left"
          },
          "hovermode": "closest",
          "mapbox": {
           "style": "light"
          },
          "paper_bgcolor": "white",
          "plot_bgcolor": "#E5ECF6",
          "polar": {
           "angularaxis": {
            "gridcolor": "white",
            "linecolor": "white",
            "ticks": ""
           },
           "bgcolor": "#E5ECF6",
           "radialaxis": {
            "gridcolor": "white",
            "linecolor": "white",
            "ticks": ""
           }
          },
          "scene": {
           "xaxis": {
            "backgroundcolor": "#E5ECF6",
            "gridcolor": "white",
            "gridwidth": 2,
            "linecolor": "white",
            "showbackground": true,
            "ticks": "",
            "zerolinecolor": "white"
           },
           "yaxis": {
            "backgroundcolor": "#E5ECF6",
            "gridcolor": "white",
            "gridwidth": 2,
            "linecolor": "white",
            "showbackground": true,
            "ticks": "",
            "zerolinecolor": "white"
           },
           "zaxis": {
            "backgroundcolor": "#E5ECF6",
            "gridcolor": "white",
            "gridwidth": 2,
            "linecolor": "white",
            "showbackground": true,
            "ticks": "",
            "zerolinecolor": "white"
           }
          },
          "shapedefaults": {
           "line": {
            "color": "#2a3f5f"
           }
          },
          "ternary": {
           "aaxis": {
            "gridcolor": "white",
            "linecolor": "white",
            "ticks": ""
           },
           "baxis": {
            "gridcolor": "white",
            "linecolor": "white",
            "ticks": ""
           },
           "bgcolor": "#E5ECF6",
           "caxis": {
            "gridcolor": "white",
            "linecolor": "white",
            "ticks": ""
           }
          },
          "title": {
           "x": 0.05
          },
          "xaxis": {
           "automargin": true,
           "gridcolor": "white",
           "linecolor": "white",
           "ticks": "",
           "title": {
            "standoff": 15
           },
           "zerolinecolor": "white",
           "zerolinewidth": 2
          },
          "yaxis": {
           "automargin": true,
           "gridcolor": "white",
           "linecolor": "white",
           "ticks": "",
           "title": {
            "standoff": 15
           },
           "zerolinecolor": "white",
           "zerolinewidth": 2
          }
         }
        },
        "width": 1050,
        "xaxis": {
         "anchor": "y",
         "domain": [
          0,
          1
         ],
         "title": {
          "text": "Investment in €"
         }
        },
        "yaxis": {
         "anchor": "x",
         "domain": [
          0,
          1
         ],
         "title": {
          "text": "Abitur graduation rate in %"
         }
        }
       }
      }
     },
     "metadata": {},
     "output_type": "display_data"
    },
    {
     "data": {
      "application/vnd.plotly.v1+json": {
       "config": {
        "plotlyServerURL": "https://plot.ly"
       },
       "data": [
        {
         "mode": "markers",
         "name": "avg_abitur_graduation_rate_in_%",
         "type": "scatter",
         "x": [
          7572.727272727273,
          8909.09090909091,
          10081.818181818182,
          7681.818181818182,
          8281.818181818182,
          10027.272727272728,
          7818.181818181818,
          7554.545454545455,
          7554.545454545455,
          6854.545454545455,
          7300,
          7481.818181818182,
          7863.636363636364,
          8327.272727272728,
          7045.454545454545,
          8900
         ],
         "y": [
          30.086214045032776,
          28.895290017225904,
          43.28447092673861,
          40.182323641394,
          37.32997088213473,
          54.24523456967322,
          32.747806071506666,
          34.34938184664562,
          30.60428169923028,
          38.5895213645844,
          33.98267875622284,
          33.65534869982298,
          30.95182413337182,
          28.264785459722734,
          33.97258531794397,
          32.85486006493966
         ]
        }
       ],
       "layout": {
        "legend": {
         "x": 0.01,
         "xanchor": "left",
         "y": 0.99,
         "yanchor": "top"
        },
        "template": {
         "data": {
          "bar": [
           {
            "error_x": {
             "color": "#2a3f5f"
            },
            "error_y": {
             "color": "#2a3f5f"
            },
            "marker": {
             "line": {
              "color": "#E5ECF6",
              "width": 0.5
             },
             "pattern": {
              "fillmode": "overlay",
              "size": 10,
              "solidity": 0.2
             }
            },
            "type": "bar"
           }
          ],
          "barpolar": [
           {
            "marker": {
             "line": {
              "color": "#E5ECF6",
              "width": 0.5
             },
             "pattern": {
              "fillmode": "overlay",
              "size": 10,
              "solidity": 0.2
             }
            },
            "type": "barpolar"
           }
          ],
          "carpet": [
           {
            "aaxis": {
             "endlinecolor": "#2a3f5f",
             "gridcolor": "white",
             "linecolor": "white",
             "minorgridcolor": "white",
             "startlinecolor": "#2a3f5f"
            },
            "baxis": {
             "endlinecolor": "#2a3f5f",
             "gridcolor": "white",
             "linecolor": "white",
             "minorgridcolor": "white",
             "startlinecolor": "#2a3f5f"
            },
            "type": "carpet"
           }
          ],
          "choropleth": [
           {
            "colorbar": {
             "outlinewidth": 0,
             "ticks": ""
            },
            "type": "choropleth"
           }
          ],
          "contour": [
           {
            "colorbar": {
             "outlinewidth": 0,
             "ticks": ""
            },
            "colorscale": [
             [
              0,
              "#0d0887"
             ],
             [
              0.1111111111111111,
              "#46039f"
             ],
             [
              0.2222222222222222,
              "#7201a8"
             ],
             [
              0.3333333333333333,
              "#9c179e"
             ],
             [
              0.4444444444444444,
              "#bd3786"
             ],
             [
              0.5555555555555556,
              "#d8576b"
             ],
             [
              0.6666666666666666,
              "#ed7953"
             ],
             [
              0.7777777777777778,
              "#fb9f3a"
             ],
             [
              0.8888888888888888,
              "#fdca26"
             ],
             [
              1,
              "#f0f921"
             ]
            ],
            "type": "contour"
           }
          ],
          "contourcarpet": [
           {
            "colorbar": {
             "outlinewidth": 0,
             "ticks": ""
            },
            "type": "contourcarpet"
           }
          ],
          "heatmap": [
           {
            "colorbar": {
             "outlinewidth": 0,
             "ticks": ""
            },
            "colorscale": [
             [
              0,
              "#0d0887"
             ],
             [
              0.1111111111111111,
              "#46039f"
             ],
             [
              0.2222222222222222,
              "#7201a8"
             ],
             [
              0.3333333333333333,
              "#9c179e"
             ],
             [
              0.4444444444444444,
              "#bd3786"
             ],
             [
              0.5555555555555556,
              "#d8576b"
             ],
             [
              0.6666666666666666,
              "#ed7953"
             ],
             [
              0.7777777777777778,
              "#fb9f3a"
             ],
             [
              0.8888888888888888,
              "#fdca26"
             ],
             [
              1,
              "#f0f921"
             ]
            ],
            "type": "heatmap"
           }
          ],
          "heatmapgl": [
           {
            "colorbar": {
             "outlinewidth": 0,
             "ticks": ""
            },
            "colorscale": [
             [
              0,
              "#0d0887"
             ],
             [
              0.1111111111111111,
              "#46039f"
             ],
             [
              0.2222222222222222,
              "#7201a8"
             ],
             [
              0.3333333333333333,
              "#9c179e"
             ],
             [
              0.4444444444444444,
              "#bd3786"
             ],
             [
              0.5555555555555556,
              "#d8576b"
             ],
             [
              0.6666666666666666,
              "#ed7953"
             ],
             [
              0.7777777777777778,
              "#fb9f3a"
             ],
             [
              0.8888888888888888,
              "#fdca26"
             ],
             [
              1,
              "#f0f921"
             ]
            ],
            "type": "heatmapgl"
           }
          ],
          "histogram": [
           {
            "marker": {
             "pattern": {
              "fillmode": "overlay",
              "size": 10,
              "solidity": 0.2
             }
            },
            "type": "histogram"
           }
          ],
          "histogram2d": [
           {
            "colorbar": {
             "outlinewidth": 0,
             "ticks": ""
            },
            "colorscale": [
             [
              0,
              "#0d0887"
             ],
             [
              0.1111111111111111,
              "#46039f"
             ],
             [
              0.2222222222222222,
              "#7201a8"
             ],
             [
              0.3333333333333333,
              "#9c179e"
             ],
             [
              0.4444444444444444,
              "#bd3786"
             ],
             [
              0.5555555555555556,
              "#d8576b"
             ],
             [
              0.6666666666666666,
              "#ed7953"
             ],
             [
              0.7777777777777778,
              "#fb9f3a"
             ],
             [
              0.8888888888888888,
              "#fdca26"
             ],
             [
              1,
              "#f0f921"
             ]
            ],
            "type": "histogram2d"
           }
          ],
          "histogram2dcontour": [
           {
            "colorbar": {
             "outlinewidth": 0,
             "ticks": ""
            },
            "colorscale": [
             [
              0,
              "#0d0887"
             ],
             [
              0.1111111111111111,
              "#46039f"
             ],
             [
              0.2222222222222222,
              "#7201a8"
             ],
             [
              0.3333333333333333,
              "#9c179e"
             ],
             [
              0.4444444444444444,
              "#bd3786"
             ],
             [
              0.5555555555555556,
              "#d8576b"
             ],
             [
              0.6666666666666666,
              "#ed7953"
             ],
             [
              0.7777777777777778,
              "#fb9f3a"
             ],
             [
              0.8888888888888888,
              "#fdca26"
             ],
             [
              1,
              "#f0f921"
             ]
            ],
            "type": "histogram2dcontour"
           }
          ],
          "mesh3d": [
           {
            "colorbar": {
             "outlinewidth": 0,
             "ticks": ""
            },
            "type": "mesh3d"
           }
          ],
          "parcoords": [
           {
            "line": {
             "colorbar": {
              "outlinewidth": 0,
              "ticks": ""
             }
            },
            "type": "parcoords"
           }
          ],
          "pie": [
           {
            "automargin": true,
            "type": "pie"
           }
          ],
          "scatter": [
           {
            "fillpattern": {
             "fillmode": "overlay",
             "size": 10,
             "solidity": 0.2
            },
            "type": "scatter"
           }
          ],
          "scatter3d": [
           {
            "line": {
             "colorbar": {
              "outlinewidth": 0,
              "ticks": ""
             }
            },
            "marker": {
             "colorbar": {
              "outlinewidth": 0,
              "ticks": ""
             }
            },
            "type": "scatter3d"
           }
          ],
          "scattercarpet": [
           {
            "marker": {
             "colorbar": {
              "outlinewidth": 0,
              "ticks": ""
             }
            },
            "type": "scattercarpet"
           }
          ],
          "scattergeo": [
           {
            "marker": {
             "colorbar": {
              "outlinewidth": 0,
              "ticks": ""
             }
            },
            "type": "scattergeo"
           }
          ],
          "scattergl": [
           {
            "marker": {
             "colorbar": {
              "outlinewidth": 0,
              "ticks": ""
             }
            },
            "type": "scattergl"
           }
          ],
          "scattermapbox": [
           {
            "marker": {
             "colorbar": {
              "outlinewidth": 0,
              "ticks": ""
             }
            },
            "type": "scattermapbox"
           }
          ],
          "scatterpolar": [
           {
            "marker": {
             "colorbar": {
              "outlinewidth": 0,
              "ticks": ""
             }
            },
            "type": "scatterpolar"
           }
          ],
          "scatterpolargl": [
           {
            "marker": {
             "colorbar": {
              "outlinewidth": 0,
              "ticks": ""
             }
            },
            "type": "scatterpolargl"
           }
          ],
          "scatterternary": [
           {
            "marker": {
             "colorbar": {
              "outlinewidth": 0,
              "ticks": ""
             }
            },
            "type": "scatterternary"
           }
          ],
          "surface": [
           {
            "colorbar": {
             "outlinewidth": 0,
             "ticks": ""
            },
            "colorscale": [
             [
              0,
              "#0d0887"
             ],
             [
              0.1111111111111111,
              "#46039f"
             ],
             [
              0.2222222222222222,
              "#7201a8"
             ],
             [
              0.3333333333333333,
              "#9c179e"
             ],
             [
              0.4444444444444444,
              "#bd3786"
             ],
             [
              0.5555555555555556,
              "#d8576b"
             ],
             [
              0.6666666666666666,
              "#ed7953"
             ],
             [
              0.7777777777777778,
              "#fb9f3a"
             ],
             [
              0.8888888888888888,
              "#fdca26"
             ],
             [
              1,
              "#f0f921"
             ]
            ],
            "type": "surface"
           }
          ],
          "table": [
           {
            "cells": {
             "fill": {
              "color": "#EBF0F8"
             },
             "line": {
              "color": "white"
             }
            },
            "header": {
             "fill": {
              "color": "#C8D4E3"
             },
             "line": {
              "color": "white"
             }
            },
            "type": "table"
           }
          ]
         },
         "layout": {
          "annotationdefaults": {
           "arrowcolor": "#2a3f5f",
           "arrowhead": 0,
           "arrowwidth": 1
          },
          "autotypenumbers": "strict",
          "coloraxis": {
           "colorbar": {
            "outlinewidth": 0,
            "ticks": ""
           }
          },
          "colorscale": {
           "diverging": [
            [
             0,
             "#8e0152"
            ],
            [
             0.1,
             "#c51b7d"
            ],
            [
             0.2,
             "#de77ae"
            ],
            [
             0.3,
             "#f1b6da"
            ],
            [
             0.4,
             "#fde0ef"
            ],
            [
             0.5,
             "#f7f7f7"
            ],
            [
             0.6,
             "#e6f5d0"
            ],
            [
             0.7,
             "#b8e186"
            ],
            [
             0.8,
             "#7fbc41"
            ],
            [
             0.9,
             "#4d9221"
            ],
            [
             1,
             "#276419"
            ]
           ],
           "sequential": [
            [
             0,
             "#0d0887"
            ],
            [
             0.1111111111111111,
             "#46039f"
            ],
            [
             0.2222222222222222,
             "#7201a8"
            ],
            [
             0.3333333333333333,
             "#9c179e"
            ],
            [
             0.4444444444444444,
             "#bd3786"
            ],
            [
             0.5555555555555556,
             "#d8576b"
            ],
            [
             0.6666666666666666,
             "#ed7953"
            ],
            [
             0.7777777777777778,
             "#fb9f3a"
            ],
            [
             0.8888888888888888,
             "#fdca26"
            ],
            [
             1,
             "#f0f921"
            ]
           ],
           "sequentialminus": [
            [
             0,
             "#0d0887"
            ],
            [
             0.1111111111111111,
             "#46039f"
            ],
            [
             0.2222222222222222,
             "#7201a8"
            ],
            [
             0.3333333333333333,
             "#9c179e"
            ],
            [
             0.4444444444444444,
             "#bd3786"
            ],
            [
             0.5555555555555556,
             "#d8576b"
            ],
            [
             0.6666666666666666,
             "#ed7953"
            ],
            [
             0.7777777777777778,
             "#fb9f3a"
            ],
            [
             0.8888888888888888,
             "#fdca26"
            ],
            [
             1,
             "#f0f921"
            ]
           ]
          },
          "colorway": [
           "#636efa",
           "#EF553B",
           "#00cc96",
           "#ab63fa",
           "#FFA15A",
           "#19d3f3",
           "#FF6692",
           "#B6E880",
           "#FF97FF",
           "#FECB52"
          ],
          "font": {
           "color": "#2a3f5f"
          },
          "geo": {
           "bgcolor": "white",
           "lakecolor": "white",
           "landcolor": "#E5ECF6",
           "showlakes": true,
           "showland": true,
           "subunitcolor": "white"
          },
          "hoverlabel": {
           "align": "left"
          },
          "hovermode": "closest",
          "mapbox": {
           "style": "light"
          },
          "paper_bgcolor": "white",
          "plot_bgcolor": "#E5ECF6",
          "polar": {
           "angularaxis": {
            "gridcolor": "white",
            "linecolor": "white",
            "ticks": ""
           },
           "bgcolor": "#E5ECF6",
           "radialaxis": {
            "gridcolor": "white",
            "linecolor": "white",
            "ticks": ""
           }
          },
          "scene": {
           "xaxis": {
            "backgroundcolor": "#E5ECF6",
            "gridcolor": "white",
            "gridwidth": 2,
            "linecolor": "white",
            "showbackground": true,
            "ticks": "",
            "zerolinecolor": "white"
           },
           "yaxis": {
            "backgroundcolor": "#E5ECF6",
            "gridcolor": "white",
            "gridwidth": 2,
            "linecolor": "white",
            "showbackground": true,
            "ticks": "",
            "zerolinecolor": "white"
           },
           "zaxis": {
            "backgroundcolor": "#E5ECF6",
            "gridcolor": "white",
            "gridwidth": 2,
            "linecolor": "white",
            "showbackground": true,
            "ticks": "",
            "zerolinecolor": "white"
           }
          },
          "shapedefaults": {
           "line": {
            "color": "#2a3f5f"
           }
          },
          "ternary": {
           "aaxis": {
            "gridcolor": "white",
            "linecolor": "white",
            "ticks": ""
           },
           "baxis": {
            "gridcolor": "white",
            "linecolor": "white",
            "ticks": ""
           },
           "bgcolor": "#E5ECF6",
           "caxis": {
            "gridcolor": "white",
            "linecolor": "white",
            "ticks": ""
           }
          },
          "title": {
           "x": 0.05
          },
          "xaxis": {
           "automargin": true,
           "gridcolor": "white",
           "linecolor": "white",
           "ticks": "",
           "title": {
            "standoff": 15
           },
           "zerolinecolor": "white",
           "zerolinewidth": 2
          },
          "yaxis": {
           "automargin": true,
           "gridcolor": "white",
           "linecolor": "white",
           "ticks": "",
           "title": {
            "standoff": 15
           },
           "zerolinecolor": "white",
           "zerolinewidth": 2
          }
         }
        },
        "title": {
         "text": "Lesson Hours vs. Exam Performance and Dropout Rates"
        },
        "xaxis": {
         "title": {
          "text": "Average Investment"
         }
        },
        "yaxis": {
         "title": {
          "text": "Percentage"
         }
        }
       }
      }
     },
     "metadata": {},
     "output_type": "display_data"
    }
   ],
   "source": [
    "import plotly.express as px\n",
    "\n",
    "fig1 = px.scatter(test2, x='Allg bildende Schulen', y='avg_abitur_graduation_rate_in_%', trendline='ols', width=10.5*100, height=6.7*100)\n",
    "fig1.update_layout(xaxis_title='Investment in €', yaxis_title='Abitur graduation rate in %')\n",
    "\n",
    "#title='Correlation between Investment and Abitur Graduation Rate', \n",
    "# fig2 = px.scatter(avg_key_indicator, x='Allg bildende Schulen', y='avg_abitur_graduation_rate_perc', trendline='ols')\n",
    "# fig2.update_layout(title='Correlation between Lesson Hours and Dropout Rate', xaxis_title='Investment', yaxis_title='Dropout Rate')\n",
    "\n",
    "fig1.show()\n",
    "# fig2.show()\n",
    "\n",
    "import plotly.graph_objects as go\n",
    "\n",
    "fig = go.Figure()\n",
    "\n",
    "# add scatter plot for avg_abitur_graduation_rate_perc\n",
    "# fig.add_trace(go.Scatter(x=avg_key_indicator['Allg bildende Schulen'], y=avg_key_indicator['avg_abitur_graduation_rate_perc'], mode='markers', name='Avg Dropout Rate', color='Federal States'))\n",
    "\n",
    "# add scatter plot for avg_abitur_graduation_rate_in_%\n",
    "fig.add_trace(go.Scatter(x=test2['Allg bildende Schulen'], y=test2['avg_abitur_graduation_rate_in_%'], mode='markers', name='avg_abitur_graduation_rate_in_%'))\n",
    "\n",
    "# update layout\n",
    "fig.update_layout(title='Lesson Hours vs. Exam Performance and Dropout Rates', xaxis_title='Average Investment', yaxis_title='Percentage', legend=dict(yanchor='top', y=0.99, xanchor='left', x=0.01))\n",
    "\n",
    "fig.show()"
   ]
  },
  {
   "cell_type": "code",
   "execution_count": 31,
   "metadata": {},
   "outputs": [],
   "source": [
    "# correlation student-teacher-ratio and graduation rate\n",
    "\n",
    "test3 = df_invest_graduation_teacher.copy()\n",
    "\n",
    "test3 = test3[['Allg bildende Schulen', 'avg_abitur_graduation_rate_in_%', 'avg_students_per_teacher']].astype(float)\n"
   ]
  },
  {
   "cell_type": "code",
   "execution_count": 36,
   "metadata": {},
   "outputs": [
    {
     "data": {
      "application/vnd.plotly.v1+json": {
       "config": {
        "plotlyServerURL": "https://plot.ly"
       },
       "data": [
        {
         "hovertemplate": "avg_students_per_teacher=%{x}<br>avg_abitur_graduation_rate_in_%=%{y}<extra></extra>",
         "legendgroup": "",
         "marker": {
          "color": "#636efa",
          "symbol": "circle"
         },
         "mode": "markers",
         "name": "",
         "orientation": "v",
         "showlegend": false,
         "type": "scatter",
         "x": [
          13.489715413533665,
          12.740850441969968,
          12.755886508113008,
          13.271497416495238,
          12.67562530099562,
          13.535905527707085,
          13.64207563012106,
          13.017752581479169,
          13.788068493875818,
          13.605825176520389,
          12.537490016812203,
          13.31464648692279,
          12.554044898964571,
          14.229406459756554,
          12.133921854354698
         ],
         "xaxis": "x",
         "y": [
          28.895290017225904,
          43.28447092673861,
          40.182323641394,
          37.32997088213473,
          54.24523456967322,
          32.747806071506666,
          34.34938184664562,
          30.60428169923028,
          38.5895213645844,
          33.98267875622284,
          33.65534869982298,
          30.95182413337182,
          28.264785459722734,
          33.97258531794397,
          32.85486006493966
         ],
         "yaxis": "y"
        },
        {
         "hovertemplate": "<b>OLS trendline</b><br>avg_abitur_graduation_rate_in_% = -2.1299 * avg_students_per_teacher + 63.6083<br>R<sup>2</sup>=0.034558<br><br>avg_students_per_teacher=%{x}<br>avg_abitur_graduation_rate_in_%=%{y} <b>(trend)</b><extra></extra>",
         "legendgroup": "",
         "marker": {
          "color": "#636efa",
          "symbol": "circle"
         },
         "mode": "lines",
         "name": "",
         "showlegend": false,
         "type": "scatter",
         "x": [
          12.133921854354698,
          12.537490016812203,
          12.554044898964571,
          12.67562530099562,
          12.740850441969968,
          12.755886508113008,
          13.017752581479169,
          13.271497416495238,
          13.31464648692279,
          13.489715413533665,
          13.535905527707085,
          13.605825176520389,
          13.64207563012106,
          13.788068493875818,
          14.229406459756554
         ],
         "xaxis": "x",
         "y": [
          37.76423530075581,
          36.904674925142245,
          36.869414659232085,
          36.610460396337125,
          36.47153728026684,
          36.43951194263128,
          35.881763038425376,
          35.34131157077675,
          35.24940830725312,
          34.876528763436895,
          34.77814837672163,
          34.6292264220492,
          34.55201653184525,
          34.24106613367267,
          33.30105980261102
         ],
         "yaxis": "y"
        }
       ],
       "layout": {
        "height": 670,
        "legend": {
         "tracegroupgap": 0
        },
        "margin": {
         "t": 60
        },
        "template": {
         "data": {
          "bar": [
           {
            "error_x": {
             "color": "#2a3f5f"
            },
            "error_y": {
             "color": "#2a3f5f"
            },
            "marker": {
             "line": {
              "color": "#E5ECF6",
              "width": 0.5
             },
             "pattern": {
              "fillmode": "overlay",
              "size": 10,
              "solidity": 0.2
             }
            },
            "type": "bar"
           }
          ],
          "barpolar": [
           {
            "marker": {
             "line": {
              "color": "#E5ECF6",
              "width": 0.5
             },
             "pattern": {
              "fillmode": "overlay",
              "size": 10,
              "solidity": 0.2
             }
            },
            "type": "barpolar"
           }
          ],
          "carpet": [
           {
            "aaxis": {
             "endlinecolor": "#2a3f5f",
             "gridcolor": "white",
             "linecolor": "white",
             "minorgridcolor": "white",
             "startlinecolor": "#2a3f5f"
            },
            "baxis": {
             "endlinecolor": "#2a3f5f",
             "gridcolor": "white",
             "linecolor": "white",
             "minorgridcolor": "white",
             "startlinecolor": "#2a3f5f"
            },
            "type": "carpet"
           }
          ],
          "choropleth": [
           {
            "colorbar": {
             "outlinewidth": 0,
             "ticks": ""
            },
            "type": "choropleth"
           }
          ],
          "contour": [
           {
            "colorbar": {
             "outlinewidth": 0,
             "ticks": ""
            },
            "colorscale": [
             [
              0,
              "#0d0887"
             ],
             [
              0.1111111111111111,
              "#46039f"
             ],
             [
              0.2222222222222222,
              "#7201a8"
             ],
             [
              0.3333333333333333,
              "#9c179e"
             ],
             [
              0.4444444444444444,
              "#bd3786"
             ],
             [
              0.5555555555555556,
              "#d8576b"
             ],
             [
              0.6666666666666666,
              "#ed7953"
             ],
             [
              0.7777777777777778,
              "#fb9f3a"
             ],
             [
              0.8888888888888888,
              "#fdca26"
             ],
             [
              1,
              "#f0f921"
             ]
            ],
            "type": "contour"
           }
          ],
          "contourcarpet": [
           {
            "colorbar": {
             "outlinewidth": 0,
             "ticks": ""
            },
            "type": "contourcarpet"
           }
          ],
          "heatmap": [
           {
            "colorbar": {
             "outlinewidth": 0,
             "ticks": ""
            },
            "colorscale": [
             [
              0,
              "#0d0887"
             ],
             [
              0.1111111111111111,
              "#46039f"
             ],
             [
              0.2222222222222222,
              "#7201a8"
             ],
             [
              0.3333333333333333,
              "#9c179e"
             ],
             [
              0.4444444444444444,
              "#bd3786"
             ],
             [
              0.5555555555555556,
              "#d8576b"
             ],
             [
              0.6666666666666666,
              "#ed7953"
             ],
             [
              0.7777777777777778,
              "#fb9f3a"
             ],
             [
              0.8888888888888888,
              "#fdca26"
             ],
             [
              1,
              "#f0f921"
             ]
            ],
            "type": "heatmap"
           }
          ],
          "heatmapgl": [
           {
            "colorbar": {
             "outlinewidth": 0,
             "ticks": ""
            },
            "colorscale": [
             [
              0,
              "#0d0887"
             ],
             [
              0.1111111111111111,
              "#46039f"
             ],
             [
              0.2222222222222222,
              "#7201a8"
             ],
             [
              0.3333333333333333,
              "#9c179e"
             ],
             [
              0.4444444444444444,
              "#bd3786"
             ],
             [
              0.5555555555555556,
              "#d8576b"
             ],
             [
              0.6666666666666666,
              "#ed7953"
             ],
             [
              0.7777777777777778,
              "#fb9f3a"
             ],
             [
              0.8888888888888888,
              "#fdca26"
             ],
             [
              1,
              "#f0f921"
             ]
            ],
            "type": "heatmapgl"
           }
          ],
          "histogram": [
           {
            "marker": {
             "pattern": {
              "fillmode": "overlay",
              "size": 10,
              "solidity": 0.2
             }
            },
            "type": "histogram"
           }
          ],
          "histogram2d": [
           {
            "colorbar": {
             "outlinewidth": 0,
             "ticks": ""
            },
            "colorscale": [
             [
              0,
              "#0d0887"
             ],
             [
              0.1111111111111111,
              "#46039f"
             ],
             [
              0.2222222222222222,
              "#7201a8"
             ],
             [
              0.3333333333333333,
              "#9c179e"
             ],
             [
              0.4444444444444444,
              "#bd3786"
             ],
             [
              0.5555555555555556,
              "#d8576b"
             ],
             [
              0.6666666666666666,
              "#ed7953"
             ],
             [
              0.7777777777777778,
              "#fb9f3a"
             ],
             [
              0.8888888888888888,
              "#fdca26"
             ],
             [
              1,
              "#f0f921"
             ]
            ],
            "type": "histogram2d"
           }
          ],
          "histogram2dcontour": [
           {
            "colorbar": {
             "outlinewidth": 0,
             "ticks": ""
            },
            "colorscale": [
             [
              0,
              "#0d0887"
             ],
             [
              0.1111111111111111,
              "#46039f"
             ],
             [
              0.2222222222222222,
              "#7201a8"
             ],
             [
              0.3333333333333333,
              "#9c179e"
             ],
             [
              0.4444444444444444,
              "#bd3786"
             ],
             [
              0.5555555555555556,
              "#d8576b"
             ],
             [
              0.6666666666666666,
              "#ed7953"
             ],
             [
              0.7777777777777778,
              "#fb9f3a"
             ],
             [
              0.8888888888888888,
              "#fdca26"
             ],
             [
              1,
              "#f0f921"
             ]
            ],
            "type": "histogram2dcontour"
           }
          ],
          "mesh3d": [
           {
            "colorbar": {
             "outlinewidth": 0,
             "ticks": ""
            },
            "type": "mesh3d"
           }
          ],
          "parcoords": [
           {
            "line": {
             "colorbar": {
              "outlinewidth": 0,
              "ticks": ""
             }
            },
            "type": "parcoords"
           }
          ],
          "pie": [
           {
            "automargin": true,
            "type": "pie"
           }
          ],
          "scatter": [
           {
            "fillpattern": {
             "fillmode": "overlay",
             "size": 10,
             "solidity": 0.2
            },
            "type": "scatter"
           }
          ],
          "scatter3d": [
           {
            "line": {
             "colorbar": {
              "outlinewidth": 0,
              "ticks": ""
             }
            },
            "marker": {
             "colorbar": {
              "outlinewidth": 0,
              "ticks": ""
             }
            },
            "type": "scatter3d"
           }
          ],
          "scattercarpet": [
           {
            "marker": {
             "colorbar": {
              "outlinewidth": 0,
              "ticks": ""
             }
            },
            "type": "scattercarpet"
           }
          ],
          "scattergeo": [
           {
            "marker": {
             "colorbar": {
              "outlinewidth": 0,
              "ticks": ""
             }
            },
            "type": "scattergeo"
           }
          ],
          "scattergl": [
           {
            "marker": {
             "colorbar": {
              "outlinewidth": 0,
              "ticks": ""
             }
            },
            "type": "scattergl"
           }
          ],
          "scattermapbox": [
           {
            "marker": {
             "colorbar": {
              "outlinewidth": 0,
              "ticks": ""
             }
            },
            "type": "scattermapbox"
           }
          ],
          "scatterpolar": [
           {
            "marker": {
             "colorbar": {
              "outlinewidth": 0,
              "ticks": ""
             }
            },
            "type": "scatterpolar"
           }
          ],
          "scatterpolargl": [
           {
            "marker": {
             "colorbar": {
              "outlinewidth": 0,
              "ticks": ""
             }
            },
            "type": "scatterpolargl"
           }
          ],
          "scatterternary": [
           {
            "marker": {
             "colorbar": {
              "outlinewidth": 0,
              "ticks": ""
             }
            },
            "type": "scatterternary"
           }
          ],
          "surface": [
           {
            "colorbar": {
             "outlinewidth": 0,
             "ticks": ""
            },
            "colorscale": [
             [
              0,
              "#0d0887"
             ],
             [
              0.1111111111111111,
              "#46039f"
             ],
             [
              0.2222222222222222,
              "#7201a8"
             ],
             [
              0.3333333333333333,
              "#9c179e"
             ],
             [
              0.4444444444444444,
              "#bd3786"
             ],
             [
              0.5555555555555556,
              "#d8576b"
             ],
             [
              0.6666666666666666,
              "#ed7953"
             ],
             [
              0.7777777777777778,
              "#fb9f3a"
             ],
             [
              0.8888888888888888,
              "#fdca26"
             ],
             [
              1,
              "#f0f921"
             ]
            ],
            "type": "surface"
           }
          ],
          "table": [
           {
            "cells": {
             "fill": {
              "color": "#EBF0F8"
             },
             "line": {
              "color": "white"
             }
            },
            "header": {
             "fill": {
              "color": "#C8D4E3"
             },
             "line": {
              "color": "white"
             }
            },
            "type": "table"
           }
          ]
         },
         "layout": {
          "annotationdefaults": {
           "arrowcolor": "#2a3f5f",
           "arrowhead": 0,
           "arrowwidth": 1
          },
          "autotypenumbers": "strict",
          "coloraxis": {
           "colorbar": {
            "outlinewidth": 0,
            "ticks": ""
           }
          },
          "colorscale": {
           "diverging": [
            [
             0,
             "#8e0152"
            ],
            [
             0.1,
             "#c51b7d"
            ],
            [
             0.2,
             "#de77ae"
            ],
            [
             0.3,
             "#f1b6da"
            ],
            [
             0.4,
             "#fde0ef"
            ],
            [
             0.5,
             "#f7f7f7"
            ],
            [
             0.6,
             "#e6f5d0"
            ],
            [
             0.7,
             "#b8e186"
            ],
            [
             0.8,
             "#7fbc41"
            ],
            [
             0.9,
             "#4d9221"
            ],
            [
             1,
             "#276419"
            ]
           ],
           "sequential": [
            [
             0,
             "#0d0887"
            ],
            [
             0.1111111111111111,
             "#46039f"
            ],
            [
             0.2222222222222222,
             "#7201a8"
            ],
            [
             0.3333333333333333,
             "#9c179e"
            ],
            [
             0.4444444444444444,
             "#bd3786"
            ],
            [
             0.5555555555555556,
             "#d8576b"
            ],
            [
             0.6666666666666666,
             "#ed7953"
            ],
            [
             0.7777777777777778,
             "#fb9f3a"
            ],
            [
             0.8888888888888888,
             "#fdca26"
            ],
            [
             1,
             "#f0f921"
            ]
           ],
           "sequentialminus": [
            [
             0,
             "#0d0887"
            ],
            [
             0.1111111111111111,
             "#46039f"
            ],
            [
             0.2222222222222222,
             "#7201a8"
            ],
            [
             0.3333333333333333,
             "#9c179e"
            ],
            [
             0.4444444444444444,
             "#bd3786"
            ],
            [
             0.5555555555555556,
             "#d8576b"
            ],
            [
             0.6666666666666666,
             "#ed7953"
            ],
            [
             0.7777777777777778,
             "#fb9f3a"
            ],
            [
             0.8888888888888888,
             "#fdca26"
            ],
            [
             1,
             "#f0f921"
            ]
           ]
          },
          "colorway": [
           "#636efa",
           "#EF553B",
           "#00cc96",
           "#ab63fa",
           "#FFA15A",
           "#19d3f3",
           "#FF6692",
           "#B6E880",
           "#FF97FF",
           "#FECB52"
          ],
          "font": {
           "color": "#2a3f5f"
          },
          "geo": {
           "bgcolor": "white",
           "lakecolor": "white",
           "landcolor": "#E5ECF6",
           "showlakes": true,
           "showland": true,
           "subunitcolor": "white"
          },
          "hoverlabel": {
           "align": "left"
          },
          "hovermode": "closest",
          "mapbox": {
           "style": "light"
          },
          "paper_bgcolor": "white",
          "plot_bgcolor": "#E5ECF6",
          "polar": {
           "angularaxis": {
            "gridcolor": "white",
            "linecolor": "white",
            "ticks": ""
           },
           "bgcolor": "#E5ECF6",
           "radialaxis": {
            "gridcolor": "white",
            "linecolor": "white",
            "ticks": ""
           }
          },
          "scene": {
           "xaxis": {
            "backgroundcolor": "#E5ECF6",
            "gridcolor": "white",
            "gridwidth": 2,
            "linecolor": "white",
            "showbackground": true,
            "ticks": "",
            "zerolinecolor": "white"
           },
           "yaxis": {
            "backgroundcolor": "#E5ECF6",
            "gridcolor": "white",
            "gridwidth": 2,
            "linecolor": "white",
            "showbackground": true,
            "ticks": "",
            "zerolinecolor": "white"
           },
           "zaxis": {
            "backgroundcolor": "#E5ECF6",
            "gridcolor": "white",
            "gridwidth": 2,
            "linecolor": "white",
            "showbackground": true,
            "ticks": "",
            "zerolinecolor": "white"
           }
          },
          "shapedefaults": {
           "line": {
            "color": "#2a3f5f"
           }
          },
          "ternary": {
           "aaxis": {
            "gridcolor": "white",
            "linecolor": "white",
            "ticks": ""
           },
           "baxis": {
            "gridcolor": "white",
            "linecolor": "white",
            "ticks": ""
           },
           "bgcolor": "#E5ECF6",
           "caxis": {
            "gridcolor": "white",
            "linecolor": "white",
            "ticks": ""
           }
          },
          "title": {
           "x": 0.05
          },
          "xaxis": {
           "automargin": true,
           "gridcolor": "white",
           "linecolor": "white",
           "ticks": "",
           "title": {
            "standoff": 15
           },
           "zerolinecolor": "white",
           "zerolinewidth": 2
          },
          "yaxis": {
           "automargin": true,
           "gridcolor": "white",
           "linecolor": "white",
           "ticks": "",
           "title": {
            "standoff": 15
           },
           "zerolinecolor": "white",
           "zerolinewidth": 2
          }
         }
        },
        "width": 1050,
        "xaxis": {
         "anchor": "y",
         "domain": [
          0,
          1
         ],
         "title": {
          "text": "Student to teacher ratio"
         }
        },
        "yaxis": {
         "anchor": "x",
         "domain": [
          0,
          1
         ],
         "title": {
          "text": "Abitur graduation rate in %"
         }
        }
       }
      }
     },
     "metadata": {},
     "output_type": "display_data"
    },
    {
     "data": {
      "application/vnd.plotly.v1+json": {
       "config": {
        "plotlyServerURL": "https://plot.ly"
       },
       "data": [
        {
         "mode": "markers",
         "name": "avg_abitur_graduation_rate_in_%",
         "type": "scatter",
         "x": [
          13.489715413533665,
          12.740850441969968,
          12.755886508113008,
          13.271497416495238,
          12.67562530099562,
          13.535905527707085,
          13.64207563012106,
          13.017752581479169,
          13.788068493875818,
          13.605825176520389,
          12.537490016812203,
          13.31464648692279,
          12.554044898964571,
          14.229406459756554,
          12.133921854354698
         ],
         "y": [
          28.895290017225904,
          43.28447092673861,
          40.182323641394,
          37.32997088213473,
          54.24523456967322,
          32.747806071506666,
          34.34938184664562,
          30.60428169923028,
          38.5895213645844,
          33.98267875622284,
          33.65534869982298,
          30.95182413337182,
          28.264785459722734,
          33.97258531794397,
          32.85486006493966
         ]
        }
       ],
       "layout": {
        "legend": {
         "x": 0.01,
         "xanchor": "left",
         "y": 0.99,
         "yanchor": "top"
        },
        "template": {
         "data": {
          "bar": [
           {
            "error_x": {
             "color": "#2a3f5f"
            },
            "error_y": {
             "color": "#2a3f5f"
            },
            "marker": {
             "line": {
              "color": "#E5ECF6",
              "width": 0.5
             },
             "pattern": {
              "fillmode": "overlay",
              "size": 10,
              "solidity": 0.2
             }
            },
            "type": "bar"
           }
          ],
          "barpolar": [
           {
            "marker": {
             "line": {
              "color": "#E5ECF6",
              "width": 0.5
             },
             "pattern": {
              "fillmode": "overlay",
              "size": 10,
              "solidity": 0.2
             }
            },
            "type": "barpolar"
           }
          ],
          "carpet": [
           {
            "aaxis": {
             "endlinecolor": "#2a3f5f",
             "gridcolor": "white",
             "linecolor": "white",
             "minorgridcolor": "white",
             "startlinecolor": "#2a3f5f"
            },
            "baxis": {
             "endlinecolor": "#2a3f5f",
             "gridcolor": "white",
             "linecolor": "white",
             "minorgridcolor": "white",
             "startlinecolor": "#2a3f5f"
            },
            "type": "carpet"
           }
          ],
          "choropleth": [
           {
            "colorbar": {
             "outlinewidth": 0,
             "ticks": ""
            },
            "type": "choropleth"
           }
          ],
          "contour": [
           {
            "colorbar": {
             "outlinewidth": 0,
             "ticks": ""
            },
            "colorscale": [
             [
              0,
              "#0d0887"
             ],
             [
              0.1111111111111111,
              "#46039f"
             ],
             [
              0.2222222222222222,
              "#7201a8"
             ],
             [
              0.3333333333333333,
              "#9c179e"
             ],
             [
              0.4444444444444444,
              "#bd3786"
             ],
             [
              0.5555555555555556,
              "#d8576b"
             ],
             [
              0.6666666666666666,
              "#ed7953"
             ],
             [
              0.7777777777777778,
              "#fb9f3a"
             ],
             [
              0.8888888888888888,
              "#fdca26"
             ],
             [
              1,
              "#f0f921"
             ]
            ],
            "type": "contour"
           }
          ],
          "contourcarpet": [
           {
            "colorbar": {
             "outlinewidth": 0,
             "ticks": ""
            },
            "type": "contourcarpet"
           }
          ],
          "heatmap": [
           {
            "colorbar": {
             "outlinewidth": 0,
             "ticks": ""
            },
            "colorscale": [
             [
              0,
              "#0d0887"
             ],
             [
              0.1111111111111111,
              "#46039f"
             ],
             [
              0.2222222222222222,
              "#7201a8"
             ],
             [
              0.3333333333333333,
              "#9c179e"
             ],
             [
              0.4444444444444444,
              "#bd3786"
             ],
             [
              0.5555555555555556,
              "#d8576b"
             ],
             [
              0.6666666666666666,
              "#ed7953"
             ],
             [
              0.7777777777777778,
              "#fb9f3a"
             ],
             [
              0.8888888888888888,
              "#fdca26"
             ],
             [
              1,
              "#f0f921"
             ]
            ],
            "type": "heatmap"
           }
          ],
          "heatmapgl": [
           {
            "colorbar": {
             "outlinewidth": 0,
             "ticks": ""
            },
            "colorscale": [
             [
              0,
              "#0d0887"
             ],
             [
              0.1111111111111111,
              "#46039f"
             ],
             [
              0.2222222222222222,
              "#7201a8"
             ],
             [
              0.3333333333333333,
              "#9c179e"
             ],
             [
              0.4444444444444444,
              "#bd3786"
             ],
             [
              0.5555555555555556,
              "#d8576b"
             ],
             [
              0.6666666666666666,
              "#ed7953"
             ],
             [
              0.7777777777777778,
              "#fb9f3a"
             ],
             [
              0.8888888888888888,
              "#fdca26"
             ],
             [
              1,
              "#f0f921"
             ]
            ],
            "type": "heatmapgl"
           }
          ],
          "histogram": [
           {
            "marker": {
             "pattern": {
              "fillmode": "overlay",
              "size": 10,
              "solidity": 0.2
             }
            },
            "type": "histogram"
           }
          ],
          "histogram2d": [
           {
            "colorbar": {
             "outlinewidth": 0,
             "ticks": ""
            },
            "colorscale": [
             [
              0,
              "#0d0887"
             ],
             [
              0.1111111111111111,
              "#46039f"
             ],
             [
              0.2222222222222222,
              "#7201a8"
             ],
             [
              0.3333333333333333,
              "#9c179e"
             ],
             [
              0.4444444444444444,
              "#bd3786"
             ],
             [
              0.5555555555555556,
              "#d8576b"
             ],
             [
              0.6666666666666666,
              "#ed7953"
             ],
             [
              0.7777777777777778,
              "#fb9f3a"
             ],
             [
              0.8888888888888888,
              "#fdca26"
             ],
             [
              1,
              "#f0f921"
             ]
            ],
            "type": "histogram2d"
           }
          ],
          "histogram2dcontour": [
           {
            "colorbar": {
             "outlinewidth": 0,
             "ticks": ""
            },
            "colorscale": [
             [
              0,
              "#0d0887"
             ],
             [
              0.1111111111111111,
              "#46039f"
             ],
             [
              0.2222222222222222,
              "#7201a8"
             ],
             [
              0.3333333333333333,
              "#9c179e"
             ],
             [
              0.4444444444444444,
              "#bd3786"
             ],
             [
              0.5555555555555556,
              "#d8576b"
             ],
             [
              0.6666666666666666,
              "#ed7953"
             ],
             [
              0.7777777777777778,
              "#fb9f3a"
             ],
             [
              0.8888888888888888,
              "#fdca26"
             ],
             [
              1,
              "#f0f921"
             ]
            ],
            "type": "histogram2dcontour"
           }
          ],
          "mesh3d": [
           {
            "colorbar": {
             "outlinewidth": 0,
             "ticks": ""
            },
            "type": "mesh3d"
           }
          ],
          "parcoords": [
           {
            "line": {
             "colorbar": {
              "outlinewidth": 0,
              "ticks": ""
             }
            },
            "type": "parcoords"
           }
          ],
          "pie": [
           {
            "automargin": true,
            "type": "pie"
           }
          ],
          "scatter": [
           {
            "fillpattern": {
             "fillmode": "overlay",
             "size": 10,
             "solidity": 0.2
            },
            "type": "scatter"
           }
          ],
          "scatter3d": [
           {
            "line": {
             "colorbar": {
              "outlinewidth": 0,
              "ticks": ""
             }
            },
            "marker": {
             "colorbar": {
              "outlinewidth": 0,
              "ticks": ""
             }
            },
            "type": "scatter3d"
           }
          ],
          "scattercarpet": [
           {
            "marker": {
             "colorbar": {
              "outlinewidth": 0,
              "ticks": ""
             }
            },
            "type": "scattercarpet"
           }
          ],
          "scattergeo": [
           {
            "marker": {
             "colorbar": {
              "outlinewidth": 0,
              "ticks": ""
             }
            },
            "type": "scattergeo"
           }
          ],
          "scattergl": [
           {
            "marker": {
             "colorbar": {
              "outlinewidth": 0,
              "ticks": ""
             }
            },
            "type": "scattergl"
           }
          ],
          "scattermapbox": [
           {
            "marker": {
             "colorbar": {
              "outlinewidth": 0,
              "ticks": ""
             }
            },
            "type": "scattermapbox"
           }
          ],
          "scatterpolar": [
           {
            "marker": {
             "colorbar": {
              "outlinewidth": 0,
              "ticks": ""
             }
            },
            "type": "scatterpolar"
           }
          ],
          "scatterpolargl": [
           {
            "marker": {
             "colorbar": {
              "outlinewidth": 0,
              "ticks": ""
             }
            },
            "type": "scatterpolargl"
           }
          ],
          "scatterternary": [
           {
            "marker": {
             "colorbar": {
              "outlinewidth": 0,
              "ticks": ""
             }
            },
            "type": "scatterternary"
           }
          ],
          "surface": [
           {
            "colorbar": {
             "outlinewidth": 0,
             "ticks": ""
            },
            "colorscale": [
             [
              0,
              "#0d0887"
             ],
             [
              0.1111111111111111,
              "#46039f"
             ],
             [
              0.2222222222222222,
              "#7201a8"
             ],
             [
              0.3333333333333333,
              "#9c179e"
             ],
             [
              0.4444444444444444,
              "#bd3786"
             ],
             [
              0.5555555555555556,
              "#d8576b"
             ],
             [
              0.6666666666666666,
              "#ed7953"
             ],
             [
              0.7777777777777778,
              "#fb9f3a"
             ],
             [
              0.8888888888888888,
              "#fdca26"
             ],
             [
              1,
              "#f0f921"
             ]
            ],
            "type": "surface"
           }
          ],
          "table": [
           {
            "cells": {
             "fill": {
              "color": "#EBF0F8"
             },
             "line": {
              "color": "white"
             }
            },
            "header": {
             "fill": {
              "color": "#C8D4E3"
             },
             "line": {
              "color": "white"
             }
            },
            "type": "table"
           }
          ]
         },
         "layout": {
          "annotationdefaults": {
           "arrowcolor": "#2a3f5f",
           "arrowhead": 0,
           "arrowwidth": 1
          },
          "autotypenumbers": "strict",
          "coloraxis": {
           "colorbar": {
            "outlinewidth": 0,
            "ticks": ""
           }
          },
          "colorscale": {
           "diverging": [
            [
             0,
             "#8e0152"
            ],
            [
             0.1,
             "#c51b7d"
            ],
            [
             0.2,
             "#de77ae"
            ],
            [
             0.3,
             "#f1b6da"
            ],
            [
             0.4,
             "#fde0ef"
            ],
            [
             0.5,
             "#f7f7f7"
            ],
            [
             0.6,
             "#e6f5d0"
            ],
            [
             0.7,
             "#b8e186"
            ],
            [
             0.8,
             "#7fbc41"
            ],
            [
             0.9,
             "#4d9221"
            ],
            [
             1,
             "#276419"
            ]
           ],
           "sequential": [
            [
             0,
             "#0d0887"
            ],
            [
             0.1111111111111111,
             "#46039f"
            ],
            [
             0.2222222222222222,
             "#7201a8"
            ],
            [
             0.3333333333333333,
             "#9c179e"
            ],
            [
             0.4444444444444444,
             "#bd3786"
            ],
            [
             0.5555555555555556,
             "#d8576b"
            ],
            [
             0.6666666666666666,
             "#ed7953"
            ],
            [
             0.7777777777777778,
             "#fb9f3a"
            ],
            [
             0.8888888888888888,
             "#fdca26"
            ],
            [
             1,
             "#f0f921"
            ]
           ],
           "sequentialminus": [
            [
             0,
             "#0d0887"
            ],
            [
             0.1111111111111111,
             "#46039f"
            ],
            [
             0.2222222222222222,
             "#7201a8"
            ],
            [
             0.3333333333333333,
             "#9c179e"
            ],
            [
             0.4444444444444444,
             "#bd3786"
            ],
            [
             0.5555555555555556,
             "#d8576b"
            ],
            [
             0.6666666666666666,
             "#ed7953"
            ],
            [
             0.7777777777777778,
             "#fb9f3a"
            ],
            [
             0.8888888888888888,
             "#fdca26"
            ],
            [
             1,
             "#f0f921"
            ]
           ]
          },
          "colorway": [
           "#636efa",
           "#EF553B",
           "#00cc96",
           "#ab63fa",
           "#FFA15A",
           "#19d3f3",
           "#FF6692",
           "#B6E880",
           "#FF97FF",
           "#FECB52"
          ],
          "font": {
           "color": "#2a3f5f"
          },
          "geo": {
           "bgcolor": "white",
           "lakecolor": "white",
           "landcolor": "#E5ECF6",
           "showlakes": true,
           "showland": true,
           "subunitcolor": "white"
          },
          "hoverlabel": {
           "align": "left"
          },
          "hovermode": "closest",
          "mapbox": {
           "style": "light"
          },
          "paper_bgcolor": "white",
          "plot_bgcolor": "#E5ECF6",
          "polar": {
           "angularaxis": {
            "gridcolor": "white",
            "linecolor": "white",
            "ticks": ""
           },
           "bgcolor": "#E5ECF6",
           "radialaxis": {
            "gridcolor": "white",
            "linecolor": "white",
            "ticks": ""
           }
          },
          "scene": {
           "xaxis": {
            "backgroundcolor": "#E5ECF6",
            "gridcolor": "white",
            "gridwidth": 2,
            "linecolor": "white",
            "showbackground": true,
            "ticks": "",
            "zerolinecolor": "white"
           },
           "yaxis": {
            "backgroundcolor": "#E5ECF6",
            "gridcolor": "white",
            "gridwidth": 2,
            "linecolor": "white",
            "showbackground": true,
            "ticks": "",
            "zerolinecolor": "white"
           },
           "zaxis": {
            "backgroundcolor": "#E5ECF6",
            "gridcolor": "white",
            "gridwidth": 2,
            "linecolor": "white",
            "showbackground": true,
            "ticks": "",
            "zerolinecolor": "white"
           }
          },
          "shapedefaults": {
           "line": {
            "color": "#2a3f5f"
           }
          },
          "ternary": {
           "aaxis": {
            "gridcolor": "white",
            "linecolor": "white",
            "ticks": ""
           },
           "baxis": {
            "gridcolor": "white",
            "linecolor": "white",
            "ticks": ""
           },
           "bgcolor": "#E5ECF6",
           "caxis": {
            "gridcolor": "white",
            "linecolor": "white",
            "ticks": ""
           }
          },
          "title": {
           "x": 0.05
          },
          "xaxis": {
           "automargin": true,
           "gridcolor": "white",
           "linecolor": "white",
           "ticks": "",
           "title": {
            "standoff": 15
           },
           "zerolinecolor": "white",
           "zerolinewidth": 2
          },
          "yaxis": {
           "automargin": true,
           "gridcolor": "white",
           "linecolor": "white",
           "ticks": "",
           "title": {
            "standoff": 15
           },
           "zerolinecolor": "white",
           "zerolinewidth": 2
          }
         }
        },
        "title": {
         "text": "Lesson Hours vs. Exam Performance and Dropout Rates"
        },
        "xaxis": {
         "title": {
          "text": "Average Investment"
         }
        },
        "yaxis": {
         "title": {
          "text": "Percentage"
         }
        }
       }
      }
     },
     "metadata": {},
     "output_type": "display_data"
    }
   ],
   "source": [
    "import plotly.express as px\n",
    "\n",
    "fig1 = px.scatter(test3, x='avg_students_per_teacher', y='avg_abitur_graduation_rate_in_%', trendline='ols', width=10.5*100, height=6.7*100)\n",
    "fig1.update_layout(xaxis_title='Student to teacher ratio', yaxis_title='Abitur graduation rate in %')\n",
    "\n",
    "#title='Correlation between Student-Teacher-Ratio and Abitur Graduation Rate', \n",
    "# fig2 = px.scatter(avg_key_indicator, x='avg_students_per_teacher', y='avg_abitur_graduation_rate_perc', trendline='ols')\n",
    "# fig2.update_layout(title='Correlation between Lesson Hours and Dropout Rate', xaxis_title='Investment', yaxis_title='Dropout Rate')\n",
    "\n",
    "fig1.show()\n",
    "# fig2.show()\n",
    "\n",
    "import plotly.graph_objects as go\n",
    "\n",
    "fig = go.Figure()\n",
    "\n",
    "# add scatter plot for avg_abitur_graduation_rate_perc\n",
    "# fig.add_trace(go.Scatter(x=avg_key_indicator['avg_students_per_teacher'], y=avg_key_indicator['avg_abitur_graduation_rate_perc'], mode='markers', name='Avg Dropout Rate', color='Federal States'))\n",
    "\n",
    "# add scatter plot for avg_abitur_graduation_rate_in_%\n",
    "fig.add_trace(go.Scatter(x=test3['avg_students_per_teacher'], y=test3['avg_abitur_graduation_rate_in_%'], mode='markers', name='avg_abitur_graduation_rate_in_%'))\n",
    "\n",
    "# update layout\n",
    "fig.update_layout(title='Lesson Hours vs. Exam Performance and Dropout Rates', xaxis_title='Average Investment', yaxis_title='Percentage', legend=dict(yanchor='top', y=0.99, xanchor='left', x=0.01))\n",
    "\n",
    "fig.show()"
   ]
  },
  {
   "cell_type": "code",
   "execution_count": 33,
   "metadata": {},
   "outputs": [],
   "source": [
    "# fig = plt. figure (figsize= (15, 10))\n",
    "# plt.barh(y=df_avg[\"Federal States\"], width=df_avg[\"avg_abitur_student in €\"], color=\"#ee7a87\", label=\" \")\n",
    "# plt.barh (y=schulform[\"Federal States\"], width=schulform[\"avg_abitur_graduation_rate in %\"], left=schulform[\"avg_abitur_graduation_rate in %\"],color=\"#4682b4\", label=\" \")\n",
    "# plt.xlabel (\" \")"
   ]
  },
  {
   "cell_type": "code",
   "execution_count": 34,
   "metadata": {},
   "outputs": [],
   "source": [
    "# # Step 1: Sort values and select top 4\n",
    "# df1_sorted = df_avg.sort_values(by='avg_abitur_student_in_€', ascending=False)\n",
    "# top4 = df1_sorted.head(5)\n",
    "\n",
    "# # Step 2: Create new dataframe\n",
    "# df_new = pd.DataFrame({'Federal States': top4['Federal States'], 'avg_abitur_student_in_€': top4['avg_abitur_student_in_€']})\n",
    "\n",
    "# # Step 3: Merge dataframes\n",
    "# df_merged = pd.merge(df_new, schulform, on='Federal States')\n",
    "\n",
    "# # Step 4: Create donut plot\n",
    "# labels = df_merged['Federal States']\n",
    "# sizes = df_merged['avg_abitur_student_in_€']\n",
    "# colors = ['#ff9999','#66b3ff','#99ff99','#ffcc99',]\n",
    "\n",
    "# plt.figure(figsize=(13, 7))\n",
    "# fig1, ax1 = plt.subplots()\n",
    "# ax1.pie(sizes, colors=colors, labels=labels, autopct=lambda x: '{:.0f}'.format(x * sum(sizes) / 100), startangle=90, pctdistance=0.85) #autopct='%1.1f%%'\n",
    "# centre_circle = plt.Circle((0,0),0.70,fc='white')\n",
    "# fig = plt.gcf()\n",
    "# fig.gca().add_artist(centre_circle)\n",
    "# ax1.axis('equal')  \n",
    "# plt.tight_layout()\n",
    "# plt.title(' ')\n",
    "# plt.show()\n"
   ]
  },
  {
   "cell_type": "code",
   "execution_count": 35,
   "metadata": {},
   "outputs": [
    {
     "data": {
      "text/plain": [
       "(16, 3)"
      ]
     },
     "execution_count": 35,
     "metadata": {},
     "output_type": "execute_result"
    }
   ],
   "source": [
    "df_merged.shape"
   ]
  }
 ],
 "metadata": {
  "kernelspec": {
   "display_name": "nf_base",
   "language": "python",
   "name": "python3"
  },
  "language_info": {
   "codemirror_mode": {
    "name": "ipython",
    "version": 3
   },
   "file_extension": ".py",
   "mimetype": "text/x-python",
   "name": "python",
   "nbconvert_exporter": "python",
   "pygments_lexer": "ipython3",
   "version": "3.9.16"
  },
  "orig_nbformat": 4
 },
 "nbformat": 4,
 "nbformat_minor": 2
}
